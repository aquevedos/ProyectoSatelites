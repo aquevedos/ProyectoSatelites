{
  "nbformat": 4,
  "nbformat_minor": 0,
  "metadata": {
    "colab": {
      "provenance": [],
      "machine_shape": "hm",
      "gpuType": "A100"
    },
    "kernelspec": {
      "name": "python3",
      "display_name": "Python 3"
    },
    "language_info": {
      "name": "python"
    },
    "accelerator": "GPU"
  },
  "cells": [
    {
      "cell_type": "code",
      "source": [],
      "metadata": {
        "id": "kOmL7udRPiel"
      },
      "execution_count": null,
      "outputs": []
    },
    {
      "cell_type": "code",
      "source": [
        "# prompt: conectar al drive\n",
        "\n",
        "from google.colab import drive\n",
        "drive.mount('/content/drive')\n"
      ],
      "metadata": {
        "colab": {
          "base_uri": "https://localhost:8080/"
        },
        "id": "hiFzUm7OPjHP",
        "outputId": "6837dfe4-5f7c-4830-f39b-6db39b5027a9"
      },
      "execution_count": 1,
      "outputs": [
        {
          "output_type": "stream",
          "name": "stdout",
          "text": [
            "Drive already mounted at /content/drive; to attempt to forcibly remount, call drive.mount(\"/content/drive\", force_remount=True).\n"
          ]
        }
      ]
    },
    {
      "cell_type": "code",
      "source": [
        "#install librerias\n"
      ],
      "metadata": {
        "id": "nw5Il2_f6Hyx"
      },
      "execution_count": null,
      "outputs": []
    },
    {
      "cell_type": "code",
      "execution_count": null,
      "metadata": {
        "id": "2-cXzojTL9tb"
      },
      "outputs": [],
      "source": [
        "!pip install rasterio\n",
        "!python /content/drive/MyDrive/UPCProyecto/utils/divide_mask.py\n",
        "\n",
        "#2m\n",
        "#Total mask tiles saved: 22967\n",
        "#Total empty tiles: 39533"
      ]
    },
    {
      "cell_type": "code",
      "source": [
        "!python /content/drive/MyDrive/UPCProyecto/utils/divide_img.py\n"
      ],
      "metadata": {
        "id": "Dm0u3gaw6-Rx"
      },
      "execution_count": null,
      "outputs": []
    },
    {
      "cell_type": "code",
      "source": [
        "import torch\n",
        "import torch.nn as nn\n",
        "from torch.utils.data import DataLoader\n",
        "from tqdm import tqdm\n"
      ],
      "metadata": {
        "id": "3a1fVL2QNoGN"
      },
      "execution_count": 2,
      "outputs": []
    },
    {
      "cell_type": "code",
      "source": [
        "import sys\n",
        "import os\n",
        "\n",
        "sys.path.append(\"/content/drive/MyDrive/UPCProyecto/\") # Assuming 'utils' is in 'src'\n",
        "\n",
        "from utils.dataset import SegmentationDataset, get_transforms # Now you should be able to import\n",
        "from model import UNet\n",
        "from torch.optim.lr_scheduler import ReduceLROnPlateau\n",
        "import numpy as np\n",
        "import matplotlib.pyplot as plt\n",
        "\n"
      ],
      "metadata": {
        "id": "AFdcK0vNParE"
      },
      "execution_count": 3,
      "outputs": []
    },
    {
      "cell_type": "code",
      "source": [
        "num_classes = 12\n",
        "batch_size = 20\n",
        "epochs = 10\n",
        "lr = 0.0001\n",
        "\n",
        "# Dataset y DataLoader\n",
        "train_images_dir = \"/content/drive/MyDrive/UPCProyecto/Data/img368\"\n",
        "train_masks_dir = \"/content/drive/MyDrive/UPCProyecto/Data/mask368\"\n",
        "train_dataset = SegmentationDataset(train_images_dir, train_masks_dir, transform=get_transforms())\n",
        "train_loader = DataLoader(train_dataset, batch_size=batch_size, shuffle=True)"
      ],
      "metadata": {
        "id": "gBv55iIlS0w4"
      },
      "execution_count": null,
      "outputs": []
    },
    {
      "cell_type": "code",
      "source": [
        "device = torch.device('cuda' if torch.cuda.is_available() else 'cpu')\n",
        "print(f\"Usando dispositivo: {device}\")"
      ],
      "metadata": {
        "colab": {
          "base_uri": "https://localhost:8080/"
        },
        "id": "BxKIBD8oUasq",
        "outputId": "dd8be7a8-8316-496d-d220-24cd7fa0b7b8"
      },
      "execution_count": null,
      "outputs": [
        {
          "output_type": "stream",
          "name": "stdout",
          "text": [
            "Usando dispositivo: cpu\n"
          ]
        }
      ]
    },
    {
      "cell_type": "code",
      "source": [
        "\n",
        "# Normalización de pesos para la función de pérdida (ignorando clases 0)\n",
        "class_weights = torch.ones(num_classes).to(device)\n",
        "class_weights[0] = 0  # Clase \"mar\" ignorada"
      ],
      "metadata": {
        "id": "QnT4oJaAUlom"
      },
      "execution_count": null,
      "outputs": []
    },
    {
      "cell_type": "code",
      "source": [
        "\n",
        "\n",
        "\n",
        "criterion = nn.CrossEntropyLoss(weight=class_weights, ignore_index=0)  # Ignoramos la clase 0\n",
        "\n",
        "# Modelo y optimizador\n",
        "model = UNet(num_classes=num_classes).to(device)\n",
        "optimizer = torch.optim.Adam(model.parameters(), lr=lr)\n",
        "\n",
        "# Scheduler para reducir el learning rate si la pérdida no mejora\n",
        "scheduler = ReduceLROnPlateau(optimizer, mode='min', factor=0.5, patience=3, verbose=True)\n",
        "\n",
        "# Función de entrenamiento\n",
        "def train():\n",
        "    best_loss = float('inf')  # Para rastrear la mejor pérdida\n",
        "\n",
        "    for epoch in range(epochs):\n",
        "        model.train()\n",
        "        running_loss = 0.0\n",
        "        class_correct = torch.zeros(num_classes).to(device)\n",
        "        class_total = torch.zeros(num_classes).to(device)\n",
        "\n",
        "        loop = tqdm(train_loader, desc=f\"Epoch {epoch+1}/{epochs}\", leave=True)\n",
        "        for images, masks in loop:\n",
        "            images, masks = images.to(device), masks.to(device)\n",
        "\n",
        "            # Convertir la clase 41 en 0 para que sea ignorada\n",
        "            #masks[masks == 41] = 0\n",
        "\n",
        "            optimizer.zero_grad()\n",
        "            outputs = model(images)\n",
        "\n",
        "            # Calcular pérdida\n",
        "            loss = criterion(outputs, masks)\n",
        "            loss.backward()\n",
        "            optimizer.step()\n",
        "            running_loss += loss.item()\n",
        "\n",
        "            # Calcular accuracy por clase (sin contar clases 0 y 41)\n",
        "            _, predicted = torch.max(outputs, 1)\n",
        "            for i in range(num_classes):\n",
        "                if i not in [0]:  # Ignorar clases no deseadas\n",
        "                    class_correct[i] += (predicted[masks == i] == i).sum().item()\n",
        "                    class_total[i] += (masks == i).sum().item()\n",
        "\n",
        "            # Actualizar barra de progreso\n",
        "            loop.set_postfix(loss=loss.item())\n",
        "\n",
        "        # Resultados de la época\n",
        "        epoch_loss = running_loss / len(train_loader)\n",
        "        print(f\"Epoch {epoch+1}/{epochs}, Loss: {epoch_loss:.4f}\")\n",
        "\n",
        "        for i in range(num_classes):\n",
        "            if i not in [0] and class_total[i] > 0:\n",
        "                acc = 100 * class_correct[i] / class_total[i]\n",
        "                print(f\"Clase {i}: {acc:.2f}% accuracy\")\n",
        "\n",
        "        # Ajustar el learning rate si la loss no mejora\n",
        "        scheduler.step(epoch_loss)\n",
        "\n",
        "        # Guardar el mejor modelo\n",
        "        if epoch_loss < best_loss:\n",
        "            best_loss = epoch_loss\n",
        "            name = f\"model_{epoch}_{epoch_loss:.4f}.pth\"\n",
        "            torch.save(model.state_dict(), name)\n",
        "            print(f\"Mejor modelo guardado con Loss: {epoch_loss:.4f}\")\n",
        "\n",
        "train()"
      ],
      "metadata": {
        "colab": {
          "base_uri": "https://localhost:8080/"
        },
        "id": "ILPXW9IASPYJ",
        "outputId": "c92ff4bd-600f-4a94-e15d-c416788718ce"
      },
      "execution_count": null,
      "outputs": [
        {
          "output_type": "stream",
          "name": "stderr",
          "text": [
            "Epoch 1/10: 100%|██████████| 57/57 [14:39<00:00, 15.43s/it, loss=1.34]\n"
          ]
        },
        {
          "output_type": "stream",
          "name": "stdout",
          "text": [
            "Epoch 1/10, Loss: 1.6436\n",
            "Clase 1: 0.00% accuracy\n",
            "Clase 2: 0.46% accuracy\n",
            "Clase 3: 92.86% accuracy\n",
            "Clase 4: 0.26% accuracy\n",
            "Clase 5: 0.00% accuracy\n",
            "Clase 6: 0.00% accuracy\n",
            "Clase 7: 0.00% accuracy\n",
            "Clase 8: 0.00% accuracy\n",
            "Clase 9: 0.00% accuracy\n",
            "Clase 10: 0.02% accuracy\n",
            "Clase 11: 7.54% accuracy\n",
            "Mejor modelo guardado con Loss: 1.6436\n"
          ]
        },
        {
          "output_type": "stream",
          "name": "stderr",
          "text": [
            "Epoch 2/10: 100%|██████████| 57/57 [04:59<00:00,  5.25s/it, loss=1.38]\n"
          ]
        },
        {
          "output_type": "stream",
          "name": "stdout",
          "text": [
            "Epoch 2/10, Loss: 1.3572\n",
            "Clase 1: 57.05% accuracy\n",
            "Clase 2: 0.62% accuracy\n",
            "Clase 3: 91.01% accuracy\n",
            "Clase 4: 0.14% accuracy\n",
            "Clase 5: 0.00% accuracy\n",
            "Clase 6: 0.00% accuracy\n",
            "Clase 7: 0.00% accuracy\n",
            "Clase 8: 0.00% accuracy\n",
            "Clase 9: 0.00% accuracy\n",
            "Clase 10: 0.00% accuracy\n",
            "Clase 11: 0.00% accuracy\n",
            "Mejor modelo guardado con Loss: 1.3572\n"
          ]
        },
        {
          "output_type": "stream",
          "name": "stderr",
          "text": [
            "Epoch 3/10: 100%|██████████| 57/57 [04:56<00:00,  5.20s/it, loss=1.13]\n"
          ]
        },
        {
          "output_type": "stream",
          "name": "stdout",
          "text": [
            "Epoch 3/10, Loss: 1.2596\n",
            "Clase 1: 79.64% accuracy\n",
            "Clase 2: 0.55% accuracy\n",
            "Clase 3: 89.43% accuracy\n",
            "Clase 4: 0.05% accuracy\n",
            "Clase 5: 0.00% accuracy\n",
            "Clase 6: 0.00% accuracy\n",
            "Clase 7: 0.00% accuracy\n",
            "Clase 8: 0.00% accuracy\n",
            "Clase 9: 0.00% accuracy\n",
            "Clase 10: 0.00% accuracy\n",
            "Clase 11: 0.00% accuracy\n",
            "Mejor modelo guardado con Loss: 1.2596\n"
          ]
        },
        {
          "output_type": "stream",
          "name": "stderr",
          "text": [
            "Epoch 4/10: 100%|██████████| 57/57 [04:57<00:00,  5.22s/it, loss=1.13]\n"
          ]
        },
        {
          "output_type": "stream",
          "name": "stdout",
          "text": [
            "Epoch 4/10, Loss: 1.1926\n",
            "Clase 1: 82.19% accuracy\n",
            "Clase 2: 0.39% accuracy\n",
            "Clase 3: 90.02% accuracy\n",
            "Clase 4: 0.97% accuracy\n",
            "Clase 5: 0.00% accuracy\n",
            "Clase 6: 0.00% accuracy\n",
            "Clase 7: 0.00% accuracy\n",
            "Clase 8: 0.00% accuracy\n",
            "Clase 9: 0.00% accuracy\n",
            "Clase 10: 0.00% accuracy\n",
            "Clase 11: 0.00% accuracy\n",
            "Mejor modelo guardado con Loss: 1.1926\n"
          ]
        },
        {
          "output_type": "stream",
          "name": "stderr",
          "text": [
            "Epoch 5/10: 100%|██████████| 57/57 [04:55<00:00,  5.18s/it, loss=1.1]\n"
          ]
        },
        {
          "output_type": "stream",
          "name": "stdout",
          "text": [
            "Epoch 5/10, Loss: 1.1457\n",
            "Clase 1: 81.86% accuracy\n",
            "Clase 2: 0.36% accuracy\n",
            "Clase 3: 81.32% accuracy\n",
            "Clase 4: 29.84% accuracy\n",
            "Clase 5: 0.00% accuracy\n",
            "Clase 6: 49.31% accuracy\n",
            "Clase 7: 0.00% accuracy\n",
            "Clase 8: 0.00% accuracy\n",
            "Clase 9: 2.08% accuracy\n",
            "Clase 10: 0.00% accuracy\n",
            "Clase 11: 0.00% accuracy\n",
            "Mejor modelo guardado con Loss: 1.1457\n"
          ]
        },
        {
          "output_type": "stream",
          "name": "stderr",
          "text": [
            "Epoch 6/10:  14%|█▍        | 8/57 [00:41<04:15,  5.20s/it, loss=1.24]"
          ]
        }
      ]
    }
  ]
}