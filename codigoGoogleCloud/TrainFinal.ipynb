{
  "cells": [
    {
      "cell_type": "code",
      "execution_count": 1,
      "id": "YTzezJA5DjCZnuvEzCsePpX3",
      "metadata": {
        "executionInfo": {
          "elapsed": 2824,
          "status": "ok",
          "timestamp": 1742238498239,
          "user": {
            "displayName": "",
            "userId": ""
          },
          "user_tz": 300
        },
        "id": "YTzezJA5DjCZnuvEzCsePpX3",
        "tags": []
      },
      "outputs": [],
      "source": [
        "import torch\n",
        "import torch.nn as nn\n",
        "from torch.utils.data import DataLoader, random_split\n",
        "from tqdm import tqdm"
      ]
    },
    {
      "cell_type": "code",
      "execution_count": null,
      "id": "HPq6NkWugegm",
      "metadata": {
        "executionInfo": {
          "elapsed": 18198,
          "status": "ok",
          "timestamp": 1742238530024,
          "user": {
            "displayName": "",
            "userId": ""
          },
          "user_tz": 300
        },
        "id": "HPq6NkWugegm"
      },
      "outputs": [],
      "source": [
        "import sys\n",
        "import os\n",
        "from utils.dataset import SegmentationDataset, get_transforms\n",
        "from model import UNet\n",
        "from torch.optim.lr_scheduler import ReduceLROnPlateau\n",
        "import numpy as np\n",
        "import matplotlib.pyplot as plt\n",
        "from datetime import datetime\n",
        "from sklearn.metrics import confusion_matrix\n",
        "import seaborn as sns\n",
        "import matplotlib.pyplot as plt\n",
        "import numpy as np\n",
        "from torch.utils.tensorboard import SummaryWriter\n",
        "from google.cloud import storage"
      ]
    },
    {
      "cell_type": "code",
      "execution_count": null,
      "id": "fwRw4jwdged_",
      "metadata": {
        "executionInfo": {
          "elapsed": 452,
          "status": "ok",
          "timestamp": 1742238532737,
          "user": {
            "displayName": "",
            "userId": ""
          },
          "user_tz": 300
        },
        "id": "fwRw4jwdged_"
      },
      "outputs": [],
      "source": [
        "\n",
        "# Función de entrenamiento\n",
        "def train():\n",
        "    best_loss = float('inf') \n",
        "\n",
        "    for epoch in range(epochs):\n",
        "        epoch_start_time = datetime.now().strftime(\"%Y-%m-%d %H:%M:%S\")\n",
        "        model.train()\n",
        "        running_loss = 0.0\n",
        "        class_correct = torch.zeros(num_classes).to(device)\n",
        "        class_total = torch.zeros(num_classes).to(device)\n",
        "\n",
        "        all_preds = []\n",
        "        all_labels = []\n",
        "\n",
        "        loop = tqdm(train_loader, desc=f\"Epoch {epoch+1}/{epochs}\", leave=True)\n",
        "        for images, masks in loop:\n",
        "            images, masks = images.to(device), masks.to(device)\n",
        "\n",
        "        \n",
        "            optimizer.zero_grad()\n",
        "            outputs = model(images)\n",
        "\n",
        "            \n",
        "            loss = criterion(outputs, masks)\n",
        "            loss.backward()\n",
        "            optimizer.step()\n",
        "            running_loss += loss.item()\n",
        "\n",
        "            \n",
        "            _, predicted = torch.max(outputs, 1)\n",
        "            for i in range(num_classes):\n",
        "                if i != 0:  # Ignorar solo la clase 0\n",
        "                    class_correct[i] += (predicted[masks == i] == i).sum().item()\n",
        "                    class_total[i] += (masks == i).sum().item()\n",
        "\n",
        "            \n",
        "            all_preds.extend(predicted.cpu().numpy().flatten())\n",
        "            all_labels.extend(masks.cpu().numpy().flatten())\n",
        "\n",
        "            \n",
        "            iou_list = calculate_iou(predicted, masks, num_classes)\n",
        "            dice_list = calculate_dice(predicted, masks, num_classes)\n",
        "\n",
        "            \n",
        "            loop.set_postfix(loss=loss.item())\n",
        "\n",
        "       \n",
        "        epoch_loss = running_loss / len(train_loader)\n",
        "        print(f\"Epoch {epoch+1}/{epochs}, Loss: {epoch_loss:.4f}\")\n",
        "        print(f'Epoch started at {epoch_start_time} and ended at {datetime.now().strftime(\"%Y-%m-%d %H:%M:%S\")}')\n",
        "\n",
        "        for i in range(num_classes):\n",
        "            if i != 0 and class_total[i] > 0:  # Mostrar accuracy para todas las clases excepto la 0\n",
        "                acc = 100 * class_correct[i] / class_total[i]\n",
        "                print(f\"Clase {i}: {acc:.2f}% accuracy\")\n",
        "                print(f\"Clase {i}: IoU: {iou_list[i-1]:.4f}, Dice: {dice_list[i-1]:.4f}\")\n",
        "\n",
        "       \n",
        "        scheduler.step(epoch_loss)\n",
        "\n",
        "        # Guardar el mejor modelo\n",
        "        if epoch_loss < best_loss:\n",
        "            best_loss = epoch_loss\n",
        "            name = f\"model_{epoch}_{epoch_loss:.4f}.pth\"\n",
        "            torch.save(model.state_dict(), name)\n",
        "            print(f\"Mejor modelo guardado con Loss: {epoch_loss:.4f}\")\n",
        "\n",
        "        \n",
        "        # Calculate and display confusion matrix in the last epoch\n",
        "        if epoch == epochs - 1:\n",
        "            cm = confusion_matrix(all_labels, all_preds, labels=list(range(num_classes)))\n",
        "            cm_normalized = cm.astype('float') / cm.sum(axis=1)[:, np.newaxis]\n",
        "\n",
        "            plt.figure(figsize=(10, 8))\n",
        "            sns.heatmap(cm_normalized, annot=True, fmt='.2%', cmap='Blues', xticklabels=list(range(num_classes)), yticklabels=list(range(num_classes)))\n",
        "            plt.xlabel('Predictions')\n",
        "            plt.ylabel('Labels')\n",
        "            plt.title(f'Confusion Matrix for Epoch {epoch+1}')\n",
        "            plt.show()\n",
        "\n",
        "        # Para Tensorboard\n",
        "        writer.add_scalar('Loss/train', epoch_loss, epoch)\n",
        "        writer.add_scalar('Learning Rate', optimizer.param_groups[0]['lr'], epoch)\n",
        "\n",
        "def calculate_iou(pred, target, num_classes):\n",
        "    iou_list = []\n",
        "    for cls in range(1, num_classes):  # Ignoring class 0\n",
        "        pred_inds = pred == cls\n",
        "        target_inds = target == cls\n",
        "        intersection = (pred_inds & target_inds).sum().item()\n",
        "        union = (pred_inds | target_inds).sum().item()\n",
        "        if union == 0:\n",
        "            iou_list.append(float('nan'))  # If no ground truth, do not include in IoU calculation\n",
        "        else:\n",
        "            iou_list.append(intersection / union)\n",
        "    return iou_list\n",
        "\n",
        "def calculate_dice(pred, target, num_classes):\n",
        "    dice_list = []\n",
        "    for cls in range(1, num_classes):  # Ignoring class 0\n",
        "        pred_inds = pred == cls\n",
        "        target_inds = target == cls\n",
        "        intersection = (pred_inds & target_inds).sum().item()\n",
        "        denominator = pred_inds.sum().item() + target_inds.sum().item()\n",
        "        if denominator == 0: # To avoid division by zero\n",
        "            dice = 0\n",
        "        else:\n",
        "            dice = (2 * intersection) / denominator\n",
        "        dice_list.append(dice)\n",
        "    return dice_list\n"
      ]
    },
    {
      "cell_type": "code",
      "execution_count": 4,
      "id": "DQomJao2gebj",
      "metadata": {
        "colab": {
          "base_uri": "https://localhost:8080/"
        },
        "executionInfo": {
          "elapsed": 3,
          "status": "ok",
          "timestamp": 1742238767234,
          "user": {
            "displayName": "",
            "userId": ""
          },
          "user_tz": 300
        },
        "id": "DQomJao2gebj",
        "outputId": "284680ad-54ac-41d1-b313-3ee9926dd8d7"
      },
      "outputs": [
        {
          "name": "stdout",
          "output_type": "stream",
          "text": [
            "Device utilizado: cuda\n"
          ]
        }
      ],
      "source": [
        "if torch.backends.mps.is_available():\n",
        "        device = torch.device('mps')\n",
        "else:\n",
        "        device = torch.device('cuda' if torch.cuda.is_available() else 'cpu')\n",
        "\n",
        "print (f\"Device utilizado: {device}\")"
      ]
    },
    {
      "cell_type": "code",
      "execution_count": 13,
      "id": "Ouvkgx2HgeZT",
      "metadata": {
        "executionInfo": {
          "elapsed": 2,
          "status": "ok",
          "timestamp": 1742239043304,
          "user": {
            "displayName": "",
            "userId": ""
          },
          "user_tz": 300
        },
        "id": "Ouvkgx2HgeZT"
      },
      "outputs": [],
      "source": [
        "num_classes = 12\n",
        "batch_size = 12\n",
        "epochs = 100\n",
        "lr = 0.001\n",
        "workers = 5\n",
        "pin_memory = True\n",
        "porcentaje_train = 0.8"
      ]
    },
    {
      "cell_type": "code",
      "execution_count": 14,
      "id": "GbYHBBbRgeWs",
      "metadata": {
        "executionInfo": {
          "elapsed": 1,
          "status": "ok",
          "timestamp": 1742239043304,
          "user": {
            "displayName": "",
            "userId": ""
          },
          "user_tz": 300
        },
        "id": "GbYHBBbRgeWs"
      },
      "outputs": [],
      "source": [
        "# Dataset y DataLoader\n",
        "train_images_dir = \"train/img\"\n",
        "train_masks_dir = \"train/mask\"\n",
        "train_dataset = SegmentationDataset(train_images_dir, train_masks_dir, transform=get_transforms())\n"
      ]
    },
    {
      "cell_type": "code",
      "execution_count": 15,
      "id": "aaF010NHgeT3",
      "metadata": {
        "colab": {
          "base_uri": "https://localhost:8080/"
        },
        "executionInfo": {
          "elapsed": 2,
          "status": "ok",
          "timestamp": 1742239046218,
          "user": {
            "displayName": "",
            "userId": ""
          },
          "user_tz": 300
        },
        "id": "aaF010NHgeT3",
        "outputId": "7b6d8e64-bbcb-42e6-9852-0979a34f2c31"
      },
      "outputs": [
        {
          "name": "stdout",
          "output_type": "stream",
          "text": [
            "Train size images: 2436, Validation size images: 609\n"
          ]
        }
      ],
      "source": [
        "train_size = int(porcentaje_train * len(train_dataset))\n",
        "val_size = len(train_dataset) - train_size\n",
        "print(f\"Train size images: {train_size}, Validation size images: {val_size}\")\n",
        "\n",
        "train_dataset, val_dataset = random_split(train_dataset, [train_size, val_size])"
      ]
    },
    {
      "cell_type": "code",
      "execution_count": 16,
      "id": "3LoUahj6hm4l",
      "metadata": {
        "executionInfo": {
          "elapsed": 1,
          "status": "ok",
          "timestamp": 1742239046218,
          "user": {
            "displayName": "",
            "userId": ""
          },
          "user_tz": 300
        },
        "id": "3LoUahj6hm4l"
      },
      "outputs": [],
      "source": [
        "# Optimización del DataLoader\n",
        "train_loader = DataLoader(train_dataset, batch_size=batch_size, shuffle=True, num_workers=workers, pin_memory=pin_memory, persistent_workers=True) # persistent_workers\n",
        "val_loader = DataLoader(val_dataset, batch_size=batch_size, shuffle=False, num_workers=workers, pin_memory=pin_memory, persistent_workers=True)"
      ]
    },
    {
      "cell_type": "code",
      "execution_count": null,
      "id": "EwVO5UxShm18",
      "metadata": {
        "executionInfo": {
          "elapsed": 1,
          "status": "ok",
          "timestamp": 1742239046218,
          "user": {
            "displayName": "",
            "userId": ""
          },
          "user_tz": 300
        },
        "id": "EwVO5UxShm18"
      },
      "outputs": [],
      "source": [
        "\n",
        "# Normalización de pesos para la función de pérdida (ignorando solo la clase 0)\n",
        "class_weights = torch.ones(num_classes).to(device)\n",
        "class_weights[0] = 0  \n",
        "criterion = nn.CrossEntropyLoss(weight=class_weights, ignore_index=0) "
      ]
    },
    {
      "cell_type": "code",
      "execution_count": null,
      "id": "tAgeFw9Chmzq",
      "metadata": {
        "executionInfo": {
          "elapsed": 4303,
          "status": "ok",
          "timestamp": 1742239051861,
          "user": {
            "displayName": "",
            "userId": ""
          },
          "user_tz": 300
        },
        "id": "tAgeFw9Chmzq"
      },
      "outputs": [],
      "source": [
        "\n",
        "# Modelo y optimizador\n",
        "model = UNet(num_classes=num_classes, image_size=300).to(device)\n",
        "optimizer = torch.optim.Adam(model.parameters(), lr=lr)\n",
        "# Scheduler para reducir el learning rate si la pérdida no mejora\n",
        "scheduler = ReduceLROnPlateau(optimizer, mode='min', factor=0.5, patience=3) "
      ]
    },
    {
      "cell_type": "code",
      "execution_count": 19,
      "id": "UnmvJcU9hmw5",
      "metadata": {
        "colab": {
          "base_uri": "https://localhost:8080/"
        },
        "executionInfo": {
          "elapsed": 2,
          "status": "ok",
          "timestamp": 1742239051861,
          "user": {
            "displayName": "",
            "userId": ""
          },
          "user_tz": 300
        },
        "id": "UnmvJcU9hmw5",
        "outputId": "56388568-33f6-43fd-ec47-318417b4cada"
      },
      "outputs": [
        {
          "name": "stdout",
          "output_type": "stream",
          "text": [
            "GPUs disponibles: 1\n"
          ]
        }
      ],
      "source": [
        "\n",
        "# Optimizcaión con DataParallel si hay más de una GPU disponible\n",
        "print(f\"GPUs disponibles: {torch.cuda.device_count()}\")\n",
        "if torch.cuda.device_count() > 1:\n",
        "        model = nn.DataParallel(model)\n",
        "# Tensorboard\n",
        "writer = SummaryWriter()"
      ]
    },
    {
      "cell_type": "code",
      "execution_count": 20,
      "id": "GnSChCLchmue",
      "metadata": {
        "colab": {
          "base_uri": "https://localhost:8080/",
          "height": 1000
        },
        "executionInfo": {
          "elapsed": 2955312,
          "status": "ok",
          "timestamp": 1742244525332,
          "user": {
            "displayName": "",
            "userId": ""
          },
          "user_tz": 300
        },
        "id": "GnSChCLchmue",
        "outputId": "ab7e55a5-e8b2-4909-e61f-052fae76c55e"
      },
      "outputs": [
        {
          "name": "stderr",
          "output_type": "stream",
          "text": [
            "Epoch 1/100: 100%|██████████| 203/203 [00:47<00:00,  4.28it/s, loss=1.44]\n"
          ]
        },
        {
          "name": "stdout",
          "output_type": "stream",
          "text": [
            "Epoch 1/100, Loss: 1.4867\n",
            "Epoch started at 2025-03-17 19:17:31 and ended at 2025-03-17 19:18:18\n",
            "Clase 1: 75.23% accuracy\n",
            "Clase 1: IoU: 0.4914, Dice: 0.6590\n",
            "Clase 2: 2.76% accuracy\n",
            "Clase 2: IoU: 0.0055, Dice: 0.0110\n",
            "Clase 3: 80.45% accuracy\n",
            "Clase 3: IoU: 0.5102, Dice: 0.6757\n",
            "Clase 4: 11.61% accuracy\n",
            "Clase 4: IoU: 0.0864, Dice: 0.1590\n",
            "Clase 5: 0.03% accuracy\n",
            "Clase 5: IoU: 0.0000, Dice: 0.0000\n",
            "Clase 6: 0.02% accuracy\n",
            "Clase 6: IoU: 0.0000, Dice: 0.0000\n",
            "Clase 7: 0.00% accuracy\n",
            "Clase 7: IoU: 0.0000, Dice: 0.0000\n",
            "Clase 8: 0.01% accuracy\n",
            "Clase 8: IoU: 0.0000, Dice: 0.0000\n",
            "Clase 9: 0.00% accuracy\n",
            "Clase 9: IoU: 0.0000, Dice: 0.0000\n",
            "Clase 10: 0.00% accuracy\n",
            "Clase 10: IoU: 0.0000, Dice: 0.0000\n",
            "Clase 11: 0.03% accuracy\n",
            "Clase 11: IoU: 0.0000, Dice: 0.0000\n",
            "Mejor modelo guardado con Loss: 1.4867\n"
          ]
        },
        {
          "name": "stderr",
          "output_type": "stream",
          "text": [
            "Epoch 2/100: 100%|██████████| 203/203 [00:48<00:00,  4.17it/s, loss=1.11]\n"
          ]
        },
        {
          "name": "stdout",
          "output_type": "stream",
          "text": [
            "Epoch 2/100, Loss: 1.2171\n",
            "Epoch started at 2025-03-17 19:18:22 and ended at 2025-03-17 19:19:15\n",
            "Clase 1: 76.62% accuracy\n",
            "Clase 1: IoU: 0.3863, Dice: 0.5573\n",
            "Clase 2: 12.81% accuracy\n",
            "Clase 2: IoU: 0.3802, Dice: 0.5509\n",
            "Clase 3: 79.88% accuracy\n",
            "Clase 3: IoU: 0.4948, Dice: 0.6621\n",
            "Clase 4: 34.10% accuracy\n",
            "Clase 4: IoU: 0.2113, Dice: 0.3489\n",
            "Clase 5: 0.00% accuracy\n",
            "Clase 5: IoU: 0.0000, Dice: 0.0000\n",
            "Clase 6: 2.39% accuracy\n",
            "Clase 6: IoU: 0.1674, Dice: 0.2868\n",
            "Clase 7: 0.00% accuracy\n",
            "Clase 7: IoU: 0.0000, Dice: 0.0000\n",
            "Clase 8: 0.00% accuracy\n",
            "Clase 8: IoU: 0.0000, Dice: 0.0000\n",
            "Clase 9: 0.05% accuracy\n",
            "Clase 9: IoU: 0.0133, Dice: 0.0263\n",
            "Clase 10: 0.00% accuracy\n",
            "Clase 10: IoU: 0.0000, Dice: 0.0000\n",
            "Clase 11: 0.00% accuracy\n",
            "Clase 11: IoU: 0.0000, Dice: 0.0000\n",
            "Mejor modelo guardado con Loss: 1.2171\n"
          ]
        },
        {
          "name": "stderr",
          "output_type": "stream",
          "text": [
            "Epoch 3/100: 100%|██████████| 203/203 [00:46<00:00,  4.41it/s, loss=1.17]\n"
          ]
        },
        {
          "name": "stdout",
          "output_type": "stream",
          "text": [
            "Epoch 3/100, Loss: 1.1401\n",
            "Epoch started at 2025-03-17 19:19:16 and ended at 2025-03-17 19:20:07\n",
            "Clase 1: 72.37% accuracy\n",
            "Clase 1: IoU: 0.2876, Dice: 0.4467\n",
            "Clase 2: 38.31% accuracy\n",
            "Clase 2: IoU: 0.2921, Dice: 0.4522\n",
            "Clase 3: 80.65% accuracy\n",
            "Clase 3: IoU: 0.4442, Dice: 0.6151\n",
            "Clase 4: 37.19% accuracy\n",
            "Clase 4: IoU: 0.1423, Dice: 0.2492\n",
            "Clase 5: 0.00% accuracy\n",
            "Clase 5: IoU: 0.0000, Dice: 0.0000\n",
            "Clase 6: 60.36% accuracy\n",
            "Clase 6: IoU: 0.1226, Dice: 0.2184\n",
            "Clase 7: 0.00% accuracy\n",
            "Clase 7: IoU: 0.0000, Dice: 0.0000\n",
            "Clase 8: 0.00% accuracy\n",
            "Clase 8: IoU: 0.0000, Dice: 0.0000\n",
            "Clase 9: 1.94% accuracy\n",
            "Clase 9: IoU: 0.0022, Dice: 0.0044\n",
            "Clase 10: 0.00% accuracy\n",
            "Clase 10: IoU: 0.0000, Dice: 0.0000\n",
            "Clase 11: 0.00% accuracy\n",
            "Clase 11: IoU: 0.0000, Dice: 0.0000\n",
            "Mejor modelo guardado con Loss: 1.1401\n"
          ]
        },
        {
          "name": "stderr",
          "output_type": "stream",
          "text": [
            "Epoch 4/100: 100%|██████████| 203/203 [00:45<00:00,  4.42it/s, loss=1.22]\n"
          ]
        },
        {
          "name": "stdout",
          "output_type": "stream",
          "text": [
            "Epoch 4/100, Loss: 1.0819\n",
            "Epoch started at 2025-03-17 19:20:10 and ended at 2025-03-17 19:21:02\n",
            "Clase 1: 75.00% accuracy\n",
            "Clase 1: IoU: 0.2857, Dice: 0.4445\n",
            "Clase 2: 43.96% accuracy\n",
            "Clase 2: IoU: 0.1789, Dice: 0.3034\n",
            "Clase 3: 81.53% accuracy\n",
            "Clase 3: IoU: 0.3894, Dice: 0.5605\n",
            "Clase 4: 39.14% accuracy\n",
            "Clase 4: IoU: 0.3439, Dice: 0.5118\n",
            "Clase 5: 0.00% accuracy\n",
            "Clase 5: IoU: 0.0000, Dice: 0.0000\n",
            "Clase 6: 67.36% accuracy\n",
            "Clase 6: IoU: 0.3218, Dice: 0.4869\n",
            "Clase 7: 0.00% accuracy\n",
            "Clase 7: IoU: 0.0000, Dice: 0.0000\n",
            "Clase 8: 0.00% accuracy\n",
            "Clase 8: IoU: 0.0000, Dice: 0.0000\n",
            "Clase 9: 1.75% accuracy\n",
            "Clase 9: IoU: 0.0184, Dice: 0.0362\n",
            "Clase 10: 0.00% accuracy\n",
            "Clase 10: IoU: 0.0000, Dice: 0.0000\n",
            "Clase 11: 0.00% accuracy\n",
            "Clase 11: IoU: 0.0000, Dice: 0.0000\n",
            "Mejor modelo guardado con Loss: 1.0819\n"
          ]
        },
        {
          "name": "stderr",
          "output_type": "stream",
          "text": [
            "Epoch 5/100: 100%|██████████| 203/203 [00:45<00:00,  4.41it/s, loss=0.907]\n"
          ]
        },
        {
          "name": "stdout",
          "output_type": "stream",
          "text": [
            "Epoch 5/100, Loss: 1.0352\n",
            "Epoch started at 2025-03-17 19:21:05 and ended at 2025-03-17 19:21:56\n",
            "Clase 1: 76.41% accuracy\n",
            "Clase 1: IoU: 0.5548, Dice: 0.7137\n",
            "Clase 2: 44.90% accuracy\n",
            "Clase 2: IoU: 0.3752, Dice: 0.5457\n",
            "Clase 3: 82.59% accuracy\n",
            "Clase 3: IoU: 0.6459, Dice: 0.7848\n",
            "Clase 4: 40.28% accuracy\n",
            "Clase 4: IoU: 0.1649, Dice: 0.2831\n",
            "Clase 5: 0.15% accuracy\n",
            "Clase 5: IoU: 0.0000, Dice: 0.0000\n",
            "Clase 6: 65.33% accuracy\n",
            "Clase 6: IoU: 0.3710, Dice: 0.5412\n",
            "Clase 7: 0.00% accuracy\n",
            "Clase 7: IoU: 0.0000, Dice: 0.0000\n",
            "Clase 8: 0.00% accuracy\n",
            "Clase 8: IoU: 0.0000, Dice: 0.0000\n",
            "Clase 9: 7.63% accuracy\n",
            "Clase 9: IoU: 0.0142, Dice: 0.0281\n",
            "Clase 10: 0.00% accuracy\n",
            "Clase 10: IoU: 0.0000, Dice: 0.0000\n",
            "Clase 11: 0.00% accuracy\n",
            "Clase 11: IoU: 0.0000, Dice: 0.0000\n",
            "Mejor modelo guardado con Loss: 1.0352\n"
          ]
        },
        {
          "name": "stderr",
          "output_type": "stream",
          "text": [
            "Epoch 6/100: 100%|██████████| 203/203 [00:48<00:00,  4.16it/s, loss=0.892]\n"
          ]
        },
        {
          "name": "stdout",
          "output_type": "stream",
          "text": [
            "Epoch 6/100, Loss: 1.0170\n",
            "Epoch started at 2025-03-17 19:22:03 and ended at 2025-03-17 19:22:57\n",
            "Clase 1: 76.84% accuracy\n",
            "Clase 1: IoU: 0.4868, Dice: 0.6549\n",
            "Clase 2: 47.21% accuracy\n",
            "Clase 2: IoU: 0.2039, Dice: 0.3388\n",
            "Clase 3: 83.00% accuracy\n",
            "Clase 3: IoU: 0.5427, Dice: 0.7036\n",
            "Clase 4: 41.61% accuracy\n",
            "Clase 4: IoU: 0.3307, Dice: 0.4970\n",
            "Clase 5: 0.29% accuracy\n",
            "Clase 5: IoU: 0.0000, Dice: 0.0000\n",
            "Clase 6: 67.07% accuracy\n",
            "Clase 6: IoU: 0.3530, Dice: 0.5218\n",
            "Clase 7: 0.07% accuracy\n",
            "Clase 7: IoU: 0.0000, Dice: 0.0000\n",
            "Clase 8: 0.00% accuracy\n",
            "Clase 8: IoU: 0.0000, Dice: 0.0000\n",
            "Clase 9: 7.40% accuracy\n",
            "Clase 9: IoU: 0.0110, Dice: 0.0217\n",
            "Clase 10: 0.00% accuracy\n",
            "Clase 10: IoU: 0.0000, Dice: 0.0000\n",
            "Clase 11: 0.00% accuracy\n",
            "Clase 11: IoU: 0.0000, Dice: 0.0000\n",
            "Mejor modelo guardado con Loss: 1.0170\n"
          ]
        },
        {
          "name": "stderr",
          "output_type": "stream",
          "text": [
            "Epoch 7/100: 100%|██████████| 203/203 [00:45<00:00,  4.41it/s, loss=0.95]\n"
          ]
        },
        {
          "name": "stdout",
          "output_type": "stream",
          "text": [
            "Epoch 7/100, Loss: 0.9682\n",
            "Epoch started at 2025-03-17 19:22:58 and ended at 2025-03-17 19:23:49\n",
            "Clase 1: 78.25% accuracy\n",
            "Clase 1: IoU: 0.6708, Dice: 0.8030\n",
            "Clase 2: 50.42% accuracy\n",
            "Clase 2: IoU: 0.2919, Dice: 0.4519\n",
            "Clase 3: 84.11% accuracy\n",
            "Clase 3: IoU: 0.6663, Dice: 0.7997\n",
            "Clase 4: 43.41% accuracy\n",
            "Clase 4: IoU: 0.4164, Dice: 0.5880\n",
            "Clase 5: 1.28% accuracy\n",
            "Clase 5: IoU: 0.0000, Dice: 0.0000\n",
            "Clase 6: 66.95% accuracy\n",
            "Clase 6: IoU: 0.0911, Dice: 0.1669\n",
            "Clase 7: 2.93% accuracy\n",
            "Clase 7: IoU: 0.0000, Dice: 0.0000\n",
            "Clase 8: 0.00% accuracy\n",
            "Clase 8: IoU: 0.0000, Dice: 0.0000\n",
            "Clase 9: 11.28% accuracy\n",
            "Clase 9: IoU: 0.0354, Dice: 0.0684\n",
            "Clase 10: 0.00% accuracy\n",
            "Clase 10: IoU: 0.0000, Dice: 0.0000\n",
            "Clase 11: 0.00% accuracy\n",
            "Clase 11: IoU: 0.0000, Dice: 0.0000\n",
            "Mejor modelo guardado con Loss: 0.9682\n"
          ]
        },
        {
          "name": "stderr",
          "output_type": "stream",
          "text": [
            "Epoch 8/100: 100%|██████████| 203/203 [00:48<00:00,  4.19it/s, loss=1.02]\n"
          ]
        },
        {
          "name": "stdout",
          "output_type": "stream",
          "text": [
            "Epoch 8/100, Loss: 0.9526\n",
            "Epoch started at 2025-03-17 19:23:52 and ended at 2025-03-17 19:24:46\n",
            "Clase 1: 78.73% accuracy\n",
            "Clase 1: IoU: 0.5843, Dice: 0.7376\n",
            "Clase 2: 50.61% accuracy\n",
            "Clase 2: IoU: 0.3949, Dice: 0.5662\n",
            "Clase 3: 84.24% accuracy\n",
            "Clase 3: IoU: 0.6219, Dice: 0.7669\n",
            "Clase 4: 44.16% accuracy\n",
            "Clase 4: IoU: 0.1627, Dice: 0.2799\n",
            "Clase 5: 3.21% accuracy\n",
            "Clase 5: IoU: 0.0000, Dice: 0.0000\n",
            "Clase 6: 66.06% accuracy\n",
            "Clase 6: IoU: 0.4330, Dice: 0.6044\n",
            "Clase 7: 11.55% accuracy\n",
            "Clase 7: IoU: 0.0029, Dice: 0.0058\n",
            "Clase 8: 0.00% accuracy\n",
            "Clase 8: IoU: 0.0000, Dice: 0.0000\n",
            "Clase 9: 17.44% accuracy\n",
            "Clase 9: IoU: 0.1441, Dice: 0.2519\n",
            "Clase 10: 0.00% accuracy\n",
            "Clase 10: IoU: 0.0000, Dice: 0.0000\n",
            "Clase 11: 0.00% accuracy\n",
            "Clase 11: IoU: 0.0000, Dice: 0.0000\n",
            "Mejor modelo guardado con Loss: 0.9526\n"
          ]
        },
        {
          "name": "stderr",
          "output_type": "stream",
          "text": [
            "Epoch 9/100: 100%|██████████| 203/203 [00:45<00:00,  4.42it/s, loss=1.24]\n"
          ]
        },
        {
          "name": "stdout",
          "output_type": "stream",
          "text": [
            "Epoch 9/100, Loss: 0.9212\n",
            "Epoch started at 2025-03-17 19:24:50 and ended at 2025-03-17 19:25:41\n",
            "Clase 1: 79.50% accuracy\n",
            "Clase 1: IoU: 0.4382, Dice: 0.6094\n",
            "Clase 2: 55.07% accuracy\n",
            "Clase 2: IoU: 0.4127, Dice: 0.5843\n",
            "Clase 3: 84.66% accuracy\n",
            "Clase 3: IoU: 0.5060, Dice: 0.6720\n",
            "Clase 4: 44.96% accuracy\n",
            "Clase 4: IoU: 0.0911, Dice: 0.1669\n",
            "Clase 5: 6.52% accuracy\n",
            "Clase 5: IoU: 0.0000, Dice: 0.0000\n",
            "Clase 6: 64.80% accuracy\n",
            "Clase 6: IoU: 0.1043, Dice: 0.1888\n",
            "Clase 7: 18.98% accuracy\n",
            "Clase 7: IoU: 0.1034, Dice: 0.1874\n",
            "Clase 8: 0.00% accuracy\n",
            "Clase 8: IoU: 0.0000, Dice: 0.0000\n",
            "Clase 9: 24.89% accuracy\n",
            "Clase 9: IoU: 0.1443, Dice: 0.2522\n",
            "Clase 10: 0.00% accuracy\n",
            "Clase 10: IoU: 0.0000, Dice: 0.0000\n",
            "Clase 11: 0.00% accuracy\n",
            "Clase 11: IoU: 0.0000, Dice: 0.0000\n",
            "Mejor modelo guardado con Loss: 0.9212\n"
          ]
        },
        {
          "name": "stderr",
          "output_type": "stream",
          "text": [
            "Epoch 10/100: 100%|██████████| 203/203 [00:45<00:00,  4.43it/s, loss=0.951]\n"
          ]
        },
        {
          "name": "stdout",
          "output_type": "stream",
          "text": [
            "Epoch 10/100, Loss: 0.9311\n",
            "Epoch started at 2025-03-17 19:25:44 and ended at 2025-03-17 19:26:35\n",
            "Clase 1: 78.91% accuracy\n",
            "Clase 1: IoU: 0.4882, Dice: 0.6561\n",
            "Clase 2: 53.38% accuracy\n",
            "Clase 2: IoU: 0.4674, Dice: 0.6371\n",
            "Clase 3: 84.73% accuracy\n",
            "Clase 3: IoU: 0.5810, Dice: 0.7349\n",
            "Clase 4: 43.77% accuracy\n",
            "Clase 4: IoU: 0.2855, Dice: 0.4442\n",
            "Clase 5: 9.33% accuracy\n",
            "Clase 5: IoU: 0.0862, Dice: 0.1586\n",
            "Clase 6: 64.57% accuracy\n",
            "Clase 6: IoU: 0.4686, Dice: 0.6381\n",
            "Clase 7: 19.84% accuracy\n",
            "Clase 7: IoU: 0.0038, Dice: 0.0076\n",
            "Clase 8: 0.00% accuracy\n",
            "Clase 8: IoU: 0.0000, Dice: 0.0000\n",
            "Clase 9: 29.87% accuracy\n",
            "Clase 9: IoU: 0.1112, Dice: 0.2001\n",
            "Clase 10: 0.00% accuracy\n",
            "Clase 10: IoU: 0.0000, Dice: 0.0000\n",
            "Clase 11: 0.01% accuracy\n",
            "Clase 11: IoU: 0.0000, Dice: 0.0000\n"
          ]
        },
        {
          "name": "stderr",
          "output_type": "stream",
          "text": [
            "Epoch 11/100: 100%|██████████| 203/203 [00:45<00:00,  4.43it/s, loss=0.737]\n"
          ]
        },
        {
          "name": "stdout",
          "output_type": "stream",
          "text": [
            "Epoch 11/100, Loss: 0.8848\n",
            "Epoch started at 2025-03-17 19:26:35 and ended at 2025-03-17 19:27:27\n",
            "Clase 1: 80.14% accuracy\n",
            "Clase 1: IoU: 0.7190, Dice: 0.8365\n",
            "Clase 2: 57.79% accuracy\n",
            "Clase 2: IoU: 0.3601, Dice: 0.5296\n",
            "Clase 3: 85.26% accuracy\n",
            "Clase 3: IoU: 0.7137, Dice: 0.8329\n",
            "Clase 4: 47.09% accuracy\n",
            "Clase 4: IoU: 0.3402, Dice: 0.5077\n",
            "Clase 5: 13.05% accuracy\n",
            "Clase 5: IoU: 0.1303, Dice: 0.2305\n",
            "Clase 6: 63.73% accuracy\n",
            "Clase 6: IoU: 0.4551, Dice: 0.6255\n",
            "Clase 7: 23.42% accuracy\n",
            "Clase 7: IoU: 0.0036, Dice: 0.0072\n",
            "Clase 8: 0.00% accuracy\n",
            "Clase 8: IoU: 0.0000, Dice: 0.0000\n",
            "Clase 9: 34.56% accuracy\n",
            "Clase 9: IoU: 0.1308, Dice: 0.2314\n",
            "Clase 10: 0.00% accuracy\n",
            "Clase 10: IoU: 0.0000, Dice: 0.0000\n",
            "Clase 11: 1.13% accuracy\n",
            "Clase 11: IoU: 0.0273, Dice: 0.0531\n",
            "Mejor modelo guardado con Loss: 0.8848\n"
          ]
        },
        {
          "name": "stderr",
          "output_type": "stream",
          "text": [
            "Epoch 12/100: 100%|██████████| 203/203 [00:45<00:00,  4.43it/s, loss=0.902]\n"
          ]
        },
        {
          "name": "stdout",
          "output_type": "stream",
          "text": [
            "Epoch 12/100, Loss: 0.8593\n",
            "Epoch started at 2025-03-17 19:27:30 and ended at 2025-03-17 19:28:21\n",
            "Clase 1: 80.82% accuracy\n",
            "Clase 1: IoU: 0.5678, Dice: 0.7243\n",
            "Clase 2: 57.82% accuracy\n",
            "Clase 2: IoU: 0.1784, Dice: 0.3028\n",
            "Clase 3: 86.05% accuracy\n",
            "Clase 3: IoU: 0.6616, Dice: 0.7963\n",
            "Clase 4: 48.43% accuracy\n",
            "Clase 4: IoU: 0.2614, Dice: 0.4145\n",
            "Clase 5: 13.86% accuracy\n",
            "Clase 5: IoU: 0.2882, Dice: 0.4475\n",
            "Clase 6: 65.16% accuracy\n",
            "Clase 6: IoU: 0.3808, Dice: 0.5516\n",
            "Clase 7: 25.74% accuracy\n",
            "Clase 7: IoU: 0.0550, Dice: 0.1043\n",
            "Clase 8: 0.00% accuracy\n",
            "Clase 8: IoU: 0.0000, Dice: 0.0000\n",
            "Clase 9: 42.02% accuracy\n",
            "Clase 9: IoU: 0.2186, Dice: 0.3588\n",
            "Clase 10: 0.00% accuracy\n",
            "Clase 10: IoU: 0.0000, Dice: 0.0000\n",
            "Clase 11: 4.57% accuracy\n",
            "Clase 11: IoU: 0.0160, Dice: 0.0316\n",
            "Mejor modelo guardado con Loss: 0.8593\n"
          ]
        },
        {
          "name": "stderr",
          "output_type": "stream",
          "text": [
            "Epoch 13/100: 100%|██████████| 203/203 [00:45<00:00,  4.43it/s, loss=0.811]\n"
          ]
        },
        {
          "name": "stdout",
          "output_type": "stream",
          "text": [
            "Epoch 13/100, Loss: 0.8505\n",
            "Epoch started at 2025-03-17 19:28:25 and ended at 2025-03-17 19:29:16\n",
            "Clase 1: 80.54% accuracy\n",
            "Clase 1: IoU: 0.6819, Dice: 0.8108\n",
            "Clase 2: 59.52% accuracy\n",
            "Clase 2: IoU: 0.1694, Dice: 0.2897\n",
            "Clase 3: 85.97% accuracy\n",
            "Clase 3: IoU: 0.6411, Dice: 0.7813\n",
            "Clase 4: 49.68% accuracy\n",
            "Clase 4: IoU: 0.5187, Dice: 0.6831\n",
            "Clase 5: 15.31% accuracy\n",
            "Clase 5: IoU: 0.1152, Dice: 0.2067\n",
            "Clase 6: 65.39% accuracy\n",
            "Clase 6: IoU: 0.4761, Dice: 0.6451\n",
            "Clase 7: 28.03% accuracy\n",
            "Clase 7: IoU: 0.1246, Dice: 0.2216\n",
            "Clase 8: 0.00% accuracy\n",
            "Clase 8: IoU: 0.0000, Dice: 0.0000\n",
            "Clase 9: 42.92% accuracy\n",
            "Clase 9: IoU: 0.2070, Dice: 0.3430\n",
            "Clase 10: 0.00% accuracy\n",
            "Clase 10: IoU: 0.0000, Dice: 0.0000\n",
            "Clase 11: 8.09% accuracy\n",
            "Clase 11: IoU: 0.3901, Dice: 0.5613\n",
            "Mejor modelo guardado con Loss: 0.8505\n"
          ]
        },
        {
          "name": "stderr",
          "output_type": "stream",
          "text": [
            "Epoch 14/100: 100%|██████████| 203/203 [00:45<00:00,  4.44it/s, loss=0.884]\n"
          ]
        },
        {
          "name": "stdout",
          "output_type": "stream",
          "text": [
            "Epoch 14/100, Loss: 0.8300\n",
            "Epoch started at 2025-03-17 19:29:23 and ended at 2025-03-17 19:30:14\n",
            "Clase 1: 81.16% accuracy\n",
            "Clase 1: IoU: 0.6571, Dice: 0.7931\n",
            "Clase 2: 61.12% accuracy\n",
            "Clase 2: IoU: 0.2565, Dice: 0.4083\n",
            "Clase 3: 86.34% accuracy\n",
            "Clase 3: IoU: 0.7197, Dice: 0.8370\n",
            "Clase 4: 50.07% accuracy\n",
            "Clase 4: IoU: 0.2588, Dice: 0.4112\n",
            "Clase 5: 18.09% accuracy\n",
            "Clase 5: IoU: 0.0352, Dice: 0.0679\n",
            "Clase 6: 68.30% accuracy\n",
            "Clase 6: IoU: 0.3981, Dice: 0.5695\n",
            "Clase 7: 27.94% accuracy\n",
            "Clase 7: IoU: 0.0000, Dice: 0.0000\n",
            "Clase 8: 0.00% accuracy\n",
            "Clase 8: IoU: 0.0000, Dice: 0.0000\n",
            "Clase 9: 46.96% accuracy\n",
            "Clase 9: IoU: 0.4005, Dice: 0.5720\n",
            "Clase 10: 0.00% accuracy\n",
            "Clase 10: IoU: 0.0000, Dice: 0.0000\n",
            "Clase 11: 14.31% accuracy\n",
            "Clase 11: IoU: 0.2490, Dice: 0.3988\n",
            "Mejor modelo guardado con Loss: 0.8300\n"
          ]
        },
        {
          "name": "stderr",
          "output_type": "stream",
          "text": [
            "Epoch 15/100: 100%|██████████| 203/203 [00:45<00:00,  4.44it/s, loss=0.786]\n"
          ]
        },
        {
          "name": "stdout",
          "output_type": "stream",
          "text": [
            "Epoch 15/100, Loss: 0.8186\n",
            "Epoch started at 2025-03-17 19:30:17 and ended at 2025-03-17 19:31:08\n",
            "Clase 1: 81.56% accuracy\n",
            "Clase 1: IoU: 0.7081, Dice: 0.8291\n",
            "Clase 2: 62.94% accuracy\n",
            "Clase 2: IoU: 0.2871, Dice: 0.4461\n",
            "Clase 3: 86.33% accuracy\n",
            "Clase 3: IoU: 0.6259, Dice: 0.7699\n",
            "Clase 4: 50.80% accuracy\n",
            "Clase 4: IoU: 0.2775, Dice: 0.4344\n",
            "Clase 5: 17.10% accuracy\n",
            "Clase 5: IoU: 0.0594, Dice: 0.1122\n",
            "Clase 6: 67.66% accuracy\n",
            "Clase 6: IoU: 0.5366, Dice: 0.6984\n",
            "Clase 7: 31.14% accuracy\n",
            "Clase 7: IoU: 0.1572, Dice: 0.2718\n",
            "Clase 8: 0.00% accuracy\n",
            "Clase 8: IoU: 0.0000, Dice: 0.0000\n",
            "Clase 9: 47.87% accuracy\n",
            "Clase 9: IoU: 0.2515, Dice: 0.4019\n",
            "Clase 10: 0.00% accuracy\n",
            "Clase 10: IoU: 0.0000, Dice: 0.0000\n",
            "Clase 11: 20.47% accuracy\n",
            "Clase 11: IoU: 0.1765, Dice: 0.3000\n",
            "Mejor modelo guardado con Loss: 0.8186\n"
          ]
        },
        {
          "name": "stderr",
          "output_type": "stream",
          "text": [
            "Epoch 16/100: 100%|██████████| 203/203 [00:45<00:00,  4.45it/s, loss=0.765]\n"
          ]
        },
        {
          "name": "stdout",
          "output_type": "stream",
          "text": [
            "Epoch 16/100, Loss: 0.7950\n",
            "Epoch started at 2025-03-17 19:31:12 and ended at 2025-03-17 19:32:03\n",
            "Clase 1: 82.27% accuracy\n",
            "Clase 1: IoU: 0.6444, Dice: 0.7838\n",
            "Clase 2: 63.72% accuracy\n",
            "Clase 2: IoU: 0.2800, Dice: 0.4374\n",
            "Clase 3: 86.72% accuracy\n",
            "Clase 3: IoU: 0.7360, Dice: 0.8479\n",
            "Clase 4: 53.11% accuracy\n",
            "Clase 4: IoU: 0.3082, Dice: 0.4712\n",
            "Clase 5: 18.54% accuracy\n",
            "Clase 5: IoU: 0.0214, Dice: 0.0420\n",
            "Clase 6: 70.79% accuracy\n",
            "Clase 6: IoU: 0.6274, Dice: 0.7711\n",
            "Clase 7: 31.72% accuracy\n",
            "Clase 7: IoU: 0.3569, Dice: 0.5260\n",
            "Clase 8: 0.00% accuracy\n",
            "Clase 8: IoU: 0.0000, Dice: 0.0000\n",
            "Clase 9: 48.29% accuracy\n",
            "Clase 9: IoU: 0.3098, Dice: 0.4731\n",
            "Clase 10: 0.00% accuracy\n",
            "Clase 10: IoU: 0.0000, Dice: 0.0000\n",
            "Clase 11: 24.74% accuracy\n",
            "Clase 11: IoU: 0.1056, Dice: 0.1910\n",
            "Mejor modelo guardado con Loss: 0.7950\n"
          ]
        },
        {
          "name": "stderr",
          "output_type": "stream",
          "text": [
            "Epoch 17/100: 100%|██████████| 203/203 [00:45<00:00,  4.45it/s, loss=0.885]\n"
          ]
        },
        {
          "name": "stdout",
          "output_type": "stream",
          "text": [
            "Epoch 17/100, Loss: 0.7641\n",
            "Epoch started at 2025-03-17 19:32:06 and ended at 2025-03-17 19:32:57\n",
            "Clase 1: 82.66% accuracy\n",
            "Clase 1: IoU: 0.3995, Dice: 0.5710\n",
            "Clase 2: 66.33% accuracy\n",
            "Clase 2: IoU: 0.4502, Dice: 0.6209\n",
            "Clase 3: 87.28% accuracy\n",
            "Clase 3: IoU: 0.4633, Dice: 0.6333\n",
            "Clase 4: 54.51% accuracy\n",
            "Clase 4: IoU: 0.2595, Dice: 0.4121\n",
            "Clase 5: 22.31% accuracy\n",
            "Clase 5: IoU: 0.0006, Dice: 0.0012\n",
            "Clase 6: 72.65% accuracy\n",
            "Clase 6: IoU: 0.5049, Dice: 0.6710\n",
            "Clase 7: 35.64% accuracy\n",
            "Clase 7: IoU: 0.0020, Dice: 0.0039\n",
            "Clase 8: 0.04% accuracy\n",
            "Clase 8: IoU: 0.0031, Dice: 0.0063\n",
            "Clase 9: 50.74% accuracy\n",
            "Clase 9: IoU: 0.3401, Dice: 0.5076\n",
            "Clase 10: 0.00% accuracy\n",
            "Clase 10: IoU: 0.0000, Dice: 0.0000\n",
            "Clase 11: 32.74% accuracy\n",
            "Clase 11: IoU: 0.1561, Dice: 0.2701\n",
            "Mejor modelo guardado con Loss: 0.7641\n"
          ]
        },
        {
          "name": "stderr",
          "output_type": "stream",
          "text": [
            "Epoch 18/100: 100%|██████████| 203/203 [00:45<00:00,  4.44it/s, loss=0.721]\n"
          ]
        },
        {
          "name": "stdout",
          "output_type": "stream",
          "text": [
            "Epoch 18/100, Loss: 0.7717\n",
            "Epoch started at 2025-03-17 19:33:04 and ended at 2025-03-17 19:33:55\n",
            "Clase 1: 81.92% accuracy\n",
            "Clase 1: IoU: 0.7204, Dice: 0.8375\n",
            "Clase 2: 65.50% accuracy\n",
            "Clase 2: IoU: 0.6674, Dice: 0.8005\n",
            "Clase 3: 87.04% accuracy\n",
            "Clase 3: IoU: 0.6853, Dice: 0.8132\n",
            "Clase 4: 54.84% accuracy\n",
            "Clase 4: IoU: 0.3368, Dice: 0.5039\n",
            "Clase 5: 21.75% accuracy\n",
            "Clase 5: IoU: 0.0020, Dice: 0.0041\n",
            "Clase 6: 72.56% accuracy\n",
            "Clase 6: IoU: 0.4579, Dice: 0.6282\n",
            "Clase 7: 35.61% accuracy\n",
            "Clase 7: IoU: 0.0000, Dice: 0.0000\n",
            "Clase 8: 0.11% accuracy\n",
            "Clase 8: IoU: 0.0000, Dice: 0.0000\n",
            "Clase 9: 50.93% accuracy\n",
            "Clase 9: IoU: 0.3714, Dice: 0.5416\n",
            "Clase 10: 0.00% accuracy\n",
            "Clase 10: IoU: 0.0000, Dice: 0.0000\n",
            "Clase 11: 32.47% accuracy\n",
            "Clase 11: IoU: 0.1069, Dice: 0.1932\n"
          ]
        },
        {
          "name": "stderr",
          "output_type": "stream",
          "text": [
            "Epoch 19/100: 100%|██████████| 203/203 [00:45<00:00,  4.45it/s, loss=0.665]\n"
          ]
        },
        {
          "name": "stdout",
          "output_type": "stream",
          "text": [
            "Epoch 19/100, Loss: 0.7435\n",
            "Epoch started at 2025-03-17 19:33:55 and ended at 2025-03-17 19:34:46\n",
            "Clase 1: 83.17% accuracy\n",
            "Clase 1: IoU: 0.7254, Dice: 0.8409\n",
            "Clase 2: 67.97% accuracy\n",
            "Clase 2: IoU: 0.3429, Dice: 0.5107\n",
            "Clase 3: 87.51% accuracy\n",
            "Clase 3: IoU: 0.7640, Dice: 0.8662\n",
            "Clase 4: 55.99% accuracy\n",
            "Clase 4: IoU: 0.5278, Dice: 0.6909\n",
            "Clase 5: 24.33% accuracy\n",
            "Clase 5: IoU: 0.0528, Dice: 0.1004\n",
            "Clase 6: 74.18% accuracy\n",
            "Clase 6: IoU: 0.2556, Dice: 0.4072\n",
            "Clase 7: 36.37% accuracy\n",
            "Clase 7: IoU: 0.0116, Dice: 0.0230\n",
            "Clase 8: 0.25% accuracy\n",
            "Clase 8: IoU: 0.0084, Dice: 0.0167\n",
            "Clase 9: 51.08% accuracy\n",
            "Clase 9: IoU: 0.4246, Dice: 0.5961\n",
            "Clase 10: 0.00% accuracy\n",
            "Clase 10: IoU: 0.0000, Dice: 0.0000\n",
            "Clase 11: 34.69% accuracy\n",
            "Clase 11: IoU: 0.0112, Dice: 0.0222\n",
            "Mejor modelo guardado con Loss: 0.7435\n"
          ]
        },
        {
          "name": "stderr",
          "output_type": "stream",
          "text": [
            "Epoch 20/100: 100%|██████████| 203/203 [00:45<00:00,  4.47it/s, loss=0.777]\n"
          ]
        },
        {
          "name": "stdout",
          "output_type": "stream",
          "text": [
            "Epoch 20/100, Loss: 0.7327\n",
            "Epoch started at 2025-03-17 19:34:49 and ended at 2025-03-17 19:35:40\n",
            "Clase 1: 83.48% accuracy\n",
            "Clase 1: IoU: 0.4573, Dice: 0.6276\n",
            "Clase 2: 68.52% accuracy\n",
            "Clase 2: IoU: 0.4086, Dice: 0.5802\n",
            "Clase 3: 87.50% accuracy\n",
            "Clase 3: IoU: 0.7983, Dice: 0.8878\n",
            "Clase 4: 56.26% accuracy\n",
            "Clase 4: IoU: 0.3378, Dice: 0.5050\n",
            "Clase 5: 25.74% accuracy\n",
            "Clase 5: IoU: 0.0402, Dice: 0.0772\n",
            "Clase 6: 76.55% accuracy\n",
            "Clase 6: IoU: 0.6206, Dice: 0.7659\n",
            "Clase 7: 38.66% accuracy\n",
            "Clase 7: IoU: 0.0809, Dice: 0.1496\n",
            "Clase 8: 0.57% accuracy\n",
            "Clase 8: IoU: 0.0081, Dice: 0.0161\n",
            "Clase 9: 52.25% accuracy\n",
            "Clase 9: IoU: 0.2256, Dice: 0.3681\n",
            "Clase 10: 0.00% accuracy\n",
            "Clase 10: IoU: 0.0000, Dice: 0.0000\n",
            "Clase 11: 38.38% accuracy\n",
            "Clase 11: IoU: 0.2916, Dice: 0.4516\n",
            "Mejor modelo guardado con Loss: 0.7327\n"
          ]
        },
        {
          "name": "stderr",
          "output_type": "stream",
          "text": [
            "Epoch 21/100: 100%|██████████| 203/203 [00:45<00:00,  4.46it/s, loss=0.678]\n"
          ]
        },
        {
          "name": "stdout",
          "output_type": "stream",
          "text": [
            "Epoch 21/100, Loss: 0.6972\n",
            "Epoch started at 2025-03-17 19:35:44 and ended at 2025-03-17 19:36:34\n",
            "Clase 1: 84.48% accuracy\n",
            "Clase 1: IoU: 0.7450, Dice: 0.8539\n",
            "Clase 2: 71.04% accuracy\n",
            "Clase 2: IoU: 0.5603, Dice: 0.7182\n",
            "Clase 3: 88.05% accuracy\n",
            "Clase 3: IoU: 0.6936, Dice: 0.8191\n",
            "Clase 4: 58.60% accuracy\n",
            "Clase 4: IoU: 0.4307, Dice: 0.6021\n",
            "Clase 5: 28.89% accuracy\n",
            "Clase 5: IoU: 0.1499, Dice: 0.2607\n",
            "Clase 6: 79.03% accuracy\n",
            "Clase 6: IoU: 0.5029, Dice: 0.6693\n",
            "Clase 7: 40.65% accuracy\n",
            "Clase 7: IoU: 0.1572, Dice: 0.2717\n",
            "Clase 8: 1.03% accuracy\n",
            "Clase 8: IoU: 0.0194, Dice: 0.0380\n",
            "Clase 9: 52.67% accuracy\n",
            "Clase 9: IoU: 0.4781, Dice: 0.6469\n",
            "Clase 10: 0.00% accuracy\n",
            "Clase 10: IoU: 0.0000, Dice: 0.0000\n",
            "Clase 11: 39.03% accuracy\n",
            "Clase 11: IoU: 0.2296, Dice: 0.3735\n",
            "Mejor modelo guardado con Loss: 0.6972\n"
          ]
        },
        {
          "name": "stderr",
          "output_type": "stream",
          "text": [
            "Epoch 22/100: 100%|██████████| 203/203 [00:45<00:00,  4.47it/s, loss=0.658]\n"
          ]
        },
        {
          "name": "stdout",
          "output_type": "stream",
          "text": [
            "Epoch 22/100, Loss: 0.6898\n",
            "Epoch started at 2025-03-17 19:36:38 and ended at 2025-03-17 19:37:29\n",
            "Clase 1: 84.38% accuracy\n",
            "Clase 1: IoU: 0.5922, Dice: 0.7439\n",
            "Clase 2: 71.27% accuracy\n",
            "Clase 2: IoU: 0.3675, Dice: 0.5375\n",
            "Clase 3: 88.06% accuracy\n",
            "Clase 3: IoU: 0.7178, Dice: 0.8357\n",
            "Clase 4: 59.06% accuracy\n",
            "Clase 4: IoU: 0.5591, Dice: 0.7172\n",
            "Clase 5: 28.86% accuracy\n",
            "Clase 5: IoU: 0.1589, Dice: 0.2742\n",
            "Clase 6: 79.10% accuracy\n",
            "Clase 6: IoU: 0.2200, Dice: 0.3606\n",
            "Clase 7: 42.05% accuracy\n",
            "Clase 7: IoU: 0.0475, Dice: 0.0907\n",
            "Clase 8: 1.94% accuracy\n",
            "Clase 8: IoU: 0.0076, Dice: 0.0150\n",
            "Clase 9: 54.29% accuracy\n",
            "Clase 9: IoU: 0.2259, Dice: 0.3685\n",
            "Clase 10: 0.00% accuracy\n",
            "Clase 10: IoU: 0.0000, Dice: 0.0000\n",
            "Clase 11: 40.76% accuracy\n",
            "Clase 11: IoU: 0.0497, Dice: 0.0946\n",
            "Mejor modelo guardado con Loss: 0.6898\n"
          ]
        },
        {
          "name": "stderr",
          "output_type": "stream",
          "text": [
            "Epoch 23/100: 100%|██████████| 203/203 [00:47<00:00,  4.27it/s, loss=0.702]\n"
          ]
        },
        {
          "name": "stdout",
          "output_type": "stream",
          "text": [
            "Epoch 23/100, Loss: 0.6800\n",
            "Epoch started at 2025-03-17 19:37:35 and ended at 2025-03-17 19:38:28\n",
            "Clase 1: 84.92% accuracy\n",
            "Clase 1: IoU: 0.7245, Dice: 0.8403\n",
            "Clase 2: 71.66% accuracy\n",
            "Clase 2: IoU: 0.2548, Dice: 0.4061\n",
            "Clase 3: 88.35% accuracy\n",
            "Clase 3: IoU: 0.7147, Dice: 0.8336\n",
            "Clase 4: 59.49% accuracy\n",
            "Clase 4: IoU: 0.3704, Dice: 0.5406\n",
            "Clase 5: 31.12% accuracy\n",
            "Clase 5: IoU: 0.0565, Dice: 0.1070\n",
            "Clase 6: 80.22% accuracy\n",
            "Clase 6: IoU: 0.3849, Dice: 0.5559\n",
            "Clase 7: 41.20% accuracy\n",
            "Clase 7: IoU: 0.3839, Dice: 0.5548\n",
            "Clase 8: 2.92% accuracy\n",
            "Clase 8: IoU: 0.0287, Dice: 0.0557\n",
            "Clase 9: 52.71% accuracy\n",
            "Clase 9: IoU: 0.2280, Dice: 0.3713\n",
            "Clase 10: 0.00% accuracy\n",
            "Clase 10: IoU: 0.0000, Dice: 0.0000\n",
            "Clase 11: 40.44% accuracy\n",
            "Clase 11: IoU: 0.0863, Dice: 0.1589\n",
            "Mejor modelo guardado con Loss: 0.6800\n"
          ]
        },
        {
          "name": "stderr",
          "output_type": "stream",
          "text": [
            "Epoch 24/100: 100%|██████████| 203/203 [00:45<00:00,  4.47it/s, loss=0.788]\n"
          ]
        },
        {
          "name": "stdout",
          "output_type": "stream",
          "text": [
            "Epoch 24/100, Loss: 0.6532\n",
            "Epoch started at 2025-03-17 19:38:29 and ended at 2025-03-17 19:39:19\n",
            "Clase 1: 85.73% accuracy\n",
            "Clase 1: IoU: 0.6116, Dice: 0.7590\n",
            "Clase 2: 74.04% accuracy\n",
            "Clase 2: IoU: 0.4909, Dice: 0.6585\n",
            "Clase 3: 88.65% accuracy\n",
            "Clase 3: IoU: 0.6764, Dice: 0.8070\n",
            "Clase 4: 60.73% accuracy\n",
            "Clase 4: IoU: 0.4717, Dice: 0.6410\n",
            "Clase 5: 31.95% accuracy\n",
            "Clase 5: IoU: 0.0498, Dice: 0.0950\n",
            "Clase 6: 81.35% accuracy\n",
            "Clase 6: IoU: 0.5034, Dice: 0.6697\n",
            "Clase 7: 42.87% accuracy\n",
            "Clase 7: IoU: 0.3170, Dice: 0.4814\n",
            "Clase 8: 4.08% accuracy\n",
            "Clase 8: IoU: 0.0187, Dice: 0.0367\n",
            "Clase 9: 54.74% accuracy\n",
            "Clase 9: IoU: 0.3004, Dice: 0.4620\n",
            "Clase 10: 0.74% accuracy\n",
            "Clase 10: IoU: 0.0000, Dice: 0.0000\n",
            "Clase 11: 42.02% accuracy\n",
            "Clase 11: IoU: 0.3444, Dice: 0.5124\n",
            "Mejor modelo guardado con Loss: 0.6532\n"
          ]
        },
        {
          "name": "stderr",
          "output_type": "stream",
          "text": [
            "Epoch 25/100: 100%|██████████| 203/203 [00:45<00:00,  4.48it/s, loss=0.644]\n"
          ]
        },
        {
          "name": "stdout",
          "output_type": "stream",
          "text": [
            "Epoch 25/100, Loss: 0.6562\n",
            "Epoch started at 2025-03-17 19:39:23 and ended at 2025-03-17 19:40:14\n",
            "Clase 1: 85.62% accuracy\n",
            "Clase 1: IoU: 0.6334, Dice: 0.7756\n",
            "Clase 2: 73.51% accuracy\n",
            "Clase 2: IoU: 0.2045, Dice: 0.3395\n",
            "Clase 3: 88.46% accuracy\n",
            "Clase 3: IoU: 0.7799, Dice: 0.8764\n",
            "Clase 4: 60.42% accuracy\n",
            "Clase 4: IoU: 0.4930, Dice: 0.6604\n",
            "Clase 5: 32.44% accuracy\n",
            "Clase 5: IoU: 0.4353, Dice: 0.6066\n",
            "Clase 6: 82.16% accuracy\n",
            "Clase 6: IoU: 0.5368, Dice: 0.6986\n",
            "Clase 7: 44.45% accuracy\n",
            "Clase 7: IoU: 0.4090, Dice: 0.5806\n",
            "Clase 8: 5.09% accuracy\n",
            "Clase 8: IoU: 0.0589, Dice: 0.1113\n",
            "Clase 9: 55.14% accuracy\n",
            "Clase 9: IoU: 0.2555, Dice: 0.4071\n",
            "Clase 10: 7.09% accuracy\n",
            "Clase 10: IoU: 0.1715, Dice: 0.2928\n",
            "Clase 11: 42.69% accuracy\n",
            "Clase 11: IoU: 0.4052, Dice: 0.5768\n"
          ]
        },
        {
          "name": "stderr",
          "output_type": "stream",
          "text": [
            "Epoch 26/100: 100%|██████████| 203/203 [00:45<00:00,  4.48it/s, loss=0.617]\n"
          ]
        },
        {
          "name": "stdout",
          "output_type": "stream",
          "text": [
            "Epoch 26/100, Loss: 0.6333\n",
            "Epoch started at 2025-03-17 19:40:14 and ended at 2025-03-17 19:41:04\n",
            "Clase 1: 85.90% accuracy\n",
            "Clase 1: IoU: 0.5024, Dice: 0.6688\n",
            "Clase 2: 75.20% accuracy\n",
            "Clase 2: IoU: 0.5416, Dice: 0.7026\n",
            "Clase 3: 88.78% accuracy\n",
            "Clase 3: IoU: 0.7479, Dice: 0.8557\n",
            "Clase 4: 62.17% accuracy\n",
            "Clase 4: IoU: 0.4225, Dice: 0.5940\n",
            "Clase 5: 33.93% accuracy\n",
            "Clase 5: IoU: 0.5296, Dice: 0.6925\n",
            "Clase 6: 83.05% accuracy\n",
            "Clase 6: IoU: 0.6491, Dice: 0.7872\n",
            "Clase 7: 44.86% accuracy\n",
            "Clase 7: IoU: 0.1699, Dice: 0.2905\n",
            "Clase 8: 7.12% accuracy\n",
            "Clase 8: IoU: 0.0380, Dice: 0.0731\n",
            "Clase 9: 56.00% accuracy\n",
            "Clase 9: IoU: 0.4347, Dice: 0.6060\n",
            "Clase 10: 19.03% accuracy\n",
            "Clase 10: IoU: 0.0000, Dice: 0.0000\n",
            "Clase 11: 43.62% accuracy\n",
            "Clase 11: IoU: 0.0806, Dice: 0.1492\n",
            "Mejor modelo guardado con Loss: 0.6333\n"
          ]
        },
        {
          "name": "stderr",
          "output_type": "stream",
          "text": [
            "Epoch 27/100: 100%|██████████| 203/203 [00:45<00:00,  4.47it/s, loss=0.659]\n"
          ]
        },
        {
          "name": "stdout",
          "output_type": "stream",
          "text": [
            "Epoch 27/100, Loss: 0.6240\n",
            "Epoch started at 2025-03-17 19:41:08 and ended at 2025-03-17 19:41:58\n",
            "Clase 1: 86.34% accuracy\n",
            "Clase 1: IoU: 0.7147, Dice: 0.8336\n",
            "Clase 2: 75.63% accuracy\n",
            "Clase 2: IoU: 0.5669, Dice: 0.7236\n",
            "Clase 3: 88.89% accuracy\n",
            "Clase 3: IoU: 0.5689, Dice: 0.7252\n",
            "Clase 4: 62.66% accuracy\n",
            "Clase 4: IoU: 0.3308, Dice: 0.4972\n",
            "Clase 5: 35.06% accuracy\n",
            "Clase 5: IoU: 0.0660, Dice: 0.1239\n",
            "Clase 6: 82.99% accuracy\n",
            "Clase 6: IoU: 0.5704, Dice: 0.7265\n",
            "Clase 7: 45.23% accuracy\n",
            "Clase 7: IoU: 0.3564, Dice: 0.5255\n",
            "Clase 8: 9.17% accuracy\n",
            "Clase 8: IoU: 0.0580, Dice: 0.1097\n",
            "Clase 9: 56.18% accuracy\n",
            "Clase 9: IoU: 0.2508, Dice: 0.4010\n",
            "Clase 10: 31.05% accuracy\n",
            "Clase 10: IoU: 0.0000, Dice: 0.0000\n",
            "Clase 11: 43.61% accuracy\n",
            "Clase 11: IoU: 0.3891, Dice: 0.5602\n",
            "Mejor modelo guardado con Loss: 0.6240\n"
          ]
        },
        {
          "name": "stderr",
          "output_type": "stream",
          "text": [
            "Epoch 28/100: 100%|██████████| 203/203 [00:45<00:00,  4.47it/s, loss=0.621]\n"
          ]
        },
        {
          "name": "stdout",
          "output_type": "stream",
          "text": [
            "Epoch 28/100, Loss: 0.6124\n",
            "Epoch started at 2025-03-17 19:42:02 and ended at 2025-03-17 19:42:53\n",
            "Clase 1: 86.67% accuracy\n",
            "Clase 1: IoU: 0.6008, Dice: 0.7506\n",
            "Clase 2: 76.43% accuracy\n",
            "Clase 2: IoU: 0.5911, Dice: 0.7430\n",
            "Clase 3: 89.10% accuracy\n",
            "Clase 3: IoU: 0.7510, Dice: 0.8578\n",
            "Clase 4: 63.15% accuracy\n",
            "Clase 4: IoU: 0.4324, Dice: 0.6038\n",
            "Clase 5: 35.33% accuracy\n",
            "Clase 5: IoU: 0.1493, Dice: 0.2598\n",
            "Clase 6: 83.28% accuracy\n",
            "Clase 6: IoU: 0.3972, Dice: 0.5686\n",
            "Clase 7: 46.21% accuracy\n",
            "Clase 7: IoU: 0.1574, Dice: 0.2719\n",
            "Clase 8: 10.30% accuracy\n",
            "Clase 8: IoU: 0.0542, Dice: 0.1028\n",
            "Clase 9: 56.41% accuracy\n",
            "Clase 9: IoU: 0.5074, Dice: 0.6732\n",
            "Clase 10: 37.05% accuracy\n",
            "Clase 10: IoU: 0.1217, Dice: 0.2170\n",
            "Clase 11: 43.76% accuracy\n",
            "Clase 11: IoU: 0.1370, Dice: 0.2409\n",
            "Mejor modelo guardado con Loss: 0.6124\n"
          ]
        },
        {
          "name": "stderr",
          "output_type": "stream",
          "text": [
            "Epoch 29/100: 100%|██████████| 203/203 [00:45<00:00,  4.44it/s, loss=0.543]\n"
          ]
        },
        {
          "name": "stdout",
          "output_type": "stream",
          "text": [
            "Epoch 29/100, Loss: 0.5958\n",
            "Epoch started at 2025-03-17 19:42:56 and ended at 2025-03-17 19:43:47\n",
            "Clase 1: 87.26% accuracy\n",
            "Clase 1: IoU: 0.6943, Dice: 0.8196\n",
            "Clase 2: 77.93% accuracy\n",
            "Clase 2: IoU: 0.7485, Dice: 0.8562\n",
            "Clase 3: 89.17% accuracy\n",
            "Clase 3: IoU: 0.7976, Dice: 0.8874\n",
            "Clase 4: 64.00% accuracy\n",
            "Clase 4: IoU: 0.6032, Dice: 0.7525\n",
            "Clase 5: 35.99% accuracy\n",
            "Clase 5: IoU: 0.1506, Dice: 0.2618\n",
            "Clase 6: 83.94% accuracy\n",
            "Clase 6: IoU: 0.5713, Dice: 0.7272\n",
            "Clase 7: 46.26% accuracy\n",
            "Clase 7: IoU: 0.4868, Dice: 0.6549\n",
            "Clase 8: 11.62% accuracy\n",
            "Clase 8: IoU: 0.1326, Dice: 0.2342\n",
            "Clase 9: 57.43% accuracy\n",
            "Clase 9: IoU: 0.3866, Dice: 0.5576\n",
            "Clase 10: 44.93% accuracy\n",
            "Clase 10: IoU: 0.1876, Dice: 0.3159\n",
            "Clase 11: 44.64% accuracy\n",
            "Clase 11: IoU: 0.2398, Dice: 0.3869\n",
            "Mejor modelo guardado con Loss: 0.5958\n"
          ]
        },
        {
          "name": "stderr",
          "output_type": "stream",
          "text": [
            "Epoch 30/100: 100%|██████████| 203/203 [00:45<00:00,  4.48it/s, loss=0.639]\n"
          ]
        },
        {
          "name": "stdout",
          "output_type": "stream",
          "text": [
            "Epoch 30/100, Loss: 0.5848\n",
            "Epoch started at 2025-03-17 19:43:51 and ended at 2025-03-17 19:44:41\n",
            "Clase 1: 87.40% accuracy\n",
            "Clase 1: IoU: 0.6735, Dice: 0.8049\n",
            "Clase 2: 78.27% accuracy\n",
            "Clase 2: IoU: 0.5961, Dice: 0.7469\n",
            "Clase 3: 89.33% accuracy\n",
            "Clase 3: IoU: 0.6374, Dice: 0.7786\n",
            "Clase 4: 64.74% accuracy\n",
            "Clase 4: IoU: 0.4442, Dice: 0.6152\n",
            "Clase 5: 36.75% accuracy\n",
            "Clase 5: IoU: 0.0447, Dice: 0.0856\n",
            "Clase 6: 84.60% accuracy\n",
            "Clase 6: IoU: 0.5337, Dice: 0.6960\n",
            "Clase 7: 47.41% accuracy\n",
            "Clase 7: IoU: 0.3939, Dice: 0.5651\n",
            "Clase 8: 14.84% accuracy\n",
            "Clase 8: IoU: 0.2926, Dice: 0.4527\n",
            "Clase 9: 57.95% accuracy\n",
            "Clase 9: IoU: 0.3728, Dice: 0.5431\n",
            "Clase 10: 49.10% accuracy\n",
            "Clase 10: IoU: 0.0000, Dice: 0.0000\n",
            "Clase 11: 44.55% accuracy\n",
            "Clase 11: IoU: 0.2403, Dice: 0.3874\n",
            "Mejor modelo guardado con Loss: 0.5848\n"
          ]
        },
        {
          "name": "stderr",
          "output_type": "stream",
          "text": [
            "Epoch 31/100: 100%|██████████| 203/203 [00:45<00:00,  4.49it/s, loss=0.553]\n"
          ]
        },
        {
          "name": "stdout",
          "output_type": "stream",
          "text": [
            "Epoch 31/100, Loss: 0.5888\n",
            "Epoch started at 2025-03-17 19:44:45 and ended at 2025-03-17 19:45:35\n",
            "Clase 1: 87.29% accuracy\n",
            "Clase 1: IoU: 0.7198, Dice: 0.8371\n",
            "Clase 2: 77.78% accuracy\n",
            "Clase 2: IoU: 0.6188, Dice: 0.7645\n",
            "Clase 3: 89.17% accuracy\n",
            "Clase 3: IoU: 0.8128, Dice: 0.8967\n",
            "Clase 4: 64.57% accuracy\n",
            "Clase 4: IoU: 0.5414, Dice: 0.7025\n",
            "Clase 5: 37.18% accuracy\n",
            "Clase 5: IoU: 0.4211, Dice: 0.5927\n",
            "Clase 6: 83.99% accuracy\n",
            "Clase 6: IoU: 0.5361, Dice: 0.6980\n",
            "Clase 7: 46.70% accuracy\n",
            "Clase 7: IoU: 0.5690, Dice: 0.7253\n",
            "Clase 8: 15.38% accuracy\n",
            "Clase 8: IoU: 0.1108, Dice: 0.1995\n",
            "Clase 9: 57.31% accuracy\n",
            "Clase 9: IoU: 0.2006, Dice: 0.3342\n",
            "Clase 10: 49.32% accuracy\n",
            "Clase 10: IoU: 0.5198, Dice: 0.6841\n",
            "Clase 11: 44.37% accuracy\n",
            "Clase 11: IoU: 0.2451, Dice: 0.3937\n"
          ]
        },
        {
          "name": "stderr",
          "output_type": "stream",
          "text": [
            "Epoch 32/100: 100%|██████████| 203/203 [00:45<00:00,  4.49it/s, loss=0.66]\n"
          ]
        },
        {
          "name": "stdout",
          "output_type": "stream",
          "text": [
            "Epoch 32/100, Loss: 0.5748\n",
            "Epoch started at 2025-03-17 19:45:35 and ended at 2025-03-17 19:46:26\n",
            "Clase 1: 87.48% accuracy\n",
            "Clase 1: IoU: 0.7262, Dice: 0.8414\n",
            "Clase 2: 78.77% accuracy\n",
            "Clase 2: IoU: 0.5527, Dice: 0.7119\n",
            "Clase 3: 89.28% accuracy\n",
            "Clase 3: IoU: 0.6960, Dice: 0.8208\n",
            "Clase 4: 65.46% accuracy\n",
            "Clase 4: IoU: 0.4788, Dice: 0.6475\n",
            "Clase 5: 37.93% accuracy\n",
            "Clase 5: IoU: 0.2053, Dice: 0.3406\n",
            "Clase 6: 84.38% accuracy\n",
            "Clase 6: IoU: 0.5906, Dice: 0.7426\n",
            "Clase 7: 47.39% accuracy\n",
            "Clase 7: IoU: 0.0864, Dice: 0.1590\n",
            "Clase 8: 16.97% accuracy\n",
            "Clase 8: IoU: 0.0873, Dice: 0.1605\n",
            "Clase 9: 58.59% accuracy\n",
            "Clase 9: IoU: 0.5010, Dice: 0.6675\n",
            "Clase 10: 54.37% accuracy\n",
            "Clase 10: IoU: 0.5951, Dice: 0.7462\n",
            "Clase 11: 45.07% accuracy\n",
            "Clase 11: IoU: 0.5086, Dice: 0.6742\n",
            "Mejor modelo guardado con Loss: 0.5748\n"
          ]
        },
        {
          "name": "stderr",
          "output_type": "stream",
          "text": [
            "Epoch 33/100: 100%|██████████| 203/203 [00:45<00:00,  4.50it/s, loss=0.507]\n"
          ]
        },
        {
          "name": "stdout",
          "output_type": "stream",
          "text": [
            "Epoch 33/100, Loss: 0.5656\n",
            "Epoch started at 2025-03-17 19:46:29 and ended at 2025-03-17 19:47:20\n",
            "Clase 1: 87.90% accuracy\n",
            "Clase 1: IoU: 0.5460, Dice: 0.7064\n",
            "Clase 2: 78.89% accuracy\n",
            "Clase 2: IoU: 0.6054, Dice: 0.7542\n",
            "Clase 3: 89.50% accuracy\n",
            "Clase 3: IoU: 0.7142, Dice: 0.8333\n",
            "Clase 4: 65.88% accuracy\n",
            "Clase 4: IoU: 0.3855, Dice: 0.5565\n",
            "Clase 5: 38.49% accuracy\n",
            "Clase 5: IoU: 0.1444, Dice: 0.2523\n",
            "Clase 6: 85.30% accuracy\n",
            "Clase 6: IoU: 0.1406, Dice: 0.2465\n",
            "Clase 7: 47.88% accuracy\n",
            "Clase 7: IoU: 0.0392, Dice: 0.0755\n",
            "Clase 8: 19.28% accuracy\n",
            "Clase 8: IoU: 0.0867, Dice: 0.1595\n",
            "Clase 9: 59.30% accuracy\n",
            "Clase 9: IoU: 0.1287, Dice: 0.2281\n",
            "Clase 10: 57.06% accuracy\n",
            "Clase 10: IoU: 0.5437, Dice: 0.7044\n",
            "Clase 11: 45.15% accuracy\n",
            "Clase 11: IoU: 0.3790, Dice: 0.5496\n",
            "Mejor modelo guardado con Loss: 0.5656\n"
          ]
        },
        {
          "name": "stderr",
          "output_type": "stream",
          "text": [
            "Epoch 34/100: 100%|██████████| 203/203 [00:45<00:00,  4.49it/s, loss=0.661]\n"
          ]
        },
        {
          "name": "stdout",
          "output_type": "stream",
          "text": [
            "Epoch 34/100, Loss: 0.5500\n",
            "Epoch started at 2025-03-17 19:47:23 and ended at 2025-03-17 19:48:14\n",
            "Clase 1: 88.35% accuracy\n",
            "Clase 1: IoU: 0.6976, Dice: 0.8219\n",
            "Clase 2: 80.06% accuracy\n",
            "Clase 2: IoU: 0.5238, Dice: 0.6875\n",
            "Clase 3: 89.62% accuracy\n",
            "Clase 3: IoU: 0.6131, Dice: 0.7602\n",
            "Clase 4: 66.77% accuracy\n",
            "Clase 4: IoU: 0.5868, Dice: 0.7396\n",
            "Clase 5: 39.02% accuracy\n",
            "Clase 5: IoU: 0.2323, Dice: 0.3770\n",
            "Clase 6: 85.86% accuracy\n",
            "Clase 6: IoU: 0.5952, Dice: 0.7462\n",
            "Clase 7: 47.95% accuracy\n",
            "Clase 7: IoU: 0.3336, Dice: 0.5003\n",
            "Clase 8: 22.08% accuracy\n",
            "Clase 8: IoU: 0.3199, Dice: 0.4848\n",
            "Clase 9: 60.06% accuracy\n",
            "Clase 9: IoU: 0.4583, Dice: 0.6286\n",
            "Clase 10: 59.88% accuracy\n",
            "Clase 10: IoU: 0.0844, Dice: 0.1556\n",
            "Clase 11: 45.66% accuracy\n",
            "Clase 11: IoU: 0.1746, Dice: 0.2973\n",
            "Mejor modelo guardado con Loss: 0.5500\n"
          ]
        },
        {
          "name": "stderr",
          "output_type": "stream",
          "text": [
            "Epoch 35/100: 100%|██████████| 203/203 [00:45<00:00,  4.48it/s, loss=0.517]\n"
          ]
        },
        {
          "name": "stdout",
          "output_type": "stream",
          "text": [
            "Epoch 35/100, Loss: 0.5459\n",
            "Epoch started at 2025-03-17 19:48:17 and ended at 2025-03-17 19:49:08\n",
            "Clase 1: 88.53% accuracy\n",
            "Clase 1: IoU: 0.7519, Dice: 0.8584\n",
            "Clase 2: 80.59% accuracy\n",
            "Clase 2: IoU: 0.4841, Dice: 0.6524\n",
            "Clase 3: 89.55% accuracy\n",
            "Clase 3: IoU: 0.7653, Dice: 0.8671\n",
            "Clase 4: 67.14% accuracy\n",
            "Clase 4: IoU: 0.5964, Dice: 0.7472\n",
            "Clase 5: 39.72% accuracy\n",
            "Clase 5: IoU: 0.2173, Dice: 0.3571\n",
            "Clase 6: 85.26% accuracy\n",
            "Clase 6: IoU: 0.6149, Dice: 0.7616\n",
            "Clase 7: 48.07% accuracy\n",
            "Clase 7: IoU: 0.0819, Dice: 0.1514\n",
            "Clase 8: 24.23% accuracy\n",
            "Clase 8: IoU: 0.1095, Dice: 0.1975\n",
            "Clase 9: 59.93% accuracy\n",
            "Clase 9: IoU: 0.2582, Dice: 0.4105\n",
            "Clase 10: 60.53% accuracy\n",
            "Clase 10: IoU: 0.6455, Dice: 0.7845\n",
            "Clase 11: 45.08% accuracy\n",
            "Clase 11: IoU: 0.4493, Dice: 0.6200\n",
            "Mejor modelo guardado con Loss: 0.5459\n"
          ]
        },
        {
          "name": "stderr",
          "output_type": "stream",
          "text": [
            "Epoch 36/100: 100%|██████████| 203/203 [00:45<00:00,  4.48it/s, loss=0.512]\n"
          ]
        },
        {
          "name": "stdout",
          "output_type": "stream",
          "text": [
            "Epoch 36/100, Loss: 0.5461\n",
            "Epoch started at 2025-03-17 19:49:12 and ended at 2025-03-17 19:50:02\n",
            "Clase 1: 88.41% accuracy\n",
            "Clase 1: IoU: 0.5846, Dice: 0.7379\n",
            "Clase 2: 80.15% accuracy\n",
            "Clase 2: IoU: 0.5189, Dice: 0.6832\n",
            "Clase 3: 89.67% accuracy\n",
            "Clase 3: IoU: 0.7653, Dice: 0.8670\n",
            "Clase 4: 67.06% accuracy\n",
            "Clase 4: IoU: 0.4438, Dice: 0.6147\n",
            "Clase 5: 39.14% accuracy\n",
            "Clase 5: IoU: 0.2226, Dice: 0.3642\n",
            "Clase 6: 85.54% accuracy\n",
            "Clase 6: IoU: 0.5687, Dice: 0.7250\n",
            "Clase 7: 48.52% accuracy\n",
            "Clase 7: IoU: 0.0164, Dice: 0.0322\n",
            "Clase 8: 24.79% accuracy\n",
            "Clase 8: IoU: 0.0370, Dice: 0.0713\n",
            "Clase 9: 60.09% accuracy\n",
            "Clase 9: IoU: 0.5936, Dice: 0.7450\n",
            "Clase 10: 60.53% accuracy\n",
            "Clase 10: IoU: 0.0000, Dice: 0.0000\n",
            "Clase 11: 45.40% accuracy\n",
            "Clase 11: IoU: 0.0655, Dice: 0.1230\n"
          ]
        },
        {
          "name": "stderr",
          "output_type": "stream",
          "text": [
            "Epoch 37/100: 100%|██████████| 203/203 [00:45<00:00,  4.49it/s, loss=0.628]\n"
          ]
        },
        {
          "name": "stdout",
          "output_type": "stream",
          "text": [
            "Epoch 37/100, Loss: 0.5254\n",
            "Epoch started at 2025-03-17 19:50:02 and ended at 2025-03-17 19:50:53\n",
            "Clase 1: 89.01% accuracy\n",
            "Clase 1: IoU: 0.7392, Dice: 0.8500\n",
            "Clase 2: 81.47% accuracy\n",
            "Clase 2: IoU: 0.5373, Dice: 0.6990\n",
            "Clase 3: 89.88% accuracy\n",
            "Clase 3: IoU: 0.6398, Dice: 0.7803\n",
            "Clase 4: 68.23% accuracy\n",
            "Clase 4: IoU: 0.5028, Dice: 0.6692\n",
            "Clase 5: 40.54% accuracy\n",
            "Clase 5: IoU: 0.3910, Dice: 0.5622\n",
            "Clase 6: 86.44% accuracy\n",
            "Clase 6: IoU: 0.5696, Dice: 0.7258\n",
            "Clase 7: 49.02% accuracy\n",
            "Clase 7: IoU: 0.5245, Dice: 0.6881\n",
            "Clase 8: 27.22% accuracy\n",
            "Clase 8: IoU: 0.2086, Dice: 0.3452\n",
            "Clase 9: 61.62% accuracy\n",
            "Clase 9: IoU: 0.3714, Dice: 0.5416\n",
            "Clase 10: 64.51% accuracy\n",
            "Clase 10: IoU: 0.4512, Dice: 0.6218\n",
            "Clase 11: 45.84% accuracy\n",
            "Clase 11: IoU: 0.3408, Dice: 0.5083\n",
            "Mejor modelo guardado con Loss: 0.5254\n"
          ]
        },
        {
          "name": "stderr",
          "output_type": "stream",
          "text": [
            "Epoch 38/100: 100%|██████████| 203/203 [00:45<00:00,  4.49it/s, loss=0.431]\n"
          ]
        },
        {
          "name": "stdout",
          "output_type": "stream",
          "text": [
            "Epoch 38/100, Loss: 0.5244\n",
            "Epoch started at 2025-03-17 19:50:56 and ended at 2025-03-17 19:51:47\n",
            "Clase 1: 88.89% accuracy\n",
            "Clase 1: IoU: 0.6916, Dice: 0.8177\n",
            "Clase 2: 81.38% accuracy\n",
            "Clase 2: IoU: 0.6352, Dice: 0.7769\n",
            "Clase 3: 89.91% accuracy\n",
            "Clase 3: IoU: 0.8348, Dice: 0.9100\n",
            "Clase 4: 68.37% accuracy\n",
            "Clase 4: IoU: 0.3705, Dice: 0.5406\n",
            "Clase 5: 40.03% accuracy\n",
            "Clase 5: IoU: 0.4023, Dice: 0.5738\n",
            "Clase 6: 86.45% accuracy\n",
            "Clase 6: IoU: 0.4671, Dice: 0.6367\n",
            "Clase 7: 48.85% accuracy\n",
            "Clase 7: IoU: 0.4463, Dice: 0.6171\n",
            "Clase 8: 28.67% accuracy\n",
            "Clase 8: IoU: 0.1865, Dice: 0.3143\n",
            "Clase 9: 61.28% accuracy\n",
            "Clase 9: IoU: 0.1560, Dice: 0.2699\n",
            "Clase 10: 64.91% accuracy\n",
            "Clase 10: IoU: 0.0000, Dice: 0.0000\n",
            "Clase 11: 45.53% accuracy\n",
            "Clase 11: IoU: 0.4320, Dice: 0.6033\n",
            "Mejor modelo guardado con Loss: 0.5244\n"
          ]
        },
        {
          "name": "stderr",
          "output_type": "stream",
          "text": [
            "Epoch 39/100: 100%|██████████| 203/203 [00:45<00:00,  4.50it/s, loss=0.6]\n"
          ]
        },
        {
          "name": "stdout",
          "output_type": "stream",
          "text": [
            "Epoch 39/100, Loss: 0.5235\n",
            "Epoch started at 2025-03-17 19:51:50 and ended at 2025-03-17 19:52:41\n",
            "Clase 1: 88.92% accuracy\n",
            "Clase 1: IoU: 0.5838, Dice: 0.7372\n",
            "Clase 2: 81.46% accuracy\n",
            "Clase 2: IoU: 0.6773, Dice: 0.8076\n",
            "Clase 3: 89.82% accuracy\n",
            "Clase 3: IoU: 0.6915, Dice: 0.8176\n",
            "Clase 4: 68.41% accuracy\n",
            "Clase 4: IoU: 0.4657, Dice: 0.6355\n",
            "Clase 5: 41.16% accuracy\n",
            "Clase 5: IoU: 0.2258, Dice: 0.3685\n",
            "Clase 6: 85.96% accuracy\n",
            "Clase 6: IoU: 0.6037, Dice: 0.7529\n",
            "Clase 7: 48.50% accuracy\n",
            "Clase 7: IoU: 0.3087, Dice: 0.4717\n",
            "Clase 8: 29.33% accuracy\n",
            "Clase 8: IoU: 0.0534, Dice: 0.1015\n",
            "Clase 9: 61.43% accuracy\n",
            "Clase 9: IoU: 0.2959, Dice: 0.4566\n",
            "Clase 10: 65.27% accuracy\n",
            "Clase 10: IoU: 0.0476, Dice: 0.0909\n",
            "Clase 11: 45.83% accuracy\n",
            "Clase 11: IoU: 0.3181, Dice: 0.4826\n",
            "Mejor modelo guardado con Loss: 0.5235\n"
          ]
        },
        {
          "name": "stderr",
          "output_type": "stream",
          "text": [
            "Epoch 40/100: 100%|██████████| 203/203 [00:45<00:00,  4.49it/s, loss=0.485]\n"
          ]
        },
        {
          "name": "stdout",
          "output_type": "stream",
          "text": [
            "Epoch 40/100, Loss: 0.5104\n",
            "Epoch started at 2025-03-17 19:52:44 and ended at 2025-03-17 19:53:35\n",
            "Clase 1: 89.34% accuracy\n",
            "Clase 1: IoU: 0.7522, Dice: 0.8586\n",
            "Clase 2: 82.34% accuracy\n",
            "Clase 2: IoU: 0.3816, Dice: 0.5524\n",
            "Clase 3: 90.01% accuracy\n",
            "Clase 3: IoU: 0.7965, Dice: 0.8867\n",
            "Clase 4: 69.08% accuracy\n",
            "Clase 4: IoU: 0.3391, Dice: 0.5064\n",
            "Clase 5: 41.83% accuracy\n",
            "Clase 5: IoU: 0.1307, Dice: 0.2311\n",
            "Clase 6: 86.44% accuracy\n",
            "Clase 6: IoU: 0.5214, Dice: 0.6854\n",
            "Clase 7: 49.34% accuracy\n",
            "Clase 7: IoU: 0.5279, Dice: 0.6910\n",
            "Clase 8: 30.37% accuracy\n",
            "Clase 8: IoU: 0.2733, Dice: 0.4293\n",
            "Clase 9: 61.99% accuracy\n",
            "Clase 9: IoU: 0.5157, Dice: 0.6805\n",
            "Clase 10: 66.54% accuracy\n",
            "Clase 10: IoU: 0.6159, Dice: 0.7623\n",
            "Clase 11: 45.99% accuracy\n",
            "Clase 11: IoU: 0.4819, Dice: 0.6504\n",
            "Mejor modelo guardado con Loss: 0.5104\n"
          ]
        },
        {
          "name": "stderr",
          "output_type": "stream",
          "text": [
            "Epoch 41/100: 100%|██████████| 203/203 [00:45<00:00,  4.48it/s, loss=0.558]\n"
          ]
        },
        {
          "name": "stdout",
          "output_type": "stream",
          "text": [
            "Epoch 41/100, Loss: 0.4984\n",
            "Epoch started at 2025-03-17 19:53:38 and ended at 2025-03-17 19:54:29\n",
            "Clase 1: 89.61% accuracy\n",
            "Clase 1: IoU: 0.7545, Dice: 0.8601\n",
            "Clase 2: 82.95% accuracy\n",
            "Clase 2: IoU: 0.7029, Dice: 0.8255\n",
            "Clase 3: 90.17% accuracy\n",
            "Clase 3: IoU: 0.6466, Dice: 0.7854\n",
            "Clase 4: 69.86% accuracy\n",
            "Clase 4: IoU: 0.4951, Dice: 0.6623\n",
            "Clase 5: 42.20% accuracy\n",
            "Clase 5: IoU: 0.3116, Dice: 0.4751\n",
            "Clase 6: 86.88% accuracy\n",
            "Clase 6: IoU: 0.7025, Dice: 0.8252\n",
            "Clase 7: 49.69% accuracy\n",
            "Clase 7: IoU: 0.4380, Dice: 0.6091\n",
            "Clase 8: 33.48% accuracy\n",
            "Clase 8: IoU: 0.2169, Dice: 0.3564\n",
            "Clase 9: 63.36% accuracy\n",
            "Clase 9: IoU: 0.3734, Dice: 0.5437\n",
            "Clase 10: 68.27% accuracy\n",
            "Clase 10: IoU: 0.5094, Dice: 0.6750\n",
            "Clase 11: 46.08% accuracy\n",
            "Clase 11: IoU: 0.3588, Dice: 0.5281\n",
            "Mejor modelo guardado con Loss: 0.4984\n"
          ]
        },
        {
          "name": "stderr",
          "output_type": "stream",
          "text": [
            "Epoch 42/100: 100%|██████████| 203/203 [00:45<00:00,  4.49it/s, loss=0.548]\n"
          ]
        },
        {
          "name": "stdout",
          "output_type": "stream",
          "text": [
            "Epoch 42/100, Loss: 0.4965\n",
            "Epoch started at 2025-03-17 19:54:33 and ended at 2025-03-17 19:55:23\n",
            "Clase 1: 89.60% accuracy\n",
            "Clase 1: IoU: 0.7742, Dice: 0.8727\n",
            "Clase 2: 82.72% accuracy\n",
            "Clase 2: IoU: 0.3472, Dice: 0.5155\n",
            "Clase 3: 90.12% accuracy\n",
            "Clase 3: IoU: 0.7763, Dice: 0.8741\n",
            "Clase 4: 70.01% accuracy\n",
            "Clase 4: IoU: 0.4787, Dice: 0.6475\n",
            "Clase 5: 42.81% accuracy\n",
            "Clase 5: IoU: 0.2861, Dice: 0.4449\n",
            "Clase 6: 87.17% accuracy\n",
            "Clase 6: IoU: 0.6650, Dice: 0.7988\n",
            "Clase 7: 50.08% accuracy\n",
            "Clase 7: IoU: 0.0106, Dice: 0.0210\n",
            "Clase 8: 33.84% accuracy\n",
            "Clase 8: IoU: 0.2453, Dice: 0.3940\n",
            "Clase 9: 63.38% accuracy\n",
            "Clase 9: IoU: 0.4510, Dice: 0.6216\n",
            "Clase 10: 69.23% accuracy\n",
            "Clase 10: IoU: 0.6471, Dice: 0.7857\n",
            "Clase 11: 46.15% accuracy\n",
            "Clase 11: IoU: 0.1934, Dice: 0.3241\n",
            "Mejor modelo guardado con Loss: 0.4965\n"
          ]
        },
        {
          "name": "stderr",
          "output_type": "stream",
          "text": [
            "Epoch 43/100: 100%|██████████| 203/203 [00:45<00:00,  4.49it/s, loss=0.413]\n"
          ]
        },
        {
          "name": "stdout",
          "output_type": "stream",
          "text": [
            "Epoch 43/100, Loss: 0.4892\n",
            "Epoch started at 2025-03-17 19:55:27 and ended at 2025-03-17 19:56:17\n",
            "Clase 1: 89.79% accuracy\n",
            "Clase 1: IoU: 0.7727, Dice: 0.8718\n",
            "Clase 2: 83.37% accuracy\n",
            "Clase 2: IoU: 0.8148, Dice: 0.8980\n",
            "Clase 3: 90.28% accuracy\n",
            "Clase 3: IoU: 0.8046, Dice: 0.8917\n",
            "Clase 4: 70.25% accuracy\n",
            "Clase 4: IoU: 0.5304, Dice: 0.6932\n",
            "Clase 5: 43.14% accuracy\n",
            "Clase 5: IoU: 0.2619, Dice: 0.4151\n",
            "Clase 6: 86.78% accuracy\n",
            "Clase 6: IoU: 0.5038, Dice: 0.6701\n",
            "Clase 7: 50.22% accuracy\n",
            "Clase 7: IoU: 0.1783, Dice: 0.3027\n",
            "Clase 8: 34.58% accuracy\n",
            "Clase 8: IoU: 0.2490, Dice: 0.3988\n",
            "Clase 9: 63.62% accuracy\n",
            "Clase 9: IoU: 0.1473, Dice: 0.2568\n",
            "Clase 10: 69.64% accuracy\n",
            "Clase 10: IoU: 0.0000, Dice: 0.0000\n",
            "Clase 11: 46.41% accuracy\n",
            "Clase 11: IoU: 0.0575, Dice: 0.1087\n",
            "Mejor modelo guardado con Loss: 0.4892\n"
          ]
        },
        {
          "name": "stderr",
          "output_type": "stream",
          "text": [
            "Epoch 44/100: 100%|██████████| 203/203 [00:45<00:00,  4.49it/s, loss=0.511]\n"
          ]
        },
        {
          "name": "stdout",
          "output_type": "stream",
          "text": [
            "Epoch 44/100, Loss: 0.4797\n",
            "Epoch started at 2025-03-17 19:56:21 and ended at 2025-03-17 19:57:11\n",
            "Clase 1: 89.95% accuracy\n",
            "Clase 1: IoU: 0.7937, Dice: 0.8850\n",
            "Clase 2: 83.68% accuracy\n",
            "Clase 2: IoU: 0.5877, Dice: 0.7403\n",
            "Clase 3: 90.45% accuracy\n",
            "Clase 3: IoU: 0.7781, Dice: 0.8752\n",
            "Clase 4: 70.88% accuracy\n",
            "Clase 4: IoU: 0.5095, Dice: 0.6751\n",
            "Clase 5: 43.47% accuracy\n",
            "Clase 5: IoU: 0.0688, Dice: 0.1287\n",
            "Clase 6: 87.47% accuracy\n",
            "Clase 6: IoU: 0.5621, Dice: 0.7197\n",
            "Clase 7: 50.59% accuracy\n",
            "Clase 7: IoU: 0.4526, Dice: 0.6231\n",
            "Clase 8: 36.62% accuracy\n",
            "Clase 8: IoU: 0.1738, Dice: 0.2962\n",
            "Clase 9: 64.51% accuracy\n",
            "Clase 9: IoU: 0.4733, Dice: 0.6425\n",
            "Clase 10: 70.80% accuracy\n",
            "Clase 10: IoU: 0.6804, Dice: 0.8098\n",
            "Clase 11: 46.58% accuracy\n",
            "Clase 11: IoU: 0.3377, Dice: 0.5050\n",
            "Mejor modelo guardado con Loss: 0.4797\n"
          ]
        },
        {
          "name": "stderr",
          "output_type": "stream",
          "text": [
            "Epoch 45/100: 100%|██████████| 203/203 [00:45<00:00,  4.49it/s, loss=0.4]\n"
          ]
        },
        {
          "name": "stdout",
          "output_type": "stream",
          "text": [
            "Epoch 45/100, Loss: 0.4780\n",
            "Epoch started at 2025-03-17 19:57:15 and ended at 2025-03-17 19:58:05\n",
            "Clase 1: 89.82% accuracy\n",
            "Clase 1: IoU: 0.3074, Dice: 0.4703\n",
            "Clase 2: 83.56% accuracy\n",
            "Clase 2: IoU: 0.0033, Dice: 0.0066\n",
            "Clase 3: 90.44% accuracy\n",
            "Clase 3: IoU: 0.8629, Dice: 0.9264\n",
            "Clase 4: 71.17% accuracy\n",
            "Clase 4: IoU: 0.5304, Dice: 0.6931\n",
            "Clase 5: 44.54% accuracy\n",
            "Clase 5: IoU: 0.2786, Dice: 0.4358\n",
            "Clase 6: 87.13% accuracy\n",
            "Clase 6: IoU: 0.5073, Dice: 0.6731\n",
            "Clase 7: 50.67% accuracy\n",
            "Clase 7: IoU: 0.0661, Dice: 0.1240\n",
            "Clase 8: 36.53% accuracy\n",
            "Clase 8: IoU: 0.1613, Dice: 0.2778\n",
            "Clase 9: 64.38% accuracy\n",
            "Clase 9: IoU: 0.4542, Dice: 0.6247\n",
            "Clase 10: 71.76% accuracy\n",
            "Clase 10: IoU: 0.7376, Dice: 0.8490\n",
            "Clase 11: 46.67% accuracy\n",
            "Clase 11: IoU: 0.1356, Dice: 0.2389\n",
            "Mejor modelo guardado con Loss: 0.4780\n"
          ]
        },
        {
          "name": "stderr",
          "output_type": "stream",
          "text": [
            "Epoch 46/100: 100%|██████████| 203/203 [00:45<00:00,  4.48it/s, loss=0.487]\n"
          ]
        },
        {
          "name": "stdout",
          "output_type": "stream",
          "text": [
            "Epoch 46/100, Loss: 0.4691\n",
            "Epoch started at 2025-03-17 19:58:16 and ended at 2025-03-17 19:59:06\n",
            "Clase 1: 90.11% accuracy\n",
            "Clase 1: IoU: 0.7665, Dice: 0.8678\n",
            "Clase 2: 83.77% accuracy\n",
            "Clase 2: IoU: 0.7783, Dice: 0.8753\n",
            "Clase 3: 90.59% accuracy\n",
            "Clase 3: IoU: 0.7699, Dice: 0.8700\n",
            "Clase 4: 71.55% accuracy\n",
            "Clase 4: IoU: 0.5535, Dice: 0.7126\n",
            "Clase 5: 44.83% accuracy\n",
            "Clase 5: IoU: 0.0846, Dice: 0.1560\n",
            "Clase 6: 87.66% accuracy\n",
            "Clase 6: IoU: 0.6336, Dice: 0.7757\n",
            "Clase 7: 50.54% accuracy\n",
            "Clase 7: IoU: 0.1252, Dice: 0.2225\n",
            "Clase 8: 37.95% accuracy\n",
            "Clase 8: IoU: 0.1526, Dice: 0.2648\n",
            "Clase 9: 65.39% accuracy\n",
            "Clase 9: IoU: 0.5115, Dice: 0.6768\n",
            "Clase 10: 72.43% accuracy\n",
            "Clase 10: IoU: 0.6749, Dice: 0.8059\n",
            "Clase 11: 46.71% accuracy\n",
            "Clase 11: IoU: 0.0787, Dice: 0.1459\n",
            "Mejor modelo guardado con Loss: 0.4691\n"
          ]
        },
        {
          "name": "stderr",
          "output_type": "stream",
          "text": [
            "Epoch 47/100: 100%|██████████| 203/203 [00:45<00:00,  4.46it/s, loss=0.594]\n"
          ]
        },
        {
          "name": "stdout",
          "output_type": "stream",
          "text": [
            "Epoch 47/100, Loss: 0.4909\n",
            "Epoch started at 2025-03-17 19:59:10 and ended at 2025-03-17 20:00:01\n",
            "Clase 1: 89.43% accuracy\n",
            "Clase 1: IoU: 0.7317, Dice: 0.8450\n",
            "Clase 2: 82.95% accuracy\n",
            "Clase 2: IoU: 0.4788, Dice: 0.6475\n",
            "Clase 3: 90.15% accuracy\n",
            "Clase 3: IoU: 0.6882, Dice: 0.8153\n",
            "Clase 4: 70.58% accuracy\n",
            "Clase 4: IoU: 0.4304, Dice: 0.6018\n",
            "Clase 5: 43.64% accuracy\n",
            "Clase 5: IoU: 0.0919, Dice: 0.1683\n",
            "Clase 6: 86.02% accuracy\n",
            "Clase 6: IoU: 0.4057, Dice: 0.5773\n",
            "Clase 7: 49.32% accuracy\n",
            "Clase 7: IoU: 0.3317, Dice: 0.4981\n",
            "Clase 8: 36.85% accuracy\n",
            "Clase 8: IoU: 0.1466, Dice: 0.2558\n",
            "Clase 9: 63.74% accuracy\n",
            "Clase 9: IoU: 0.2948, Dice: 0.4554\n",
            "Clase 10: 68.95% accuracy\n",
            "Clase 10: IoU: 0.3197, Dice: 0.4845\n",
            "Clase 11: 46.06% accuracy\n",
            "Clase 11: IoU: 0.0544, Dice: 0.1032\n"
          ]
        },
        {
          "name": "stderr",
          "output_type": "stream",
          "text": [
            "Epoch 48/100: 100%|██████████| 203/203 [00:45<00:00,  4.49it/s, loss=0.541]\n"
          ]
        },
        {
          "name": "stdout",
          "output_type": "stream",
          "text": [
            "Epoch 48/100, Loss: 0.5193\n",
            "Epoch started at 2025-03-17 20:00:01 and ended at 2025-03-17 20:00:51\n",
            "Clase 1: 88.82% accuracy\n",
            "Clase 1: IoU: 0.7233, Dice: 0.8394\n",
            "Clase 2: 81.38% accuracy\n",
            "Clase 2: IoU: 0.7642, Dice: 0.8663\n",
            "Clase 3: 89.98% accuracy\n",
            "Clase 3: IoU: 0.7649, Dice: 0.8668\n",
            "Clase 4: 68.40% accuracy\n",
            "Clase 4: IoU: 0.6072, Dice: 0.7556\n",
            "Clase 5: 40.60% accuracy\n",
            "Clase 5: IoU: 0.2207, Dice: 0.3616\n",
            "Clase 6: 86.02% accuracy\n",
            "Clase 6: IoU: 0.7857, Dice: 0.8800\n",
            "Clase 7: 48.11% accuracy\n",
            "Clase 7: IoU: 0.2954, Dice: 0.4561\n",
            "Clase 8: 33.02% accuracy\n",
            "Clase 8: IoU: 0.3203, Dice: 0.4852\n",
            "Clase 9: 61.80% accuracy\n",
            "Clase 9: IoU: 0.5296, Dice: 0.6924\n",
            "Clase 10: 65.89% accuracy\n",
            "Clase 10: IoU: 0.6472, Dice: 0.7859\n",
            "Clase 11: 44.26% accuracy\n",
            "Clase 11: IoU: 0.1462, Dice: 0.2550\n"
          ]
        },
        {
          "name": "stderr",
          "output_type": "stream",
          "text": [
            "Epoch 49/100: 100%|██████████| 203/203 [00:45<00:00,  4.48it/s, loss=0.389]\n"
          ]
        },
        {
          "name": "stdout",
          "output_type": "stream",
          "text": [
            "Epoch 49/100, Loss: 0.4671\n",
            "Epoch started at 2025-03-17 20:00:51 and ended at 2025-03-17 20:01:42\n",
            "Clase 1: 90.17% accuracy\n",
            "Clase 1: IoU: 0.8014, Dice: 0.8898\n",
            "Clase 2: 84.11% accuracy\n",
            "Clase 2: IoU: 0.7983, Dice: 0.8878\n",
            "Clase 3: 90.55% accuracy\n",
            "Clase 3: IoU: 0.8075, Dice: 0.8935\n",
            "Clase 4: 71.69% accuracy\n",
            "Clase 4: IoU: 0.6890, Dice: 0.8159\n",
            "Clase 5: 44.62% accuracy\n",
            "Clase 5: IoU: 0.3262, Dice: 0.4920\n",
            "Clase 6: 87.16% accuracy\n",
            "Clase 6: IoU: 0.7702, Dice: 0.8702\n",
            "Clase 7: 50.49% accuracy\n",
            "Clase 7: IoU: 0.0000, Dice: 0.0000\n",
            "Clase 8: 38.14% accuracy\n",
            "Clase 8: IoU: 0.3893, Dice: 0.5604\n",
            "Clase 9: 65.55% accuracy\n",
            "Clase 9: IoU: 0.5436, Dice: 0.7043\n",
            "Clase 10: 74.01% accuracy\n",
            "Clase 10: IoU: 0.4961, Dice: 0.6632\n",
            "Clase 11: 46.88% accuracy\n",
            "Clase 11: IoU: 0.5615, Dice: 0.7191\n",
            "Mejor modelo guardado con Loss: 0.4671\n"
          ]
        },
        {
          "name": "stderr",
          "output_type": "stream",
          "text": [
            "Epoch 50/100: 100%|██████████| 203/203 [00:45<00:00,  4.49it/s, loss=0.426]\n"
          ]
        },
        {
          "name": "stdout",
          "output_type": "stream",
          "text": [
            "Epoch 50/100, Loss: 0.4467\n",
            "Epoch started at 2025-03-17 20:01:45 and ended at 2025-03-17 20:02:36\n",
            "Clase 1: 90.71% accuracy\n",
            "Clase 1: IoU: 0.8288, Dice: 0.9064\n",
            "Clase 2: 85.32% accuracy\n",
            "Clase 2: IoU: 0.4188, Dice: 0.5904\n",
            "Clase 3: 90.80% accuracy\n",
            "Clase 3: IoU: 0.7678, Dice: 0.8686\n",
            "Clase 4: 72.77% accuracy\n",
            "Clase 4: IoU: 0.7226, Dice: 0.8389\n",
            "Clase 5: 46.54% accuracy\n",
            "Clase 5: IoU: 0.4078, Dice: 0.5793\n",
            "Clase 6: 88.14% accuracy\n",
            "Clase 6: IoU: 0.6301, Dice: 0.7731\n",
            "Clase 7: 51.17% accuracy\n",
            "Clase 7: IoU: 0.1602, Dice: 0.2761\n",
            "Clase 8: 40.89% accuracy\n",
            "Clase 8: IoU: 0.2284, Dice: 0.3718\n",
            "Clase 9: 66.74% accuracy\n",
            "Clase 9: IoU: 0.4124, Dice: 0.5839\n",
            "Clase 10: 75.93% accuracy\n",
            "Clase 10: IoU: 0.6992, Dice: 0.8230\n",
            "Clase 11: 47.91% accuracy\n",
            "Clase 11: IoU: 0.2120, Dice: 0.3499\n",
            "Mejor modelo guardado con Loss: 0.4467\n"
          ]
        },
        {
          "name": "stderr",
          "output_type": "stream",
          "text": [
            "Epoch 51/100: 100%|██████████| 203/203 [00:45<00:00,  4.49it/s, loss=0.363]\n"
          ]
        },
        {
          "name": "stdout",
          "output_type": "stream",
          "text": [
            "Epoch 51/100, Loss: 0.4413\n",
            "Epoch started at 2025-03-17 20:02:43 and ended at 2025-03-17 20:03:33\n",
            "Clase 1: 90.79% accuracy\n",
            "Clase 1: IoU: 0.7827, Dice: 0.8781\n",
            "Clase 2: 85.35% accuracy\n",
            "Clase 2: IoU: 0.5108, Dice: 0.6762\n",
            "Clase 3: 90.88% accuracy\n",
            "Clase 3: IoU: 0.8767, Dice: 0.9343\n",
            "Clase 4: 73.08% accuracy\n",
            "Clase 4: IoU: 0.5620, Dice: 0.7196\n",
            "Clase 5: 46.81% accuracy\n",
            "Clase 5: IoU: 0.4155, Dice: 0.5870\n",
            "Clase 6: 87.96% accuracy\n",
            "Clase 6: IoU: 0.6870, Dice: 0.8145\n",
            "Clase 7: 51.73% accuracy\n",
            "Clase 7: IoU: 0.1247, Dice: 0.2217\n",
            "Clase 8: 42.25% accuracy\n",
            "Clase 8: IoU: 0.3004, Dice: 0.4621\n",
            "Clase 9: 67.69% accuracy\n",
            "Clase 9: IoU: 0.6977, Dice: 0.8220\n",
            "Clase 10: 77.29% accuracy\n",
            "Clase 10: IoU: 0.3484, Dice: 0.5167\n",
            "Clase 11: 48.03% accuracy\n",
            "Clase 11: IoU: 0.4790, Dice: 0.6478\n",
            "Mejor modelo guardado con Loss: 0.4413\n"
          ]
        },
        {
          "name": "stderr",
          "output_type": "stream",
          "text": [
            "Epoch 52/100: 100%|██████████| 203/203 [00:45<00:00,  4.48it/s, loss=0.437]\n"
          ]
        },
        {
          "name": "stdout",
          "output_type": "stream",
          "text": [
            "Epoch 52/100, Loss: 0.4425\n",
            "Epoch started at 2025-03-17 20:03:37 and ended at 2025-03-17 20:04:28\n",
            "Clase 1: 90.75% accuracy\n",
            "Clase 1: IoU: 0.5780, Dice: 0.7326\n",
            "Clase 2: 85.23% accuracy\n",
            "Clase 2: IoU: 0.6537, Dice: 0.7906\n",
            "Clase 3: 90.85% accuracy\n",
            "Clase 3: IoU: 0.7561, Dice: 0.8611\n",
            "Clase 4: 73.02% accuracy\n",
            "Clase 4: IoU: 0.5278, Dice: 0.6909\n",
            "Clase 5: 47.25% accuracy\n",
            "Clase 5: IoU: 0.3426, Dice: 0.5103\n",
            "Clase 6: 88.04% accuracy\n",
            "Clase 6: IoU: 0.0000, Dice: 0.0000\n",
            "Clase 7: 51.90% accuracy\n",
            "Clase 7: IoU: 0.1660, Dice: 0.2848\n",
            "Clase 8: 42.68% accuracy\n",
            "Clase 8: IoU: 0.2391, Dice: 0.3860\n",
            "Clase 9: 67.64% accuracy\n",
            "Clase 9: IoU: 0.3468, Dice: 0.5150\n",
            "Clase 10: 76.42% accuracy\n",
            "Clase 10: IoU: 0.6417, Dice: 0.7818\n",
            "Clase 11: 47.77% accuracy\n",
            "Clase 11: IoU: 0.1209, Dice: 0.2157\n"
          ]
        },
        {
          "name": "stderr",
          "output_type": "stream",
          "text": [
            "Epoch 53/100: 100%|██████████| 203/203 [00:45<00:00,  4.49it/s, loss=0.367]\n"
          ]
        },
        {
          "name": "stdout",
          "output_type": "stream",
          "text": [
            "Epoch 53/100, Loss: 0.4441\n",
            "Epoch started at 2025-03-17 20:04:28 and ended at 2025-03-17 20:05:18\n",
            "Clase 1: 90.57% accuracy\n",
            "Clase 1: IoU: 0.8235, Dice: 0.9032\n",
            "Clase 2: 85.10% accuracy\n",
            "Clase 2: IoU: 0.4758, Dice: 0.6448\n",
            "Clase 3: 90.82% accuracy\n",
            "Clase 3: IoU: 0.8725, Dice: 0.9319\n",
            "Clase 4: 72.97% accuracy\n",
            "Clase 4: IoU: 0.4573, Dice: 0.6276\n",
            "Clase 5: 46.95% accuracy\n",
            "Clase 5: IoU: 0.1586, Dice: 0.2738\n",
            "Clase 6: 88.04% accuracy\n",
            "Clase 6: IoU: 0.7477, Dice: 0.8557\n",
            "Clase 7: 51.18% accuracy\n",
            "Clase 7: IoU: 0.1504, Dice: 0.2614\n",
            "Clase 8: 41.91% accuracy\n",
            "Clase 8: IoU: 0.3527, Dice: 0.5215\n",
            "Clase 9: 66.98% accuracy\n",
            "Clase 9: IoU: 0.4796, Dice: 0.6482\n",
            "Clase 10: 75.74% accuracy\n",
            "Clase 10: IoU: 0.6520, Dice: 0.7894\n",
            "Clase 11: 47.59% accuracy\n",
            "Clase 11: IoU: 0.0880, Dice: 0.1618\n"
          ]
        },
        {
          "name": "stderr",
          "output_type": "stream",
          "text": [
            "Epoch 54/100: 100%|██████████| 203/203 [00:45<00:00,  4.49it/s, loss=0.448]\n"
          ]
        },
        {
          "name": "stdout",
          "output_type": "stream",
          "text": [
            "Epoch 54/100, Loss: 0.4284\n",
            "Epoch started at 2025-03-17 20:05:18 and ended at 2025-03-17 20:06:09\n",
            "Clase 1: 91.09% accuracy\n",
            "Clase 1: IoU: 0.7966, Dice: 0.8868\n",
            "Clase 2: 86.01% accuracy\n",
            "Clase 2: IoU: 0.6247, Dice: 0.7690\n",
            "Clase 3: 91.07% accuracy\n",
            "Clase 3: IoU: 0.7944, Dice: 0.8854\n",
            "Clase 4: 73.71% accuracy\n",
            "Clase 4: IoU: 0.6309, Dice: 0.7737\n",
            "Clase 5: 47.67% accuracy\n",
            "Clase 5: IoU: 0.2308, Dice: 0.3750\n",
            "Clase 6: 88.14% accuracy\n",
            "Clase 6: IoU: 0.7538, Dice: 0.8596\n",
            "Clase 7: 52.42% accuracy\n",
            "Clase 7: IoU: 0.3925, Dice: 0.5637\n",
            "Clase 8: 44.68% accuracy\n",
            "Clase 8: IoU: 0.3429, Dice: 0.5107\n",
            "Clase 9: 68.51% accuracy\n",
            "Clase 9: IoU: 0.4600, Dice: 0.6301\n",
            "Clase 10: 78.33% accuracy\n",
            "Clase 10: IoU: 0.5362, Dice: 0.6981\n",
            "Clase 11: 48.43% accuracy\n",
            "Clase 11: IoU: 0.2037, Dice: 0.3385\n",
            "Mejor modelo guardado con Loss: 0.4284\n"
          ]
        },
        {
          "name": "stderr",
          "output_type": "stream",
          "text": [
            "Epoch 55/100: 100%|██████████| 203/203 [00:45<00:00,  4.49it/s, loss=0.484]\n"
          ]
        },
        {
          "name": "stdout",
          "output_type": "stream",
          "text": [
            "Epoch 55/100, Loss: 0.4212\n",
            "Epoch started at 2025-03-17 20:06:12 and ended at 2025-03-17 20:07:03\n",
            "Clase 1: 91.19% accuracy\n",
            "Clase 1: IoU: 0.7846, Dice: 0.8793\n",
            "Clase 2: 86.32% accuracy\n",
            "Clase 2: IoU: 0.7635, Dice: 0.8659\n",
            "Clase 3: 91.10% accuracy\n",
            "Clase 3: IoU: 0.7926, Dice: 0.8843\n",
            "Clase 4: 74.34% accuracy\n",
            "Clase 4: IoU: 0.5653, Dice: 0.7223\n",
            "Clase 5: 48.23% accuracy\n",
            "Clase 5: IoU: 0.2035, Dice: 0.3382\n",
            "Clase 6: 88.25% accuracy\n",
            "Clase 6: IoU: 0.7204, Dice: 0.8374\n",
            "Clase 7: 51.96% accuracy\n",
            "Clase 7: IoU: 0.4177, Dice: 0.5893\n",
            "Clase 8: 44.95% accuracy\n",
            "Clase 8: IoU: 0.4308, Dice: 0.6022\n",
            "Clase 9: 68.86% accuracy\n",
            "Clase 9: IoU: 0.5732, Dice: 0.7287\n",
            "Clase 10: 78.87% accuracy\n",
            "Clase 10: IoU: 0.6696, Dice: 0.8021\n",
            "Clase 11: 48.86% accuracy\n",
            "Clase 11: IoU: 0.2428, Dice: 0.3907\n",
            "Mejor modelo guardado con Loss: 0.4212\n"
          ]
        },
        {
          "name": "stderr",
          "output_type": "stream",
          "text": [
            "Epoch 56/100: 100%|██████████| 203/203 [00:45<00:00,  4.50it/s, loss=0.463]\n"
          ]
        },
        {
          "name": "stdout",
          "output_type": "stream",
          "text": [
            "Epoch 56/100, Loss: 0.4294\n",
            "Epoch started at 2025-03-17 20:07:06 and ended at 2025-03-17 20:07:57\n",
            "Clase 1: 90.97% accuracy\n",
            "Clase 1: IoU: 0.7328, Dice: 0.8458\n",
            "Clase 2: 85.82% accuracy\n",
            "Clase 2: IoU: 0.7944, Dice: 0.8854\n",
            "Clase 3: 90.99% accuracy\n",
            "Clase 3: IoU: 0.7616, Dice: 0.8647\n",
            "Clase 4: 73.62% accuracy\n",
            "Clase 4: IoU: 0.5485, Dice: 0.7084\n",
            "Clase 5: 48.13% accuracy\n",
            "Clase 5: IoU: 0.1457, Dice: 0.2543\n",
            "Clase 6: 88.14% accuracy\n",
            "Clase 6: IoU: 0.7207, Dice: 0.8377\n",
            "Clase 7: 52.35% accuracy\n",
            "Clase 7: IoU: 0.2056, Dice: 0.3410\n",
            "Clase 8: 44.68% accuracy\n",
            "Clase 8: IoU: 0.2894, Dice: 0.4489\n",
            "Clase 9: 68.55% accuracy\n",
            "Clase 9: IoU: 0.5417, Dice: 0.7027\n",
            "Clase 10: 78.05% accuracy\n",
            "Clase 10: IoU: 0.6435, Dice: 0.7831\n",
            "Clase 11: 48.15% accuracy\n",
            "Clase 11: IoU: 0.2715, Dice: 0.4271\n"
          ]
        },
        {
          "name": "stderr",
          "output_type": "stream",
          "text": [
            "Epoch 57/100: 100%|██████████| 203/203 [00:45<00:00,  4.50it/s, loss=0.36]\n"
          ]
        },
        {
          "name": "stdout",
          "output_type": "stream",
          "text": [
            "Epoch 57/100, Loss: 0.4285\n",
            "Epoch started at 2025-03-17 20:07:57 and ended at 2025-03-17 20:08:47\n",
            "Clase 1: 90.92% accuracy\n",
            "Clase 1: IoU: 0.8015, Dice: 0.8898\n",
            "Clase 2: 85.75% accuracy\n",
            "Clase 2: IoU: 0.6100, Dice: 0.7577\n",
            "Clase 3: 91.01% accuracy\n",
            "Clase 3: IoU: 0.8728, Dice: 0.9321\n",
            "Clase 4: 73.88% accuracy\n",
            "Clase 4: IoU: 0.5848, Dice: 0.7380\n",
            "Clase 5: 47.88% accuracy\n",
            "Clase 5: IoU: 0.5833, Dice: 0.7368\n",
            "Clase 6: 88.04% accuracy\n",
            "Clase 6: IoU: 0.0222, Dice: 0.0434\n",
            "Clase 7: 52.31% accuracy\n",
            "Clase 7: IoU: 0.1696, Dice: 0.2901\n",
            "Clase 8: 45.36% accuracy\n",
            "Clase 8: IoU: 0.2121, Dice: 0.3499\n",
            "Clase 9: 68.17% accuracy\n",
            "Clase 9: IoU: 0.2573, Dice: 0.4092\n",
            "Clase 10: 78.17% accuracy\n",
            "Clase 10: IoU: 0.3755, Dice: 0.5460\n",
            "Clase 11: 48.67% accuracy\n",
            "Clase 11: IoU: 0.5984, Dice: 0.7487\n"
          ]
        },
        {
          "name": "stderr",
          "output_type": "stream",
          "text": [
            "Epoch 58/100: 100%|██████████| 203/203 [00:45<00:00,  4.47it/s, loss=0.354]\n"
          ]
        },
        {
          "name": "stdout",
          "output_type": "stream",
          "text": [
            "Epoch 58/100, Loss: 0.4238\n",
            "Epoch started at 2025-03-17 20:08:47 and ended at 2025-03-17 20:09:38\n",
            "Clase 1: 90.93% accuracy\n",
            "Clase 1: IoU: 0.8212, Dice: 0.9018\n",
            "Clase 2: 85.85% accuracy\n",
            "Clase 2: IoU: 0.8210, Dice: 0.9017\n",
            "Clase 3: 91.09% accuracy\n",
            "Clase 3: IoU: 0.7749, Dice: 0.8732\n",
            "Clase 4: 74.12% accuracy\n",
            "Clase 4: IoU: 0.5673, Dice: 0.7239\n",
            "Clase 5: 48.53% accuracy\n",
            "Clase 5: IoU: 0.2968, Dice: 0.4578\n",
            "Clase 6: 88.25% accuracy\n",
            "Clase 6: IoU: 0.6221, Dice: 0.7671\n",
            "Clase 7: 52.18% accuracy\n",
            "Clase 7: IoU: 0.1359, Dice: 0.2394\n",
            "Clase 8: 45.97% accuracy\n",
            "Clase 8: IoU: 0.2616, Dice: 0.4148\n",
            "Clase 9: 69.24% accuracy\n",
            "Clase 9: IoU: 0.3132, Dice: 0.4770\n",
            "Clase 10: 79.39% accuracy\n",
            "Clase 10: IoU: 0.4844, Dice: 0.6527\n",
            "Clase 11: 48.73% accuracy\n",
            "Clase 11: IoU: 0.0615, Dice: 0.1159\n"
          ]
        },
        {
          "name": "stderr",
          "output_type": "stream",
          "text": [
            "Epoch 59/100: 100%|██████████| 203/203 [00:45<00:00,  4.48it/s, loss=0.44]\n"
          ]
        },
        {
          "name": "stdout",
          "output_type": "stream",
          "text": [
            "Epoch 59/100, Loss: 0.4097\n",
            "Epoch started at 2025-03-17 20:09:38 and ended at 2025-03-17 20:10:29\n",
            "Clase 1: 91.33% accuracy\n",
            "Clase 1: IoU: 0.7670, Dice: 0.8681\n",
            "Clase 2: 86.68% accuracy\n",
            "Clase 2: IoU: 0.6696, Dice: 0.8021\n",
            "Clase 3: 91.28% accuracy\n",
            "Clase 3: IoU: 0.7644, Dice: 0.8665\n",
            "Clase 4: 74.85% accuracy\n",
            "Clase 4: IoU: 0.5363, Dice: 0.6982\n",
            "Clase 5: 49.70% accuracy\n",
            "Clase 5: IoU: 0.5681, Dice: 0.7246\n",
            "Clase 6: 88.50% accuracy\n",
            "Clase 6: IoU: 0.7677, Dice: 0.8686\n",
            "Clase 7: 53.56% accuracy\n",
            "Clase 7: IoU: 0.4049, Dice: 0.5764\n",
            "Clase 8: 47.05% accuracy\n",
            "Clase 8: IoU: 0.2818, Dice: 0.4397\n",
            "Clase 9: 70.05% accuracy\n",
            "Clase 9: IoU: 0.5422, Dice: 0.7031\n",
            "Clase 10: 80.56% accuracy\n",
            "Clase 10: IoU: 0.6405, Dice: 0.7809\n",
            "Clase 11: 49.07% accuracy\n",
            "Clase 11: IoU: 0.2125, Dice: 0.3505\n",
            "Mejor modelo guardado con Loss: 0.4097\n"
          ]
        },
        {
          "name": "stderr",
          "output_type": "stream",
          "text": [
            "Epoch 60/100: 100%|██████████| 203/203 [00:45<00:00,  4.49it/s, loss=0.337]\n"
          ]
        },
        {
          "name": "stdout",
          "output_type": "stream",
          "text": [
            "Epoch 60/100, Loss: 0.4015\n",
            "Epoch started at 2025-03-17 20:10:35 and ended at 2025-03-17 20:11:26\n",
            "Clase 1: 91.56% accuracy\n",
            "Clase 1: IoU: 0.7766, Dice: 0.8743\n",
            "Clase 2: 86.87% accuracy\n",
            "Clase 2: IoU: 0.6051, Dice: 0.7540\n",
            "Clase 3: 91.38% accuracy\n",
            "Clase 3: IoU: 0.8326, Dice: 0.9087\n",
            "Clase 4: 75.27% accuracy\n",
            "Clase 4: IoU: 0.5640, Dice: 0.7212\n",
            "Clase 5: 50.73% accuracy\n",
            "Clase 5: IoU: 0.3252, Dice: 0.4907\n",
            "Clase 6: 88.80% accuracy\n",
            "Clase 6: IoU: 0.6108, Dice: 0.7584\n",
            "Clase 7: 54.13% accuracy\n",
            "Clase 7: IoU: 0.2218, Dice: 0.3631\n",
            "Clase 8: 47.97% accuracy\n",
            "Clase 8: IoU: 0.2553, Dice: 0.4068\n",
            "Clase 9: 70.45% accuracy\n",
            "Clase 9: IoU: 0.3977, Dice: 0.5691\n",
            "Clase 10: 81.44% accuracy\n",
            "Clase 10: IoU: 0.0000, Dice: 0.0000\n",
            "Clase 11: 49.91% accuracy\n",
            "Clase 11: IoU: 0.1335, Dice: 0.2356\n",
            "Mejor modelo guardado con Loss: 0.4015\n"
          ]
        },
        {
          "name": "stderr",
          "output_type": "stream",
          "text": [
            "Epoch 61/100: 100%|██████████| 203/203 [00:45<00:00,  4.49it/s, loss=0.44]\n"
          ]
        },
        {
          "name": "stdout",
          "output_type": "stream",
          "text": [
            "Epoch 61/100, Loss: 0.3991\n",
            "Epoch started at 2025-03-17 20:11:29 and ended at 2025-03-17 20:12:20\n",
            "Clase 1: 91.53% accuracy\n",
            "Clase 1: IoU: 0.8090, Dice: 0.8944\n",
            "Clase 2: 86.93% accuracy\n",
            "Clase 2: IoU: 0.6712, Dice: 0.8033\n",
            "Clase 3: 91.42% accuracy\n",
            "Clase 3: IoU: 0.6081, Dice: 0.7563\n",
            "Clase 4: 75.44% accuracy\n",
            "Clase 4: IoU: 0.4540, Dice: 0.6245\n",
            "Clase 5: 50.56% accuracy\n",
            "Clase 5: IoU: 0.2422, Dice: 0.3899\n",
            "Clase 6: 89.04% accuracy\n",
            "Clase 6: IoU: 0.6471, Dice: 0.7858\n",
            "Clase 7: 54.09% accuracy\n",
            "Clase 7: IoU: 0.4412, Dice: 0.6122\n",
            "Clase 8: 48.54% accuracy\n",
            "Clase 8: IoU: 0.4303, Dice: 0.6017\n",
            "Clase 9: 71.23% accuracy\n",
            "Clase 9: IoU: 0.5026, Dice: 0.6690\n",
            "Clase 10: 82.07% accuracy\n",
            "Clase 10: IoU: 0.8156, Dice: 0.8984\n",
            "Clase 11: 50.03% accuracy\n",
            "Clase 11: IoU: 0.2743, Dice: 0.4306\n",
            "Mejor modelo guardado con Loss: 0.3991\n"
          ]
        },
        {
          "name": "stderr",
          "output_type": "stream",
          "text": [
            "Epoch 62/100: 100%|██████████| 203/203 [00:45<00:00,  4.48it/s, loss=0.437]\n"
          ]
        },
        {
          "name": "stdout",
          "output_type": "stream",
          "text": [
            "Epoch 62/100, Loss: 0.4121\n",
            "Epoch started at 2025-03-17 20:12:24 and ended at 2025-03-17 20:13:14\n",
            "Clase 1: 91.17% accuracy\n",
            "Clase 1: IoU: 0.7930, Dice: 0.8845\n",
            "Clase 2: 86.27% accuracy\n",
            "Clase 2: IoU: 0.6795, Dice: 0.8091\n",
            "Clase 3: 91.24% accuracy\n",
            "Clase 3: IoU: 0.8044, Dice: 0.8916\n",
            "Clase 4: 74.85% accuracy\n",
            "Clase 4: IoU: 0.6479, Dice: 0.7863\n",
            "Clase 5: 49.39% accuracy\n",
            "Clase 5: IoU: 0.5089, Dice: 0.6745\n",
            "Clase 6: 88.44% accuracy\n",
            "Clase 6: IoU: 0.7294, Dice: 0.8435\n",
            "Clase 7: 53.69% accuracy\n",
            "Clase 7: IoU: 0.2573, Dice: 0.4092\n",
            "Clase 8: 47.29% accuracy\n",
            "Clase 8: IoU: 0.3721, Dice: 0.5424\n",
            "Clase 9: 70.08% accuracy\n",
            "Clase 9: IoU: 0.6866, Dice: 0.8142\n",
            "Clase 10: 80.75% accuracy\n",
            "Clase 10: IoU: 0.6874, Dice: 0.8148\n",
            "Clase 11: 47.71% accuracy\n",
            "Clase 11: IoU: 0.3769, Dice: 0.5475\n"
          ]
        },
        {
          "name": "stderr",
          "output_type": "stream",
          "text": [
            "Epoch 63/100: 100%|██████████| 203/203 [00:45<00:00,  4.50it/s, loss=0.289]\n"
          ]
        },
        {
          "name": "stdout",
          "output_type": "stream",
          "text": [
            "Epoch 63/100, Loss: 0.4072\n",
            "Epoch started at 2025-03-17 20:13:14 and ended at 2025-03-17 20:14:05\n",
            "Clase 1: 91.34% accuracy\n",
            "Clase 1: IoU: 0.6347, Dice: 0.7766\n",
            "Clase 2: 86.39% accuracy\n",
            "Clase 2: IoU: 0.6180, Dice: 0.7639\n",
            "Clase 3: 91.30% accuracy\n",
            "Clase 3: IoU: 0.8943, Dice: 0.9442\n",
            "Clase 4: 74.92% accuracy\n",
            "Clase 4: IoU: 0.4826, Dice: 0.6510\n",
            "Clase 5: 49.97% accuracy\n",
            "Clase 5: IoU: 0.3970, Dice: 0.5683\n",
            "Clase 6: 88.56% accuracy\n",
            "Clase 6: IoU: 0.5925, Dice: 0.7441\n",
            "Clase 7: 53.73% accuracy\n",
            "Clase 7: IoU: 0.1593, Dice: 0.2748\n",
            "Clase 8: 48.04% accuracy\n",
            "Clase 8: IoU: 0.2327, Dice: 0.3775\n",
            "Clase 9: 70.74% accuracy\n",
            "Clase 9: IoU: 0.2075, Dice: 0.3437\n",
            "Clase 10: 81.16% accuracy\n",
            "Clase 10: IoU: 0.5528, Dice: 0.7120\n",
            "Clase 11: 49.53% accuracy\n",
            "Clase 11: IoU: 0.1743, Dice: 0.2969\n"
          ]
        },
        {
          "name": "stderr",
          "output_type": "stream",
          "text": [
            "Epoch 64/100: 100%|██████████| 203/203 [00:45<00:00,  4.48it/s, loss=0.36]\n"
          ]
        },
        {
          "name": "stdout",
          "output_type": "stream",
          "text": [
            "Epoch 64/100, Loss: 0.3938\n",
            "Epoch started at 2025-03-17 20:14:05 and ended at 2025-03-17 20:14:56\n",
            "Clase 1: 91.62% accuracy\n",
            "Clase 1: IoU: 0.5002, Dice: 0.6668\n",
            "Clase 2: 87.15% accuracy\n",
            "Clase 2: IoU: 0.6521, Dice: 0.7894\n",
            "Clase 3: 91.54% accuracy\n",
            "Clase 3: IoU: 0.8644, Dice: 0.9273\n",
            "Clase 4: 75.70% accuracy\n",
            "Clase 4: IoU: 0.6847, Dice: 0.8128\n",
            "Clase 5: 50.90% accuracy\n",
            "Clase 5: IoU: 0.1715, Dice: 0.2927\n",
            "Clase 6: 88.83% accuracy\n",
            "Clase 6: IoU: 0.7634, Dice: 0.8658\n",
            "Clase 7: 54.39% accuracy\n",
            "Clase 7: IoU: 0.4805, Dice: 0.6491\n",
            "Clase 8: 49.57% accuracy\n",
            "Clase 8: IoU: 0.3081, Dice: 0.4711\n",
            "Clase 9: 71.54% accuracy\n",
            "Clase 9: IoU: 0.7022, Dice: 0.8251\n",
            "Clase 10: 82.17% accuracy\n",
            "Clase 10: IoU: 0.4319, Dice: 0.6032\n",
            "Clase 11: 50.28% accuracy\n",
            "Clase 11: IoU: 0.2432, Dice: 0.3913\n",
            "Mejor modelo guardado con Loss: 0.3938\n"
          ]
        },
        {
          "name": "stderr",
          "output_type": "stream",
          "text": [
            "Epoch 65/100: 100%|██████████| 203/203 [00:45<00:00,  4.48it/s, loss=0.436]\n"
          ]
        },
        {
          "name": "stdout",
          "output_type": "stream",
          "text": [
            "Epoch 65/100, Loss: 0.3867\n",
            "Epoch started at 2025-03-17 20:14:59 and ended at 2025-03-17 20:15:50\n",
            "Clase 1: 91.73% accuracy\n",
            "Clase 1: IoU: 0.7230, Dice: 0.8393\n",
            "Clase 2: 87.48% accuracy\n",
            "Clase 2: IoU: 0.7057, Dice: 0.8275\n",
            "Clase 3: 91.57% accuracy\n",
            "Clase 3: IoU: 0.8023, Dice: 0.8903\n",
            "Clase 4: 76.04% accuracy\n",
            "Clase 4: IoU: 0.5631, Dice: 0.7205\n",
            "Clase 5: 52.01% accuracy\n",
            "Clase 5: IoU: 0.1509, Dice: 0.2622\n",
            "Clase 6: 88.94% accuracy\n",
            "Clase 6: IoU: 0.6812, Dice: 0.8103\n",
            "Clase 7: 55.12% accuracy\n",
            "Clase 7: IoU: 0.1088, Dice: 0.1962\n",
            "Clase 8: 50.34% accuracy\n",
            "Clase 8: IoU: 0.2556, Dice: 0.4071\n",
            "Clase 9: 72.34% accuracy\n",
            "Clase 9: IoU: 0.4811, Dice: 0.6496\n",
            "Clase 10: 83.30% accuracy\n",
            "Clase 10: IoU: 0.6624, Dice: 0.7969\n",
            "Clase 11: 51.06% accuracy\n",
            "Clase 11: IoU: 0.2105, Dice: 0.3478\n",
            "Mejor modelo guardado con Loss: 0.3867\n"
          ]
        },
        {
          "name": "stderr",
          "output_type": "stream",
          "text": [
            "Epoch 66/100: 100%|██████████| 203/203 [00:45<00:00,  4.49it/s, loss=0.449]\n"
          ]
        },
        {
          "name": "stdout",
          "output_type": "stream",
          "text": [
            "Epoch 66/100, Loss: 0.3877\n",
            "Epoch started at 2025-03-17 20:15:57 and ended at 2025-03-17 20:16:47\n",
            "Clase 1: 91.63% accuracy\n",
            "Clase 1: IoU: 0.8253, Dice: 0.9043\n",
            "Clase 2: 87.39% accuracy\n",
            "Clase 2: IoU: 0.7372, Dice: 0.8487\n",
            "Clase 3: 91.57% accuracy\n",
            "Clase 3: IoU: 0.6209, Dice: 0.7661\n",
            "Clase 4: 76.14% accuracy\n",
            "Clase 4: IoU: 0.7063, Dice: 0.8279\n",
            "Clase 5: 51.69% accuracy\n",
            "Clase 5: IoU: 0.1665, Dice: 0.2855\n",
            "Clase 6: 88.82% accuracy\n",
            "Clase 6: IoU: 0.7839, Dice: 0.8789\n",
            "Clase 7: 54.85% accuracy\n",
            "Clase 7: IoU: 0.4605, Dice: 0.6306\n",
            "Clase 8: 50.47% accuracy\n",
            "Clase 8: IoU: 0.2412, Dice: 0.3887\n",
            "Clase 9: 71.97% accuracy\n",
            "Clase 9: IoU: 0.4879, Dice: 0.6558\n",
            "Clase 10: 83.04% accuracy\n",
            "Clase 10: IoU: 0.6675, Dice: 0.8006\n",
            "Clase 11: 51.04% accuracy\n",
            "Clase 11: IoU: 0.1952, Dice: 0.3266\n"
          ]
        },
        {
          "name": "stderr",
          "output_type": "stream",
          "text": [
            "Epoch 67/100: 100%|██████████| 203/203 [00:45<00:00,  4.49it/s, loss=0.294]\n"
          ]
        },
        {
          "name": "stdout",
          "output_type": "stream",
          "text": [
            "Epoch 67/100, Loss: 0.3787\n",
            "Epoch started at 2025-03-17 20:16:47 and ended at 2025-03-17 20:17:38\n",
            "Clase 1: 91.87% accuracy\n",
            "Clase 1: IoU: 0.8884, Dice: 0.9409\n",
            "Clase 2: 87.73% accuracy\n",
            "Clase 2: IoU: 0.6311, Dice: 0.7738\n",
            "Clase 3: 91.72% accuracy\n",
            "Clase 3: IoU: 0.8086, Dice: 0.8942\n",
            "Clase 4: 76.62% accuracy\n",
            "Clase 4: IoU: 0.2745, Dice: 0.4307\n",
            "Clase 5: 51.97% accuracy\n",
            "Clase 5: IoU: 0.2045, Dice: 0.3395\n",
            "Clase 6: 89.15% accuracy\n",
            "Clase 6: IoU: 0.6723, Dice: 0.8041\n",
            "Clase 7: 55.70% accuracy\n",
            "Clase 7: IoU: 0.1647, Dice: 0.2828\n",
            "Clase 8: 51.25% accuracy\n",
            "Clase 8: IoU: 0.3137, Dice: 0.4776\n",
            "Clase 9: 72.85% accuracy\n",
            "Clase 9: IoU: 0.5747, Dice: 0.7299\n",
            "Clase 10: 84.06% accuracy\n",
            "Clase 10: IoU: 0.7794, Dice: 0.8760\n",
            "Clase 11: 51.16% accuracy\n",
            "Clase 11: IoU: 0.1930, Dice: 0.3236\n",
            "Mejor modelo guardado con Loss: 0.3787\n"
          ]
        },
        {
          "name": "stderr",
          "output_type": "stream",
          "text": [
            "Epoch 68/100: 100%|██████████| 203/203 [00:45<00:00,  4.49it/s, loss=0.329]\n"
          ]
        },
        {
          "name": "stdout",
          "output_type": "stream",
          "text": [
            "Epoch 68/100, Loss: 0.3747\n",
            "Epoch started at 2025-03-17 20:17:41 and ended at 2025-03-17 20:18:32\n",
            "Clase 1: 92.06% accuracy\n",
            "Clase 1: IoU: 0.7243, Dice: 0.8401\n",
            "Clase 2: 88.06% accuracy\n",
            "Clase 2: IoU: 0.6505, Dice: 0.7882\n",
            "Clase 3: 91.72% accuracy\n",
            "Clase 3: IoU: 0.8249, Dice: 0.9041\n",
            "Clase 4: 76.79% accuracy\n",
            "Clase 4: IoU: 0.5457, Dice: 0.7061\n",
            "Clase 5: 52.48% accuracy\n",
            "Clase 5: IoU: 0.1975, Dice: 0.3298\n",
            "Clase 6: 88.94% accuracy\n",
            "Clase 6: IoU: 0.7586, Dice: 0.8627\n",
            "Clase 7: 55.59% accuracy\n",
            "Clase 7: IoU: 0.4412, Dice: 0.6122\n",
            "Clase 8: 51.54% accuracy\n",
            "Clase 8: IoU: 0.2484, Dice: 0.3979\n",
            "Clase 9: 73.06% accuracy\n",
            "Clase 9: IoU: 0.4943, Dice: 0.6615\n",
            "Clase 10: 84.30% accuracy\n",
            "Clase 10: IoU: 0.7223, Dice: 0.8387\n",
            "Clase 11: 51.58% accuracy\n",
            "Clase 11: IoU: 0.3461, Dice: 0.5142\n",
            "Mejor modelo guardado con Loss: 0.3747\n"
          ]
        },
        {
          "name": "stderr",
          "output_type": "stream",
          "text": [
            "Epoch 69/100: 100%|██████████| 203/203 [00:45<00:00,  4.49it/s, loss=0.401]\n"
          ]
        },
        {
          "name": "stdout",
          "output_type": "stream",
          "text": [
            "Epoch 69/100, Loss: 0.3767\n",
            "Epoch started at 2025-03-17 20:18:35 and ended at 2025-03-17 20:19:26\n",
            "Clase 1: 91.90% accuracy\n",
            "Clase 1: IoU: 0.8601, Dice: 0.9248\n",
            "Clase 2: 87.79% accuracy\n",
            "Clase 2: IoU: 0.7657, Dice: 0.8673\n",
            "Clase 3: 91.68% accuracy\n",
            "Clase 3: IoU: 0.7915, Dice: 0.8836\n",
            "Clase 4: 76.74% accuracy\n",
            "Clase 4: IoU: 0.5554, Dice: 0.7142\n",
            "Clase 5: 52.93% accuracy\n",
            "Clase 5: IoU: 0.2702, Dice: 0.4254\n",
            "Clase 6: 89.07% accuracy\n",
            "Clase 6: IoU: 0.7549, Dice: 0.8603\n",
            "Clase 7: 56.01% accuracy\n",
            "Clase 7: IoU: 0.6054, Dice: 0.7542\n",
            "Clase 8: 51.26% accuracy\n",
            "Clase 8: IoU: 0.2780, Dice: 0.4351\n",
            "Clase 9: 73.04% accuracy\n",
            "Clase 9: IoU: 0.5908, Dice: 0.7428\n",
            "Clase 10: 84.10% accuracy\n",
            "Clase 10: IoU: 0.6540, Dice: 0.7908\n",
            "Clase 11: 51.44% accuracy\n",
            "Clase 11: IoU: 0.2192, Dice: 0.3596\n"
          ]
        },
        {
          "name": "stderr",
          "output_type": "stream",
          "text": [
            "Epoch 70/100: 100%|██████████| 203/203 [00:45<00:00,  4.49it/s, loss=0.399]\n"
          ]
        },
        {
          "name": "stdout",
          "output_type": "stream",
          "text": [
            "Epoch 70/100, Loss: 0.3735\n",
            "Epoch started at 2025-03-17 20:19:26 and ended at 2025-03-17 20:20:16\n",
            "Clase 1: 92.03% accuracy\n",
            "Clase 1: IoU: 0.7665, Dice: 0.8678\n",
            "Clase 2: 87.97% accuracy\n",
            "Clase 2: IoU: 0.7618, Dice: 0.8648\n",
            "Clase 3: 91.75% accuracy\n",
            "Clase 3: IoU: 0.6862, Dice: 0.8139\n",
            "Clase 4: 76.85% accuracy\n",
            "Clase 4: IoU: 0.5524, Dice: 0.7116\n",
            "Clase 5: 52.29% accuracy\n",
            "Clase 5: IoU: 0.1514, Dice: 0.2629\n",
            "Clase 6: 88.93% accuracy\n",
            "Clase 6: IoU: 0.7528, Dice: 0.8590\n",
            "Clase 7: 56.01% accuracy\n",
            "Clase 7: IoU: 0.4867, Dice: 0.6548\n",
            "Clase 8: 52.09% accuracy\n",
            "Clase 8: IoU: 0.3512, Dice: 0.5199\n",
            "Clase 9: 73.37% accuracy\n",
            "Clase 9: IoU: 0.6560, Dice: 0.7923\n",
            "Clase 10: 84.41% accuracy\n",
            "Clase 10: IoU: 0.7105, Dice: 0.8307\n",
            "Clase 11: 51.73% accuracy\n",
            "Clase 11: IoU: 0.2809, Dice: 0.4386\n",
            "Mejor modelo guardado con Loss: 0.3735\n"
          ]
        },
        {
          "name": "stderr",
          "output_type": "stream",
          "text": [
            "Epoch 71/100: 100%|██████████| 203/203 [00:45<00:00,  4.48it/s, loss=0.413]\n"
          ]
        },
        {
          "name": "stdout",
          "output_type": "stream",
          "text": [
            "Epoch 71/100, Loss: 0.3670\n",
            "Epoch started at 2025-03-17 20:20:20 and ended at 2025-03-17 20:21:11\n",
            "Clase 1: 92.19% accuracy\n",
            "Clase 1: IoU: 0.7609, Dice: 0.8642\n",
            "Clase 2: 88.35% accuracy\n",
            "Clase 2: IoU: 0.7809, Dice: 0.8770\n",
            "Clase 3: 91.85% accuracy\n",
            "Clase 3: IoU: 0.7273, Dice: 0.8421\n",
            "Clase 4: 77.23% accuracy\n",
            "Clase 4: IoU: 0.5651, Dice: 0.7221\n",
            "Clase 5: 53.12% accuracy\n",
            "Clase 5: IoU: 0.3828, Dice: 0.5537\n",
            "Clase 6: 89.02% accuracy\n",
            "Clase 6: IoU: 0.7581, Dice: 0.8624\n",
            "Clase 7: 56.35% accuracy\n",
            "Clase 7: IoU: 0.3934, Dice: 0.5646\n",
            "Clase 8: 52.59% accuracy\n",
            "Clase 8: IoU: 0.2863, Dice: 0.4452\n",
            "Clase 9: 73.33% accuracy\n",
            "Clase 9: IoU: 0.6739, Dice: 0.8052\n",
            "Clase 10: 84.87% accuracy\n",
            "Clase 10: IoU: 0.6545, Dice: 0.7912\n",
            "Clase 11: 52.14% accuracy\n",
            "Clase 11: IoU: 0.7933, Dice: 0.8848\n",
            "Mejor modelo guardado con Loss: 0.3670\n"
          ]
        },
        {
          "name": "stderr",
          "output_type": "stream",
          "text": [
            "Epoch 72/100: 100%|██████████| 203/203 [00:45<00:00,  4.48it/s, loss=0.42]\n"
          ]
        },
        {
          "name": "stdout",
          "output_type": "stream",
          "text": [
            "Epoch 72/100, Loss: 0.3710\n",
            "Epoch started at 2025-03-17 20:21:17 and ended at 2025-03-17 20:22:08\n",
            "Clase 1: 91.90% accuracy\n",
            "Clase 1: IoU: 0.6697, Dice: 0.8022\n",
            "Clase 2: 87.81% accuracy\n",
            "Clase 2: IoU: 0.7473, Dice: 0.8554\n",
            "Clase 3: 91.77% accuracy\n",
            "Clase 3: IoU: 0.7539, Dice: 0.8597\n",
            "Clase 4: 77.06% accuracy\n",
            "Clase 4: IoU: 0.6148, Dice: 0.7615\n",
            "Clase 5: 53.41% accuracy\n",
            "Clase 5: IoU: 0.2146, Dice: 0.3534\n",
            "Clase 6: 89.23% accuracy\n",
            "Clase 6: IoU: 0.4816, Dice: 0.6501\n",
            "Clase 7: 56.44% accuracy\n",
            "Clase 7: IoU: 0.5085, Dice: 0.6742\n",
            "Clase 8: 52.36% accuracy\n",
            "Clase 8: IoU: 0.3305, Dice: 0.4968\n",
            "Clase 9: 73.84% accuracy\n",
            "Clase 9: IoU: 0.4621, Dice: 0.6321\n",
            "Clase 10: 84.54% accuracy\n",
            "Clase 10: IoU: 0.8391, Dice: 0.9125\n",
            "Clase 11: 51.91% accuracy\n",
            "Clase 11: IoU: 0.4009, Dice: 0.5723\n"
          ]
        },
        {
          "name": "stderr",
          "output_type": "stream",
          "text": [
            "Epoch 73/100: 100%|██████████| 203/203 [00:45<00:00,  4.49it/s, loss=0.385]\n"
          ]
        },
        {
          "name": "stdout",
          "output_type": "stream",
          "text": [
            "Epoch 73/100, Loss: 0.3657\n",
            "Epoch started at 2025-03-17 20:22:08 and ended at 2025-03-17 20:22:59\n",
            "Clase 1: 92.11% accuracy\n",
            "Clase 1: IoU: 0.8015, Dice: 0.8898\n",
            "Clase 2: 88.09% accuracy\n",
            "Clase 2: IoU: 0.2787, Dice: 0.4360\n",
            "Clase 3: 91.84% accuracy\n",
            "Clase 3: IoU: 0.8115, Dice: 0.8960\n",
            "Clase 4: 77.37% accuracy\n",
            "Clase 4: IoU: 0.5230, Dice: 0.6868\n",
            "Clase 5: 53.72% accuracy\n",
            "Clase 5: IoU: 0.3562, Dice: 0.5253\n",
            "Clase 6: 89.34% accuracy\n",
            "Clase 6: IoU: 0.7178, Dice: 0.8357\n",
            "Clase 7: 57.09% accuracy\n",
            "Clase 7: IoU: 0.4880, Dice: 0.6559\n",
            "Clase 8: 52.68% accuracy\n",
            "Clase 8: IoU: 0.3615, Dice: 0.5310\n",
            "Clase 9: 73.92% accuracy\n",
            "Clase 9: IoU: 0.5570, Dice: 0.7155\n",
            "Clase 10: 84.76% accuracy\n",
            "Clase 10: IoU: 0.8194, Dice: 0.9008\n",
            "Clase 11: 52.08% accuracy\n",
            "Clase 11: IoU: 0.2553, Dice: 0.4068\n",
            "Mejor modelo guardado con Loss: 0.3657\n"
          ]
        },
        {
          "name": "stderr",
          "output_type": "stream",
          "text": [
            "Epoch 74/100: 100%|██████████| 203/203 [00:45<00:00,  4.49it/s, loss=0.397]\n"
          ]
        },
        {
          "name": "stdout",
          "output_type": "stream",
          "text": [
            "Epoch 74/100, Loss: 0.3671\n",
            "Epoch started at 2025-03-17 20:23:02 and ended at 2025-03-17 20:23:53\n",
            "Clase 1: 92.01% accuracy\n",
            "Clase 1: IoU: 0.8054, Dice: 0.8922\n",
            "Clase 2: 88.18% accuracy\n",
            "Clase 2: IoU: 0.8315, Dice: 0.9080\n",
            "Clase 3: 91.82% accuracy\n",
            "Clase 3: IoU: 0.6431, Dice: 0.7828\n",
            "Clase 4: 77.19% accuracy\n",
            "Clase 4: IoU: 0.4517, Dice: 0.6223\n",
            "Clase 5: 53.74% accuracy\n",
            "Clase 5: IoU: 0.3408, Dice: 0.5083\n",
            "Clase 6: 89.13% accuracy\n",
            "Clase 6: IoU: 0.6966, Dice: 0.8212\n",
            "Clase 7: 56.88% accuracy\n",
            "Clase 7: IoU: 0.3615, Dice: 0.5311\n",
            "Clase 8: 52.66% accuracy\n",
            "Clase 8: IoU: 0.3402, Dice: 0.5076\n",
            "Clase 9: 74.39% accuracy\n",
            "Clase 9: IoU: 0.4775, Dice: 0.6464\n",
            "Clase 10: 84.56% accuracy\n",
            "Clase 10: IoU: 0.7584, Dice: 0.8626\n",
            "Clase 11: 52.20% accuracy\n",
            "Clase 11: IoU: 0.3030, Dice: 0.4651\n"
          ]
        },
        {
          "name": "stderr",
          "output_type": "stream",
          "text": [
            "Epoch 75/100: 100%|██████████| 203/203 [00:45<00:00,  4.49it/s, loss=0.368]\n"
          ]
        },
        {
          "name": "stdout",
          "output_type": "stream",
          "text": [
            "Epoch 75/100, Loss: 0.3597\n",
            "Epoch started at 2025-03-17 20:23:53 and ended at 2025-03-17 20:24:43\n",
            "Clase 1: 92.26% accuracy\n",
            "Clase 1: IoU: 0.8277, Dice: 0.9058\n",
            "Clase 2: 88.46% accuracy\n",
            "Clase 2: IoU: 0.7848, Dice: 0.8794\n",
            "Clase 3: 91.95% accuracy\n",
            "Clase 3: IoU: 0.8086, Dice: 0.8942\n",
            "Clase 4: 77.53% accuracy\n",
            "Clase 4: IoU: 0.6587, Dice: 0.7942\n",
            "Clase 5: 54.35% accuracy\n",
            "Clase 5: IoU: 0.1799, Dice: 0.3050\n",
            "Clase 6: 89.45% accuracy\n",
            "Clase 6: IoU: 0.6033, Dice: 0.7526\n",
            "Clase 7: 57.40% accuracy\n",
            "Clase 7: IoU: 0.2016, Dice: 0.3355\n",
            "Clase 8: 53.68% accuracy\n",
            "Clase 8: IoU: 0.3271, Dice: 0.4929\n",
            "Clase 9: 74.75% accuracy\n",
            "Clase 9: IoU: 0.5366, Dice: 0.6984\n",
            "Clase 10: 85.54% accuracy\n",
            "Clase 10: IoU: 0.6458, Dice: 0.7848\n",
            "Clase 11: 52.93% accuracy\n",
            "Clase 11: IoU: 0.1623, Dice: 0.2792\n",
            "Mejor modelo guardado con Loss: 0.3597\n"
          ]
        },
        {
          "name": "stderr",
          "output_type": "stream",
          "text": [
            "Epoch 76/100: 100%|██████████| 203/203 [00:45<00:00,  4.49it/s, loss=0.322]\n"
          ]
        },
        {
          "name": "stdout",
          "output_type": "stream",
          "text": [
            "Epoch 76/100, Loss: 0.3600\n",
            "Epoch started at 2025-03-17 20:24:47 and ended at 2025-03-17 20:25:37\n",
            "Clase 1: 92.22% accuracy\n",
            "Clase 1: IoU: 0.7977, Dice: 0.8875\n",
            "Clase 2: 88.41% accuracy\n",
            "Clase 2: IoU: 0.6393, Dice: 0.7800\n",
            "Clase 3: 91.91% accuracy\n",
            "Clase 3: IoU: 0.8542, Dice: 0.9214\n",
            "Clase 4: 77.65% accuracy\n",
            "Clase 4: IoU: 0.6314, Dice: 0.7741\n",
            "Clase 5: 53.88% accuracy\n",
            "Clase 5: IoU: 0.5010, Dice: 0.6676\n",
            "Clase 6: 89.28% accuracy\n",
            "Clase 6: IoU: 0.7530, Dice: 0.8591\n",
            "Clase 7: 57.41% accuracy\n",
            "Clase 7: IoU: 0.3560, Dice: 0.5251\n",
            "Clase 8: 53.89% accuracy\n",
            "Clase 8: IoU: 0.4033, Dice: 0.5748\n",
            "Clase 9: 74.69% accuracy\n",
            "Clase 9: IoU: 0.6967, Dice: 0.8212\n",
            "Clase 10: 85.52% accuracy\n",
            "Clase 10: IoU: 0.7107, Dice: 0.8309\n",
            "Clase 11: 52.68% accuracy\n",
            "Clase 11: IoU: 0.1781, Dice: 0.3023\n"
          ]
        },
        {
          "name": "stderr",
          "output_type": "stream",
          "text": [
            "Epoch 77/100: 100%|██████████| 203/203 [00:45<00:00,  4.49it/s, loss=0.373]\n"
          ]
        },
        {
          "name": "stdout",
          "output_type": "stream",
          "text": [
            "Epoch 77/100, Loss: 0.3667\n",
            "Epoch started at 2025-03-17 20:25:37 and ended at 2025-03-17 20:26:28\n",
            "Clase 1: 92.04% accuracy\n",
            "Clase 1: IoU: 0.7338, Dice: 0.8465\n",
            "Clase 2: 88.06% accuracy\n",
            "Clase 2: IoU: 0.5043, Dice: 0.6705\n",
            "Clase 3: 91.80% accuracy\n",
            "Clase 3: IoU: 0.8111, Dice: 0.8957\n",
            "Clase 4: 77.15% accuracy\n",
            "Clase 4: IoU: 0.6421, Dice: 0.7820\n",
            "Clase 5: 53.70% accuracy\n",
            "Clase 5: IoU: 0.3104, Dice: 0.4737\n",
            "Clase 6: 89.10% accuracy\n",
            "Clase 6: IoU: 0.4861, Dice: 0.6542\n",
            "Clase 7: 57.23% accuracy\n",
            "Clase 7: IoU: 0.3873, Dice: 0.5584\n",
            "Clase 8: 53.19% accuracy\n",
            "Clase 8: IoU: 0.5072, Dice: 0.6731\n",
            "Clase 9: 74.44% accuracy\n",
            "Clase 9: IoU: 0.4074, Dice: 0.5789\n",
            "Clase 10: 85.38% accuracy\n",
            "Clase 10: IoU: 0.7524, Dice: 0.8587\n",
            "Clase 11: 52.71% accuracy\n",
            "Clase 11: IoU: 0.1905, Dice: 0.3200\n"
          ]
        },
        {
          "name": "stderr",
          "output_type": "stream",
          "text": [
            "Epoch 78/100: 100%|██████████| 203/203 [00:45<00:00,  4.49it/s, loss=0.428]\n"
          ]
        },
        {
          "name": "stdout",
          "output_type": "stream",
          "text": [
            "Epoch 78/100, Loss: 0.3573\n",
            "Epoch started at 2025-03-17 20:26:28 and ended at 2025-03-17 20:27:19\n",
            "Clase 1: 92.27% accuracy\n",
            "Clase 1: IoU: 0.8096, Dice: 0.8948\n",
            "Clase 2: 88.52% accuracy\n",
            "Clase 2: IoU: 0.6543, Dice: 0.7910\n",
            "Clase 3: 91.96% accuracy\n",
            "Clase 3: IoU: 0.8237, Dice: 0.9033\n",
            "Clase 4: 77.83% accuracy\n",
            "Clase 4: IoU: 0.5386, Dice: 0.7001\n",
            "Clase 5: 54.73% accuracy\n",
            "Clase 5: IoU: 0.2019, Dice: 0.3360\n",
            "Clase 6: 89.29% accuracy\n",
            "Clase 6: IoU: 0.7213, Dice: 0.8381\n",
            "Clase 7: 57.67% accuracy\n",
            "Clase 7: IoU: 0.4545, Dice: 0.6249\n",
            "Clase 8: 53.82% accuracy\n",
            "Clase 8: IoU: 0.3726, Dice: 0.5429\n",
            "Clase 9: 74.71% accuracy\n",
            "Clase 9: IoU: 0.6999, Dice: 0.8235\n",
            "Clase 10: 85.49% accuracy\n",
            "Clase 10: IoU: 0.6610, Dice: 0.7959\n",
            "Clase 11: 53.10% accuracy\n",
            "Clase 11: IoU: 0.4023, Dice: 0.5738\n",
            "Mejor modelo guardado con Loss: 0.3573\n"
          ]
        },
        {
          "name": "stderr",
          "output_type": "stream",
          "text": [
            "Epoch 79/100: 100%|██████████| 203/203 [00:45<00:00,  4.48it/s, loss=0.337]\n"
          ]
        },
        {
          "name": "stdout",
          "output_type": "stream",
          "text": [
            "Epoch 79/100, Loss: 0.3521\n",
            "Epoch started at 2025-03-17 20:27:22 and ended at 2025-03-17 20:28:13\n",
            "Clase 1: 92.24% accuracy\n",
            "Clase 1: IoU: 0.7361, Dice: 0.8480\n",
            "Clase 2: 88.37% accuracy\n",
            "Clase 2: IoU: 0.8357, Dice: 0.9105\n",
            "Clase 3: 92.14% accuracy\n",
            "Clase 3: IoU: 0.8493, Dice: 0.9185\n",
            "Clase 4: 78.21% accuracy\n",
            "Clase 4: IoU: 0.5889, Dice: 0.7413\n",
            "Clase 5: 54.85% accuracy\n",
            "Clase 5: IoU: 0.3304, Dice: 0.4966\n",
            "Clase 6: 89.28% accuracy\n",
            "Clase 6: IoU: 0.6373, Dice: 0.7785\n",
            "Clase 7: 58.06% accuracy\n",
            "Clase 7: IoU: 0.2156, Dice: 0.3547\n",
            "Clase 8: 54.59% accuracy\n",
            "Clase 8: IoU: 0.3265, Dice: 0.4923\n",
            "Clase 9: 75.42% accuracy\n",
            "Clase 9: IoU: 0.5620, Dice: 0.7196\n",
            "Clase 10: 86.16% accuracy\n",
            "Clase 10: IoU: 0.5451, Dice: 0.7056\n",
            "Clase 11: 53.68% accuracy\n",
            "Clase 11: IoU: 0.1041, Dice: 0.1886\n",
            "Mejor modelo guardado con Loss: 0.3521\n"
          ]
        },
        {
          "name": "stderr",
          "output_type": "stream",
          "text": [
            "Epoch 80/100: 100%|██████████| 203/203 [00:45<00:00,  4.49it/s, loss=0.375]\n"
          ]
        },
        {
          "name": "stdout",
          "output_type": "stream",
          "text": [
            "Epoch 80/100, Loss: 0.3422\n",
            "Epoch started at 2025-03-17 20:28:20 and ended at 2025-03-17 20:29:10\n",
            "Clase 1: 92.54% accuracy\n",
            "Clase 1: IoU: 0.7429, Dice: 0.8525\n",
            "Clase 2: 89.04% accuracy\n",
            "Clase 2: IoU: 0.7222, Dice: 0.8387\n",
            "Clase 3: 92.17% accuracy\n",
            "Clase 3: IoU: 0.7238, Dice: 0.8398\n",
            "Clase 4: 78.75% accuracy\n",
            "Clase 4: IoU: 0.7069, Dice: 0.8283\n",
            "Clase 5: 55.74% accuracy\n",
            "Clase 5: IoU: 0.2575, Dice: 0.4095\n",
            "Clase 6: 89.79% accuracy\n",
            "Clase 6: IoU: 0.6615, Dice: 0.7963\n",
            "Clase 7: 59.05% accuracy\n",
            "Clase 7: IoU: 0.6183, Dice: 0.7641\n",
            "Clase 8: 55.51% accuracy\n",
            "Clase 8: IoU: 0.2583, Dice: 0.4106\n",
            "Clase 9: 76.25% accuracy\n",
            "Clase 9: IoU: 0.4913, Dice: 0.6589\n",
            "Clase 10: 86.60% accuracy\n",
            "Clase 10: IoU: 0.6951, Dice: 0.8201\n",
            "Clase 11: 53.99% accuracy\n",
            "Clase 11: IoU: 0.1992, Dice: 0.3322\n",
            "Mejor modelo guardado con Loss: 0.3422\n"
          ]
        },
        {
          "name": "stderr",
          "output_type": "stream",
          "text": [
            "Epoch 81/100: 100%|██████████| 203/203 [00:45<00:00,  4.50it/s, loss=0.302]\n"
          ]
        },
        {
          "name": "stdout",
          "output_type": "stream",
          "text": [
            "Epoch 81/100, Loss: 0.3391\n",
            "Epoch started at 2025-03-17 20:29:14 and ended at 2025-03-17 20:30:04\n",
            "Clase 1: 92.65% accuracy\n",
            "Clase 1: IoU: 0.7570, Dice: 0.8617\n",
            "Clase 2: 89.13% accuracy\n",
            "Clase 2: IoU: 0.4906, Dice: 0.6582\n",
            "Clase 3: 92.34% accuracy\n",
            "Clase 3: IoU: 0.8163, Dice: 0.8989\n",
            "Clase 4: 78.76% accuracy\n",
            "Clase 4: IoU: 0.6551, Dice: 0.7916\n",
            "Clase 5: 56.06% accuracy\n",
            "Clase 5: IoU: 0.3690, Dice: 0.5391\n",
            "Clase 6: 89.68% accuracy\n",
            "Clase 6: IoU: 0.7156, Dice: 0.8342\n",
            "Clase 7: 59.44% accuracy\n",
            "Clase 7: IoU: 0.6468, Dice: 0.7855\n",
            "Clase 8: 55.56% accuracy\n",
            "Clase 8: IoU: 0.3913, Dice: 0.5625\n",
            "Clase 9: 76.24% accuracy\n",
            "Clase 9: IoU: 0.6178, Dice: 0.7637\n",
            "Clase 10: 86.65% accuracy\n",
            "Clase 10: IoU: 0.7587, Dice: 0.8628\n",
            "Clase 11: 53.99% accuracy\n",
            "Clase 11: IoU: 0.6169, Dice: 0.7630\n",
            "Mejor modelo guardado con Loss: 0.3391\n"
          ]
        },
        {
          "name": "stderr",
          "output_type": "stream",
          "text": [
            "Epoch 82/100: 100%|██████████| 203/203 [00:45<00:00,  4.49it/s, loss=0.374]\n"
          ]
        },
        {
          "name": "stdout",
          "output_type": "stream",
          "text": [
            "Epoch 82/100, Loss: 0.3375\n",
            "Epoch started at 2025-03-17 20:30:08 and ended at 2025-03-17 20:30:58\n",
            "Clase 1: 92.62% accuracy\n",
            "Clase 1: IoU: 0.7947, Dice: 0.8856\n",
            "Clase 2: 89.26% accuracy\n",
            "Clase 2: IoU: 0.8076, Dice: 0.8935\n",
            "Clase 3: 92.27% accuracy\n",
            "Clase 3: IoU: 0.7902, Dice: 0.8828\n",
            "Clase 4: 78.97% accuracy\n",
            "Clase 4: IoU: 0.6647, Dice: 0.7986\n",
            "Clase 5: 56.39% accuracy\n",
            "Clase 5: IoU: 0.2347, Dice: 0.3802\n",
            "Clase 6: 89.51% accuracy\n",
            "Clase 6: IoU: 0.7012, Dice: 0.8243\n",
            "Clase 7: 59.54% accuracy\n",
            "Clase 7: IoU: 0.5577, Dice: 0.7161\n",
            "Clase 8: 56.21% accuracy\n",
            "Clase 8: IoU: 0.3469, Dice: 0.5151\n",
            "Clase 9: 76.37% accuracy\n",
            "Clase 9: IoU: 0.6511, Dice: 0.7887\n",
            "Clase 10: 87.11% accuracy\n",
            "Clase 10: IoU: 0.7952, Dice: 0.8859\n",
            "Clase 11: 54.35% accuracy\n",
            "Clase 11: IoU: 0.2075, Dice: 0.3437\n",
            "Mejor modelo guardado con Loss: 0.3375\n"
          ]
        },
        {
          "name": "stderr",
          "output_type": "stream",
          "text": [
            "Epoch 83/100: 100%|██████████| 203/203 [00:45<00:00,  4.48it/s, loss=0.285]\n"
          ]
        },
        {
          "name": "stdout",
          "output_type": "stream",
          "text": [
            "Epoch 83/100, Loss: 0.3308\n",
            "Epoch started at 2025-03-17 20:31:02 and ended at 2025-03-17 20:31:53\n",
            "Clase 1: 92.79% accuracy\n",
            "Clase 1: IoU: 0.8569, Dice: 0.9229\n",
            "Clase 2: 89.46% accuracy\n",
            "Clase 2: IoU: 0.7694, Dice: 0.8697\n",
            "Clase 3: 92.43% accuracy\n",
            "Clase 3: IoU: 0.8141, Dice: 0.8975\n",
            "Clase 4: 79.21% accuracy\n",
            "Clase 4: IoU: 0.7345, Dice: 0.8469\n",
            "Clase 5: 57.17% accuracy\n",
            "Clase 5: IoU: 0.3348, Dice: 0.5016\n",
            "Clase 6: 90.02% accuracy\n",
            "Clase 6: IoU: 0.7069, Dice: 0.8283\n",
            "Clase 7: 60.21% accuracy\n",
            "Clase 7: IoU: 0.1904, Dice: 0.3198\n",
            "Clase 8: 56.60% accuracy\n",
            "Clase 8: IoU: 0.6165, Dice: 0.7628\n",
            "Clase 9: 76.92% accuracy\n",
            "Clase 9: IoU: 0.5266, Dice: 0.6899\n",
            "Clase 10: 87.53% accuracy\n",
            "Clase 10: IoU: 0.8181, Dice: 0.8999\n",
            "Clase 11: 54.82% accuracy\n",
            "Clase 11: IoU: 0.2728, Dice: 0.4287\n",
            "Mejor modelo guardado con Loss: 0.3308\n"
          ]
        },
        {
          "name": "stderr",
          "output_type": "stream",
          "text": [
            "Epoch 84/100: 100%|██████████| 203/203 [00:45<00:00,  4.48it/s, loss=0.396]\n"
          ]
        },
        {
          "name": "stdout",
          "output_type": "stream",
          "text": [
            "Epoch 84/100, Loss: 0.3459\n",
            "Epoch started at 2025-03-17 20:31:59 and ended at 2025-03-17 20:32:50\n",
            "Clase 1: 92.37% accuracy\n",
            "Clase 1: IoU: 0.8238, Dice: 0.9034\n",
            "Clase 2: 88.85% accuracy\n",
            "Clase 2: IoU: 0.8270, Dice: 0.9053\n",
            "Clase 3: 92.10% accuracy\n",
            "Clase 3: IoU: 0.6243, Dice: 0.7687\n",
            "Clase 4: 78.52% accuracy\n",
            "Clase 4: IoU: 0.7186, Dice: 0.8363\n",
            "Clase 5: 55.54% accuracy\n",
            "Clase 5: IoU: 0.2911, Dice: 0.4510\n",
            "Clase 6: 89.37% accuracy\n",
            "Clase 6: IoU: 0.7885, Dice: 0.8817\n",
            "Clase 7: 59.01% accuracy\n",
            "Clase 7: IoU: 0.2385, Dice: 0.3852\n",
            "Clase 8: 55.22% accuracy\n",
            "Clase 8: IoU: 0.4028, Dice: 0.5742\n",
            "Clase 9: 75.79% accuracy\n",
            "Clase 9: IoU: 0.6604, Dice: 0.7955\n",
            "Clase 10: 85.48% accuracy\n",
            "Clase 10: IoU: 0.7756, Dice: 0.8736\n",
            "Clase 11: 53.90% accuracy\n",
            "Clase 11: IoU: 0.2033, Dice: 0.3379\n"
          ]
        },
        {
          "name": "stderr",
          "output_type": "stream",
          "text": [
            "Epoch 85/100: 100%|██████████| 203/203 [00:45<00:00,  4.49it/s, loss=0.364]\n"
          ]
        },
        {
          "name": "stdout",
          "output_type": "stream",
          "text": [
            "Epoch 85/100, Loss: 0.3351\n",
            "Epoch started at 2025-03-17 20:32:50 and ended at 2025-03-17 20:33:41\n",
            "Clase 1: 92.70% accuracy\n",
            "Clase 1: IoU: 0.7748, Dice: 0.8731\n",
            "Clase 2: 89.37% accuracy\n",
            "Clase 2: IoU: 0.6330, Dice: 0.7753\n",
            "Clase 3: 92.33% accuracy\n",
            "Clase 3: IoU: 0.7415, Dice: 0.8516\n",
            "Clase 4: 78.96% accuracy\n",
            "Clase 4: IoU: 0.6618, Dice: 0.7965\n",
            "Clase 5: 56.52% accuracy\n",
            "Clase 5: IoU: 0.5391, Dice: 0.7005\n",
            "Clase 6: 89.77% accuracy\n",
            "Clase 6: IoU: 0.6453, Dice: 0.7844\n",
            "Clase 7: 59.82% accuracy\n",
            "Clase 7: IoU: 0.4364, Dice: 0.6076\n",
            "Clase 8: 56.39% accuracy\n",
            "Clase 8: IoU: 0.4132, Dice: 0.5848\n",
            "Clase 9: 76.71% accuracy\n",
            "Clase 9: IoU: 0.5358, Dice: 0.6978\n",
            "Clase 10: 86.78% accuracy\n",
            "Clase 10: IoU: 0.6867, Dice: 0.8142\n",
            "Clase 11: 54.60% accuracy\n",
            "Clase 11: IoU: 0.2283, Dice: 0.3717\n"
          ]
        },
        {
          "name": "stderr",
          "output_type": "stream",
          "text": [
            "Epoch 86/100: 100%|██████████| 203/203 [00:45<00:00,  4.50it/s, loss=0.271]\n"
          ]
        },
        {
          "name": "stdout",
          "output_type": "stream",
          "text": [
            "Epoch 86/100, Loss: 0.3246\n",
            "Epoch started at 2025-03-17 20:33:41 and ended at 2025-03-17 20:34:31\n",
            "Clase 1: 92.92% accuracy\n",
            "Clase 1: IoU: 0.8026, Dice: 0.8905\n",
            "Clase 2: 89.77% accuracy\n",
            "Clase 2: IoU: 0.2511, Dice: 0.4013\n",
            "Clase 3: 92.46% accuracy\n",
            "Clase 3: IoU: 0.7915, Dice: 0.8836\n",
            "Clase 4: 79.69% accuracy\n",
            "Clase 4: IoU: 0.5564, Dice: 0.7150\n",
            "Clase 5: 57.25% accuracy\n",
            "Clase 5: IoU: 0.2187, Dice: 0.3589\n",
            "Clase 6: 90.01% accuracy\n",
            "Clase 6: IoU: 0.6039, Dice: 0.7530\n",
            "Clase 7: 60.92% accuracy\n",
            "Clase 7: IoU: 0.4717, Dice: 0.6410\n",
            "Clase 8: 57.19% accuracy\n",
            "Clase 8: IoU: 0.3672, Dice: 0.5372\n",
            "Clase 9: 77.63% accuracy\n",
            "Clase 9: IoU: 0.5272, Dice: 0.6904\n",
            "Clase 10: 87.72% accuracy\n",
            "Clase 10: IoU: 0.6329, Dice: 0.7752\n",
            "Clase 11: 55.36% accuracy\n",
            "Clase 11: IoU: 0.2068, Dice: 0.3427\n",
            "Mejor modelo guardado con Loss: 0.3246\n"
          ]
        },
        {
          "name": "stderr",
          "output_type": "stream",
          "text": [
            "Epoch 87/100: 100%|██████████| 203/203 [00:45<00:00,  4.49it/s, loss=0.302]\n"
          ]
        },
        {
          "name": "stdout",
          "output_type": "stream",
          "text": [
            "Epoch 87/100, Loss: 0.3257\n",
            "Epoch started at 2025-03-17 20:34:35 and ended at 2025-03-17 20:35:25\n",
            "Clase 1: 92.90% accuracy\n",
            "Clase 1: IoU: 0.8348, Dice: 0.9100\n",
            "Clase 2: 89.69% accuracy\n",
            "Clase 2: IoU: 0.7178, Dice: 0.8357\n",
            "Clase 3: 92.46% accuracy\n",
            "Clase 3: IoU: 0.8535, Dice: 0.9209\n",
            "Clase 4: 79.57% accuracy\n",
            "Clase 4: IoU: 0.7553, Dice: 0.8606\n",
            "Clase 5: 57.91% accuracy\n",
            "Clase 5: IoU: 0.3547, Dice: 0.5237\n",
            "Clase 6: 89.72% accuracy\n",
            "Clase 6: IoU: 0.6750, Dice: 0.8060\n",
            "Clase 7: 60.67% accuracy\n",
            "Clase 7: IoU: 0.4994, Dice: 0.6661\n",
            "Clase 8: 56.87% accuracy\n",
            "Clase 8: IoU: 0.3833, Dice: 0.5541\n",
            "Clase 9: 77.42% accuracy\n",
            "Clase 9: IoU: 0.5579, Dice: 0.7162\n",
            "Clase 10: 87.32% accuracy\n",
            "Clase 10: IoU: 0.8536, Dice: 0.9210\n",
            "Clase 11: 55.30% accuracy\n",
            "Clase 11: IoU: 0.2555, Dice: 0.4070\n"
          ]
        },
        {
          "name": "stderr",
          "output_type": "stream",
          "text": [
            "Epoch 88/100: 100%|██████████| 203/203 [00:45<00:00,  4.48it/s, loss=0.328]\n"
          ]
        },
        {
          "name": "stdout",
          "output_type": "stream",
          "text": [
            "Epoch 88/100, Loss: 0.3265\n",
            "Epoch started at 2025-03-17 20:35:25 and ended at 2025-03-17 20:36:16\n",
            "Clase 1: 92.72% accuracy\n",
            "Clase 1: IoU: 0.8619, Dice: 0.9258\n",
            "Clase 2: 89.55% accuracy\n",
            "Clase 2: IoU: 0.7142, Dice: 0.8332\n",
            "Clase 3: 92.46% accuracy\n",
            "Clase 3: IoU: 0.8366, Dice: 0.9110\n",
            "Clase 4: 79.58% accuracy\n",
            "Clase 4: IoU: 0.6756, Dice: 0.8064\n",
            "Clase 5: 57.67% accuracy\n",
            "Clase 5: IoU: 0.1528, Dice: 0.2651\n",
            "Clase 6: 89.89% accuracy\n",
            "Clase 6: IoU: 0.6214, Dice: 0.7665\n",
            "Clase 7: 60.87% accuracy\n",
            "Clase 7: IoU: 0.2915, Dice: 0.4514\n",
            "Clase 8: 57.64% accuracy\n",
            "Clase 8: IoU: 0.3460, Dice: 0.5141\n",
            "Clase 9: 77.65% accuracy\n",
            "Clase 9: IoU: 0.5384, Dice: 0.7000\n",
            "Clase 10: 87.36% accuracy\n",
            "Clase 10: IoU: 0.5066, Dice: 0.6725\n",
            "Clase 11: 55.29% accuracy\n",
            "Clase 11: IoU: 0.2982, Dice: 0.4594\n"
          ]
        },
        {
          "name": "stderr",
          "output_type": "stream",
          "text": [
            "Epoch 89/100: 100%|██████████| 203/203 [00:45<00:00,  4.48it/s, loss=0.323]\n"
          ]
        },
        {
          "name": "stdout",
          "output_type": "stream",
          "text": [
            "Epoch 89/100, Loss: 0.3217\n",
            "Epoch started at 2025-03-17 20:36:16 and ended at 2025-03-17 20:37:06\n",
            "Clase 1: 92.81% accuracy\n",
            "Clase 1: IoU: 0.8508, Dice: 0.9194\n",
            "Clase 2: 89.72% accuracy\n",
            "Clase 2: IoU: 0.8334, Dice: 0.9091\n",
            "Clase 3: 92.54% accuracy\n",
            "Clase 3: IoU: 0.7076, Dice: 0.8288\n",
            "Clase 4: 79.83% accuracy\n",
            "Clase 4: IoU: 0.6870, Dice: 0.8144\n",
            "Clase 5: 57.94% accuracy\n",
            "Clase 5: IoU: 0.2944, Dice: 0.4549\n",
            "Clase 6: 90.24% accuracy\n",
            "Clase 6: IoU: 0.7437, Dice: 0.8530\n",
            "Clase 7: 61.52% accuracy\n",
            "Clase 7: IoU: 0.3140, Dice: 0.4780\n",
            "Clase 8: 57.76% accuracy\n",
            "Clase 8: IoU: 0.3446, Dice: 0.5126\n",
            "Clase 9: 77.96% accuracy\n",
            "Clase 9: IoU: 0.6061, Dice: 0.7547\n",
            "Clase 10: 87.82% accuracy\n",
            "Clase 10: IoU: 0.8610, Dice: 0.9253\n",
            "Clase 11: 55.61% accuracy\n",
            "Clase 11: IoU: 0.5047, Dice: 0.6709\n",
            "Mejor modelo guardado con Loss: 0.3217\n"
          ]
        },
        {
          "name": "stderr",
          "output_type": "stream",
          "text": [
            "Epoch 90/100: 100%|██████████| 203/203 [00:45<00:00,  4.49it/s, loss=0.293]\n"
          ]
        },
        {
          "name": "stdout",
          "output_type": "stream",
          "text": [
            "Epoch 90/100, Loss: 0.3178\n",
            "Epoch started at 2025-03-17 20:37:10 and ended at 2025-03-17 20:38:01\n",
            "Clase 1: 92.97% accuracy\n",
            "Clase 1: IoU: 0.8825, Dice: 0.9376\n",
            "Clase 2: 89.85% accuracy\n",
            "Clase 2: IoU: 0.7290, Dice: 0.8433\n",
            "Clase 3: 92.63% accuracy\n",
            "Clase 3: IoU: 0.8443, Dice: 0.9156\n",
            "Clase 4: 80.01% accuracy\n",
            "Clase 4: IoU: 0.7007, Dice: 0.8240\n",
            "Clase 5: 58.40% accuracy\n",
            "Clase 5: IoU: 0.4205, Dice: 0.5920\n",
            "Clase 6: 90.01% accuracy\n",
            "Clase 6: IoU: 0.8102, Dice: 0.8952\n",
            "Clase 7: 61.49% accuracy\n",
            "Clase 7: IoU: 0.1731, Dice: 0.2951\n",
            "Clase 8: 58.18% accuracy\n",
            "Clase 8: IoU: 0.5379, Dice: 0.6995\n",
            "Clase 9: 78.17% accuracy\n",
            "Clase 9: IoU: 0.7930, Dice: 0.8846\n",
            "Clase 10: 87.86% accuracy\n",
            "Clase 10: IoU: 0.5547, Dice: 0.7136\n",
            "Clase 11: 55.85% accuracy\n",
            "Clase 11: IoU: 0.2587, Dice: 0.4111\n",
            "Mejor modelo guardado con Loss: 0.3178\n"
          ]
        },
        {
          "name": "stderr",
          "output_type": "stream",
          "text": [
            "Epoch 91/100: 100%|██████████| 203/203 [00:45<00:00,  4.49it/s, loss=0.322]\n"
          ]
        },
        {
          "name": "stdout",
          "output_type": "stream",
          "text": [
            "Epoch 91/100, Loss: 0.3175\n",
            "Epoch started at 2025-03-17 20:38:04 and ended at 2025-03-17 20:38:55\n",
            "Clase 1: 92.98% accuracy\n",
            "Clase 1: IoU: 0.7844, Dice: 0.8792\n",
            "Clase 2: 89.94% accuracy\n",
            "Clase 2: IoU: 0.8249, Dice: 0.9040\n",
            "Clase 3: 92.63% accuracy\n",
            "Clase 3: IoU: 0.7856, Dice: 0.8799\n",
            "Clase 4: 80.02% accuracy\n",
            "Clase 4: IoU: 0.6765, Dice: 0.8070\n",
            "Clase 5: 58.21% accuracy\n",
            "Clase 5: IoU: 0.3865, Dice: 0.5575\n",
            "Clase 6: 90.13% accuracy\n",
            "Clase 6: IoU: 0.7625, Dice: 0.8652\n",
            "Clase 7: 61.62% accuracy\n",
            "Clase 7: IoU: 0.3523, Dice: 0.5210\n",
            "Clase 8: 58.02% accuracy\n",
            "Clase 8: IoU: 0.4347, Dice: 0.6060\n",
            "Clase 9: 78.31% accuracy\n",
            "Clase 9: IoU: 0.5350, Dice: 0.6971\n",
            "Clase 10: 87.85% accuracy\n",
            "Clase 10: IoU: 0.8405, Dice: 0.9133\n",
            "Clase 11: 56.12% accuracy\n",
            "Clase 11: IoU: 0.2617, Dice: 0.4148\n",
            "Mejor modelo guardado con Loss: 0.3175\n"
          ]
        },
        {
          "name": "stderr",
          "output_type": "stream",
          "text": [
            "Epoch 92/100: 100%|██████████| 203/203 [00:45<00:00,  4.48it/s, loss=0.302]\n"
          ]
        },
        {
          "name": "stdout",
          "output_type": "stream",
          "text": [
            "Epoch 92/100, Loss: 0.3181\n",
            "Epoch started at 2025-03-17 20:39:01 and ended at 2025-03-17 20:39:52\n",
            "Clase 1: 92.97% accuracy\n",
            "Clase 1: IoU: 0.8575, Dice: 0.9233\n",
            "Clase 2: 89.86% accuracy\n",
            "Clase 2: IoU: 0.8958, Dice: 0.9450\n",
            "Clase 3: 92.60% accuracy\n",
            "Clase 3: IoU: 0.6873, Dice: 0.8147\n",
            "Clase 4: 80.08% accuracy\n",
            "Clase 4: IoU: 0.6960, Dice: 0.8207\n",
            "Clase 5: 58.03% accuracy\n",
            "Clase 5: IoU: 0.5963, Dice: 0.7471\n",
            "Clase 6: 90.00% accuracy\n",
            "Clase 6: IoU: 0.7139, Dice: 0.8331\n",
            "Clase 7: 61.78% accuracy\n",
            "Clase 7: IoU: 0.4878, Dice: 0.6557\n",
            "Clase 8: 58.33% accuracy\n",
            "Clase 8: IoU: 0.3848, Dice: 0.5557\n",
            "Clase 9: 78.27% accuracy\n",
            "Clase 9: IoU: 0.5708, Dice: 0.7268\n",
            "Clase 10: 87.80% accuracy\n",
            "Clase 10: IoU: 0.7380, Dice: 0.8493\n",
            "Clase 11: 55.97% accuracy\n",
            "Clase 11: IoU: 0.1757, Dice: 0.2989\n"
          ]
        },
        {
          "name": "stderr",
          "output_type": "stream",
          "text": [
            "Epoch 93/100: 100%|██████████| 203/203 [00:45<00:00,  4.47it/s, loss=0.617]\n"
          ]
        },
        {
          "name": "stdout",
          "output_type": "stream",
          "text": [
            "Epoch 93/100, Loss: 0.3937\n",
            "Epoch started at 2025-03-17 20:39:52 and ended at 2025-03-17 20:40:43\n",
            "Clase 1: 90.72% accuracy\n",
            "Clase 1: IoU: 0.5673, Dice: 0.7239\n",
            "Clase 2: 85.79% accuracy\n",
            "Clase 2: IoU: 0.6084, Dice: 0.7565\n",
            "Clase 3: 91.43% accuracy\n",
            "Clase 3: IoU: 0.6971, Dice: 0.8215\n",
            "Clase 4: 75.99% accuracy\n",
            "Clase 4: IoU: 0.5130, Dice: 0.6781\n",
            "Clase 5: 54.03% accuracy\n",
            "Clase 5: IoU: 0.2708, Dice: 0.4262\n",
            "Clase 6: 88.12% accuracy\n",
            "Clase 6: IoU: 0.5196, Dice: 0.6839\n",
            "Clase 7: 58.23% accuracy\n",
            "Clase 7: IoU: 0.1820, Dice: 0.3079\n",
            "Clase 8: 51.49% accuracy\n",
            "Clase 8: IoU: 0.0907, Dice: 0.1664\n",
            "Clase 9: 73.18% accuracy\n",
            "Clase 9: IoU: 0.3098, Dice: 0.4731\n",
            "Clase 10: 79.32% accuracy\n",
            "Clase 10: IoU: 0.0023, Dice: 0.0046\n",
            "Clase 11: 51.61% accuracy\n",
            "Clase 11: IoU: 0.1500, Dice: 0.2609\n"
          ]
        },
        {
          "name": "stderr",
          "output_type": "stream",
          "text": [
            "Epoch 94/100: 100%|██████████| 203/203 [00:45<00:00,  4.48it/s, loss=0.384]\n"
          ]
        },
        {
          "name": "stdout",
          "output_type": "stream",
          "text": [
            "Epoch 94/100, Loss: 0.4511\n",
            "Epoch started at 2025-03-17 20:40:43 and ended at 2025-03-17 20:41:33\n",
            "Clase 1: 89.84% accuracy\n",
            "Clase 1: IoU: 0.7750, Dice: 0.8732\n",
            "Clase 2: 83.38% accuracy\n",
            "Clase 2: IoU: 0.6472, Dice: 0.7858\n",
            "Clase 3: 90.55% accuracy\n",
            "Clase 3: IoU: 0.7672, Dice: 0.8683\n",
            "Clase 4: 72.98% accuracy\n",
            "Clase 4: IoU: 0.4909, Dice: 0.6585\n",
            "Clase 5: 45.87% accuracy\n",
            "Clase 5: IoU: 0.5424, Dice: 0.7033\n",
            "Clase 6: 84.33% accuracy\n",
            "Clase 6: IoU: 0.6488, Dice: 0.7870\n",
            "Clase 7: 52.41% accuracy\n",
            "Clase 7: IoU: 0.4674, Dice: 0.6370\n",
            "Clase 8: 42.63% accuracy\n",
            "Clase 8: IoU: 0.3070, Dice: 0.4697\n",
            "Clase 9: 68.27% accuracy\n",
            "Clase 9: IoU: 0.5135, Dice: 0.6786\n",
            "Clase 10: 73.60% accuracy\n",
            "Clase 10: IoU: 0.7225, Dice: 0.8389\n",
            "Clase 11: 48.93% accuracy\n",
            "Clase 11: IoU: 0.2418, Dice: 0.3894\n"
          ]
        },
        {
          "name": "stderr",
          "output_type": "stream",
          "text": [
            "Epoch 95/100: 100%|██████████| 203/203 [00:45<00:00,  4.48it/s, loss=0.386]\n"
          ]
        },
        {
          "name": "stdout",
          "output_type": "stream",
          "text": [
            "Epoch 95/100, Loss: 0.3348\n",
            "Epoch started at 2025-03-17 20:41:33 and ended at 2025-03-17 20:42:24\n",
            "Clase 1: 92.56% accuracy\n",
            "Clase 1: IoU: 0.7940, Dice: 0.8852\n",
            "Clase 2: 89.27% accuracy\n",
            "Clase 2: IoU: 0.7229, Dice: 0.8391\n",
            "Clase 3: 92.34% accuracy\n",
            "Clase 3: IoU: 0.8219, Dice: 0.9022\n",
            "Clase 4: 79.07% accuracy\n",
            "Clase 4: IoU: 0.6338, Dice: 0.7759\n",
            "Clase 5: 56.85% accuracy\n",
            "Clase 5: IoU: 0.3658, Dice: 0.5357\n",
            "Clase 6: 89.95% accuracy\n",
            "Clase 6: IoU: 0.7785, Dice: 0.8754\n",
            "Clase 7: 60.69% accuracy\n",
            "Clase 7: IoU: 0.4316, Dice: 0.6029\n",
            "Clase 8: 56.33% accuracy\n",
            "Clase 8: IoU: 0.4899, Dice: 0.6576\n",
            "Clase 9: 77.21% accuracy\n",
            "Clase 9: IoU: 0.5548, Dice: 0.7136\n",
            "Clase 10: 87.22% accuracy\n",
            "Clase 10: IoU: 0.7737, Dice: 0.8724\n",
            "Clase 11: 54.90% accuracy\n",
            "Clase 11: IoU: 0.1626, Dice: 0.2797\n"
          ]
        },
        {
          "name": "stderr",
          "output_type": "stream",
          "text": [
            "Epoch 96/100: 100%|██████████| 203/203 [00:45<00:00,  4.49it/s, loss=0.355]\n"
          ]
        },
        {
          "name": "stdout",
          "output_type": "stream",
          "text": [
            "Epoch 96/100, Loss: 0.3044\n",
            "Epoch started at 2025-03-17 20:42:24 and ended at 2025-03-17 20:43:15\n",
            "Clase 1: 93.36% accuracy\n",
            "Clase 1: IoU: 0.7532, Dice: 0.8592\n",
            "Clase 2: 90.55% accuracy\n",
            "Clase 2: IoU: 0.7393, Dice: 0.8501\n",
            "Clase 3: 92.96% accuracy\n",
            "Clase 3: IoU: 0.8527, Dice: 0.9205\n",
            "Clase 4: 80.60% accuracy\n",
            "Clase 4: IoU: 0.6357, Dice: 0.7773\n",
            "Clase 5: 59.64% accuracy\n",
            "Clase 5: IoU: 0.2926, Dice: 0.4527\n",
            "Clase 6: 90.89% accuracy\n",
            "Clase 6: IoU: 0.8071, Dice: 0.8932\n",
            "Clase 7: 63.71% accuracy\n",
            "Clase 7: IoU: 0.5031, Dice: 0.6694\n",
            "Clase 8: 60.48% accuracy\n",
            "Clase 8: IoU: 0.4710, Dice: 0.6404\n",
            "Clase 9: 79.84% accuracy\n",
            "Clase 9: IoU: 0.6365, Dice: 0.7779\n",
            "Clase 10: 89.63% accuracy\n",
            "Clase 10: IoU: 0.7211, Dice: 0.8379\n",
            "Clase 11: 56.65% accuracy\n",
            "Clase 11: IoU: 0.2894, Dice: 0.4489\n",
            "Mejor modelo guardado con Loss: 0.3044\n"
          ]
        },
        {
          "name": "stderr",
          "output_type": "stream",
          "text": [
            "Epoch 97/100: 100%|██████████| 203/203 [00:45<00:00,  4.48it/s, loss=0.261]\n"
          ]
        },
        {
          "name": "stdout",
          "output_type": "stream",
          "text": [
            "Epoch 97/100, Loss: 0.2917\n",
            "Epoch started at 2025-03-17 20:43:18 and ended at 2025-03-17 20:44:09\n",
            "Clase 1: 93.67% accuracy\n",
            "Clase 1: IoU: 0.8839, Dice: 0.9384\n",
            "Clase 2: 91.10% accuracy\n",
            "Clase 2: IoU: 0.6542, Dice: 0.7910\n",
            "Clase 3: 93.13% accuracy\n",
            "Clase 3: IoU: 0.7421, Dice: 0.8519\n",
            "Clase 4: 81.44% accuracy\n",
            "Clase 4: IoU: 0.6306, Dice: 0.7735\n",
            "Clase 5: 60.75% accuracy\n",
            "Clase 5: IoU: 0.4140, Dice: 0.5855\n",
            "Clase 6: 91.25% accuracy\n",
            "Clase 6: IoU: 0.8102, Dice: 0.8951\n",
            "Clase 7: 64.88% accuracy\n",
            "Clase 7: IoU: 0.5934, Dice: 0.7448\n",
            "Clase 8: 61.88% accuracy\n",
            "Clase 8: IoU: 0.5449, Dice: 0.7054\n",
            "Clase 9: 80.99% accuracy\n",
            "Clase 9: IoU: 0.7260, Dice: 0.8413\n",
            "Clase 10: 90.19% accuracy\n",
            "Clase 10: IoU: 0.7108, Dice: 0.8309\n",
            "Clase 11: 57.93% accuracy\n",
            "Clase 11: IoU: 0.1829, Dice: 0.3092\n",
            "Mejor modelo guardado con Loss: 0.2917\n"
          ]
        },
        {
          "name": "stderr",
          "output_type": "stream",
          "text": [
            "Epoch 98/100: 100%|██████████| 203/203 [00:45<00:00,  4.49it/s, loss=0.327]\n"
          ]
        },
        {
          "name": "stdout",
          "output_type": "stream",
          "text": [
            "Epoch 98/100, Loss: 0.2836\n",
            "Epoch started at 2025-03-17 20:44:12 and ended at 2025-03-17 20:45:03\n",
            "Clase 1: 93.79% accuracy\n",
            "Clase 1: IoU: 0.8596, Dice: 0.9245\n",
            "Clase 2: 91.41% accuracy\n",
            "Clase 2: IoU: 0.8008, Dice: 0.8894\n",
            "Clase 3: 93.26% accuracy\n",
            "Clase 3: IoU: 0.6612, Dice: 0.7961\n",
            "Clase 4: 81.92% accuracy\n",
            "Clase 4: IoU: 0.7028, Dice: 0.8255\n",
            "Clase 5: 61.73% accuracy\n",
            "Clase 5: IoU: 0.6054, Dice: 0.7542\n",
            "Clase 6: 91.32% accuracy\n",
            "Clase 6: IoU: 0.7948, Dice: 0.8857\n",
            "Clase 7: 65.42% accuracy\n",
            "Clase 7: IoU: 0.2232, Dice: 0.3650\n",
            "Clase 8: 62.58% accuracy\n",
            "Clase 8: IoU: 0.4302, Dice: 0.6016\n",
            "Clase 9: 81.54% accuracy\n",
            "Clase 9: IoU: 0.6141, Dice: 0.7609\n",
            "Clase 10: 90.35% accuracy\n",
            "Clase 10: IoU: 0.5047, Dice: 0.6709\n",
            "Clase 11: 58.33% accuracy\n",
            "Clase 11: IoU: 0.3385, Dice: 0.5058\n",
            "Mejor modelo guardado con Loss: 0.2836\n"
          ]
        },
        {
          "name": "stderr",
          "output_type": "stream",
          "text": [
            "Epoch 99/100: 100%|██████████| 203/203 [00:45<00:00,  4.49it/s, loss=0.243]\n"
          ]
        },
        {
          "name": "stdout",
          "output_type": "stream",
          "text": [
            "Epoch 99/100, Loss: 0.2797\n",
            "Epoch started at 2025-03-17 20:45:07 and ended at 2025-03-17 20:45:57\n",
            "Clase 1: 93.90% accuracy\n",
            "Clase 1: IoU: 0.8673, Dice: 0.9289\n",
            "Clase 2: 91.51% accuracy\n",
            "Clase 2: IoU: 0.7590, Dice: 0.8630\n",
            "Clase 3: 93.31% accuracy\n",
            "Clase 3: IoU: 0.8000, Dice: 0.8889\n",
            "Clase 4: 82.13% accuracy\n",
            "Clase 4: IoU: 0.6478, Dice: 0.7863\n",
            "Clase 5: 62.15% accuracy\n",
            "Clase 5: IoU: 0.4275, Dice: 0.5990\n",
            "Clase 6: 91.41% accuracy\n",
            "Clase 6: IoU: 0.8017, Dice: 0.8899\n",
            "Clase 7: 65.75% accuracy\n",
            "Clase 7: IoU: 0.1501, Dice: 0.2610\n",
            "Clase 8: 62.94% accuracy\n",
            "Clase 8: IoU: 0.3676, Dice: 0.5376\n",
            "Clase 9: 81.86% accuracy\n",
            "Clase 9: IoU: 0.7022, Dice: 0.8251\n",
            "Clase 10: 90.27% accuracy\n",
            "Clase 10: IoU: 0.7571, Dice: 0.8618\n",
            "Clase 11: 58.79% accuracy\n",
            "Clase 11: IoU: 0.3032, Dice: 0.4653\n",
            "Mejor modelo guardado con Loss: 0.2797\n"
          ]
        },
        {
          "name": "stderr",
          "output_type": "stream",
          "text": [
            "Epoch 100/100: 100%|██████████| 203/203 [00:45<00:00,  4.49it/s, loss=0.272]\n"
          ]
        },
        {
          "name": "stdout",
          "output_type": "stream",
          "text": [
            "Epoch 100/100, Loss: 0.2770\n",
            "Epoch started at 2025-03-17 20:46:04 and ended at 2025-03-17 20:46:55\n",
            "Clase 1: 93.93% accuracy\n",
            "Clase 1: IoU: 0.7929, Dice: 0.8845\n",
            "Clase 2: 91.58% accuracy\n",
            "Clase 2: IoU: 0.8947, Dice: 0.9444\n",
            "Clase 3: 93.34% accuracy\n",
            "Clase 3: IoU: 0.8520, Dice: 0.9201\n",
            "Clase 4: 82.34% accuracy\n",
            "Clase 4: IoU: 0.6793, Dice: 0.8090\n",
            "Clase 5: 62.31% accuracy\n",
            "Clase 5: IoU: 0.3946, Dice: 0.5659\n",
            "Clase 6: 91.40% accuracy\n",
            "Clase 6: IoU: 0.6486, Dice: 0.7868\n",
            "Clase 7: 66.12% accuracy\n",
            "Clase 7: IoU: 0.4234, Dice: 0.5949\n",
            "Clase 8: 63.43% accuracy\n",
            "Clase 8: IoU: 0.6058, Dice: 0.7545\n",
            "Clase 9: 82.00% accuracy\n",
            "Clase 9: IoU: 0.5457, Dice: 0.7061\n",
            "Clase 10: 90.50% accuracy\n",
            "Clase 10: IoU: 0.7877, Dice: 0.8812\n",
            "Clase 11: 58.99% accuracy\n",
            "Clase 11: IoU: 0.3288, Dice: 0.4949\n",
            "Mejor modelo guardado con Loss: 0.2770\n"
          ]
        },
        {
          "data": {
            "image/png": "[encoded data removed]",
            "text/plain": [
              "<Figure size 1000x800 with 2 Axes>"
            ]
          },
          "metadata": {},
          "output_type": "display_data"
        }
      ],
      "source": [
        "\n",
        "\n",
        "train()\n",
        "\n",
        "writer.close()"
      ]
    },
    {
      "cell_type": "code",
      "execution_count": null,
      "id": "iuViLhXdhmsX",
      "metadata": {
        "id": "iuViLhXdhmsX"
      },
      "outputs": [],
      "source": []
    },
    {
      "cell_type": "code",
      "execution_count": null,
      "id": "dyGHmg3YhmpZ",
      "metadata": {
        "id": "dyGHmg3YhmpZ"
      },
      "outputs": [],
      "source": []
    },
    {
      "cell_type": "code",
      "execution_count": null,
      "id": "PXfzUryThmm9",
      "metadata": {
        "id": "PXfzUryThmm9"
      },
      "outputs": [],
      "source": []
    }
  ],
  "metadata": {
    "accelerator": "GPU",
    "colab": {
      "gpuType": "A100",
      "name": "admin (Mar 17, 2025, 2:00:46 PM)",
      "provenance": []
    },
    "kernelspec": {
      "display_name": "Python 3",
      "language": "python",
      "name": "python3"
    },
    "language_info": {
      "codemirror_mode": {
        "name": "ipython",
        "version": 3
      },
      "file_extension": ".py",
      "mimetype": "text/x-python",
      "name": "python",
      "nbconvert_exporter": "python",
      "pygments_lexer": "ipython3",
      "version": "3.10.10"
    }
  },
  "nbformat": 4,
  "nbformat_minor": 5
}
